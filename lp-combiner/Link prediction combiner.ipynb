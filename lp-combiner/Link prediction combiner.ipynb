{
 "cells": [
  {
   "cell_type": "markdown",
   "id": "90adfce1",
   "metadata": {
    "colab_type": "text",
    "id": "view-in-github"
   },
   "source": [
    "<a href=\"https://colab.research.google.com/github/tomasonjo/blogs/blob/master/lp-combiner/Link%20prediction%20combiner.ipynb\" target=\"_parent\"><img src=\"https://colab.research.google.com/assets/colab-badge.svg\" alt=\"Open In Colab\"/></a>"
   ]
  },
  {
   "cell_type": "markdown",
   "id": "R5pT-OxY1qCZ",
   "metadata": {
    "id": "R5pT-OxY1qCZ"
   },
   "source": [
    "* Updated to GDS 2.0 version\n",
    "* Link to original blog post: https://towardsdatascience.com/a-deep-dive-into-neo4j-link-prediction-pipeline-and-fastrp-embedding-algorithm-bf244aeed50d"
   ]
  },
  {
   "cell_type": "code",
   "execution_count": 2,
   "id": "UOOmOa2513GX",
   "metadata": {
    "colab": {
     "base_uri": "https://localhost:8080/"
    },
    "id": "UOOmOa2513GX",
    "outputId": "2042fec8-e7d7-4716-c097-446fa698eb16"
   },
   "outputs": [
    {
     "name": "stdout",
     "output_type": "stream",
     "text": [
      "Collecting neo4j\n",
      "  Downloading neo4j-4.4.2.tar.gz (89 kB)\n",
      "\u001b[?25l\r",
      "\u001b[K     |███▋                            | 10 kB 17.6 MB/s eta 0:00:01\r",
      "\u001b[K     |███████▎                        | 20 kB 6.0 MB/s eta 0:00:01\r",
      "\u001b[K     |███████████                     | 30 kB 8.0 MB/s eta 0:00:01\r",
      "\u001b[K     |██████████████▋                 | 40 kB 9.9 MB/s eta 0:00:01\r",
      "\u001b[K     |██████████████████▎             | 51 kB 5.4 MB/s eta 0:00:01\r",
      "\u001b[K     |██████████████████████          | 61 kB 6.3 MB/s eta 0:00:01\r",
      "\u001b[K     |█████████████████████████▋      | 71 kB 7.2 MB/s eta 0:00:01\r",
      "\u001b[K     |█████████████████████████████▎  | 81 kB 5.7 MB/s eta 0:00:01\r",
      "\u001b[K     |████████████████████████████████| 89 kB 3.9 MB/s \n",
      "\u001b[?25hRequirement already satisfied: pytz in /usr/local/lib/python3.7/dist-packages (from neo4j) (2018.9)\n",
      "Building wheels for collected packages: neo4j\n",
      "  Building wheel for neo4j (setup.py) ... \u001b[?25l\u001b[?25hdone\n",
      "  Created wheel for neo4j: filename=neo4j-4.4.2-py3-none-any.whl size=115365 sha256=b12b1a7e7947731aeaf41cb94259b9dc369d5064b5032312e908525ac59cf703\n",
      "  Stored in directory: /root/.cache/pip/wheels/10/d6/28/95029d7f69690dbc3b93e4933197357987de34fbd44b50a0e4\n",
      "Successfully built neo4j\n",
      "Installing collected packages: neo4j\n",
      "Successfully installed neo4j-4.4.2\n"
     ]
    }
   ],
   "source": [
    "!pip install neo4j"
   ]
  },
  {
   "cell_type": "code",
   "execution_count": 1,
   "id": "8eb262b4",
   "metadata": {
    "id": "8eb262b4"
   },
   "outputs": [],
   "source": [
    "# Define Neo4j connections\n",
    "import pandas as pd\n",
    "from neo4j import GraphDatabase\n",
    "host = 'bolt://44.193.28.203:7687'\n",
    "user = 'neo4j'\n",
    "password = 'combatants-coordinates-tugs'\n",
    "driver = GraphDatabase.driver(host,auth=(user, password))\n",
    "\n",
    "def run_query(query, params={}):\n",
    "    with driver.session() as session:\n",
    "        result = session.run(query, params)\n",
    "        return pd.DataFrame([r.values() for r in result], columns=result.keys())"
   ]
  },
  {
   "cell_type": "markdown",
   "id": "4824ecc6",
   "metadata": {
    "id": "4824ecc6"
   },
   "source": [
    "# A deep dive into Neo4j Link Prediction pipeline and FastRP embedding algorithm\n",
    "### Learn how to train and optimize Link Prediction models in the Neo4j Graph Data Science library to get the best results\n",
    "In my previous blog post, I introduced the newly available Link Prediction pipeline in the Neo4j Graph Data Science library. Since the post, I took more time to dig deeper and learn the inner workings of the pipeline. I've learned a couple of things along the way that I want to share with you. At first, I intended to show how the Link Prediction pipeline combines node properties to generate input features of the Link Prediction model. However, when I was developing the content, I noticed a couple of insights about using the FastRP embedding algorithm. Therefore, by the end of this blog post, you will hopefully learn more about the FastRP embedding model and how you can combine multiple node features as an input to the Link Prediction model.\n",
    "# Graph import\n",
    "I had to find a small network so I easily visualize results as we go along. I decided to use the interaction network from the first season of the Game of Thrones TV show made available by Andrew Beveridge.\n",
    "The graph model consists of characters and their interactions. We will treat the interaction relationship as undirected, where is character A interacts with character B, this directly implies that character B also interacted with character A. We also know how many times two characters interacted, and we store that information as the relationship property.\n",
    "If you want to follow along with examples in this post, I recommend using a Blank project in Neo4j Sandbox. It is a free cloud instance of Neo4j database that comes pre-installed with both APOC and Graph Data Science plugins.\n",
    "The dataset is available on GitHub, so we can easily import it into Neo4j with the following Cypher query:"
   ]
  },
  {
   "cell_type": "code",
   "execution_count": 2,
   "id": "d115c636",
   "metadata": {
    "colab": {
     "base_uri": "https://localhost:8080/",
     "height": 49
    },
    "id": "d115c636",
    "outputId": "789632d3-9b8d-4d36-c473-367576b371b0"
   },
   "outputs": [
    {
     "data": {
      "text/html": [
       "<div>\n",
       "<style scoped>\n",
       "    .dataframe tbody tr th:only-of-type {\n",
       "        vertical-align: middle;\n",
       "    }\n",
       "\n",
       "    .dataframe tbody tr th {\n",
       "        vertical-align: top;\n",
       "    }\n",
       "\n",
       "    .dataframe thead th {\n",
       "        text-align: right;\n",
       "    }\n",
       "</style>\n",
       "<table border=\"1\" class=\"dataframe\">\n",
       "  <thead>\n",
       "    <tr style=\"text-align: right;\">\n",
       "      <th></th>\n",
       "    </tr>\n",
       "  </thead>\n",
       "  <tbody>\n",
       "  </tbody>\n",
       "</table>\n",
       "</div>"
      ],
      "text/plain": [
       "Empty DataFrame\n",
       "Columns: []\n",
       "Index: []"
      ]
     },
     "execution_count": 2,
     "metadata": {},
     "output_type": "execute_result"
    }
   ],
   "source": [
    "run_query(\"\"\"\n",
    "LOAD CSV WITH HEADERS FROM \"https://raw.githubusercontent.com/mathbeveridge/gameofthrones/master/data/got-s1-edges.csv\" as row\n",
    "MERGE (s:Character{name:row.Source})\n",
    "MERGE (t:Character{name:row.Target})\n",
    "MERGE (s)-[i:INTERACTS]-(t)\n",
    "SET i.weight = toInteger(row.Weight)\n",
    "\"\"\")"
   ]
  },
  {
   "cell_type": "markdown",
   "id": "0c3b0550",
   "metadata": {
    "id": "0c3b0550"
   },
   "source": [
    "Link prediction pipeline\n",
    "Under the hood, the link prediction model in Neo4j uses a logistic regression classifier. We are dealing with a binary classification problem, where we want to predict if a link exists between a pair of nodes or not. On a high level, the link prediction pipeline follows the following steps:\n",
    "* Node Feature engineering\n",
    "* Link Feature combiner\n",
    "* Model training\n",
    "* Predict new links \n",
    "\n",
    "In this post, we will focus on the first two steps.\n",
    "As a first step, you have to define node features. For example, you could use custom node properties such as age or gender. You can also use graph algorithms such as PageRank or Betweenness centrality as initial node features. In this blog post, we will start by using FastRP node embeddings to define initial node features. The nice thing about the FastRP embedding algorithm is that it captures the network information and preserves the similarity in embedding space between neighboring nodes that are close in a graph. At the moment, you can't use pairwise information such as the number of common neighbors or the length of the shortest path between a pair of nodes as input features.\n",
    "In the second step, the link feature combiner creates a single feature from a pair of node properties. Currently, there are three techniques that you can use to combine a pair of node properties into a single link feature vector:\n",
    "* Cosine distance\n",
    "* L2 or Euclidian distance\n",
    "* Hadamard product\n",
    "\n",
    "All the available link feature combiner techniques are order-invariant as the Link Prediction pipeline supports predicting only undirected relationships at the moment. You can use multiple link feature combiners in a single pipeline to define several feature vectors, which are then concatenated as an input to the Link Prediction model. I'll walk you through an example later in the post.\n",
    "Once the node features and link feature combiner are defined, you can train the model to predict new connections.\n",
    "# Node Feature engineering\n",
    "You can preprocess node features before defining the Link Prediction pipeline. You can also include them directly in the pipeline definition if you only use graph algorithms such as node embeddings or centrality measures as node features. In the first example, we will use the FastRP embeddings as our Link Prediction model node features. Therefore, we could potentially include them in the pipeline definition. However, we will first do a short analysis of the node embedding results, so we need to store the node embeddings to the graph before diving into the pipeline definition. We start by projecting an undirected named graph. Take a look at the documentation for more information about the inner workings of the Graph Data Science library."
   ]
  },
  {
   "cell_type": "code",
   "execution_count": 3,
   "id": "f9ee72e1",
   "metadata": {
    "colab": {
     "base_uri": "https://localhost:8080/",
     "height": 81
    },
    "id": "f9ee72e1",
    "outputId": "1ba2ee13-34da-4f9f-ea9e-06eeb60f9f6f"
   },
   "outputs": [
    {
     "data": {
      "text/html": [
       "<div>\n",
       "<style scoped>\n",
       "    .dataframe tbody tr th:only-of-type {\n",
       "        vertical-align: middle;\n",
       "    }\n",
       "\n",
       "    .dataframe tbody tr th {\n",
       "        vertical-align: top;\n",
       "    }\n",
       "\n",
       "    .dataframe thead th {\n",
       "        text-align: right;\n",
       "    }\n",
       "</style>\n",
       "<table border=\"1\" class=\"dataframe\">\n",
       "  <thead>\n",
       "    <tr style=\"text-align: right;\">\n",
       "      <th></th>\n",
       "      <th>nodeProjection</th>\n",
       "      <th>relationshipProjection</th>\n",
       "      <th>graphName</th>\n",
       "      <th>nodeCount</th>\n",
       "      <th>relationshipCount</th>\n",
       "      <th>projectMillis</th>\n",
       "    </tr>\n",
       "  </thead>\n",
       "  <tbody>\n",
       "    <tr>\n",
       "      <th>0</th>\n",
       "      <td>{'Character': {'label': 'Character', 'properti...</td>\n",
       "      <td>{'INTERACTS': {'orientation': 'UNDIRECTED', 'i...</td>\n",
       "      <td>gots1</td>\n",
       "      <td>126</td>\n",
       "      <td>1098</td>\n",
       "      <td>11</td>\n",
       "    </tr>\n",
       "  </tbody>\n",
       "</table>\n",
       "</div>"
      ],
      "text/plain": [
       "                                      nodeProjection  \\\n",
       "0  {'Character': {'label': 'Character', 'properti...   \n",
       "\n",
       "                              relationshipProjection graphName  nodeCount  \\\n",
       "0  {'INTERACTS': {'orientation': 'UNDIRECTED', 'i...     gots1        126   \n",
       "\n",
       "   relationshipCount  projectMillis  \n",
       "0               1098             11  "
      ]
     },
     "execution_count": 3,
     "metadata": {},
     "output_type": "execute_result"
    }
   ],
   "source": [
    "run_query(\"\"\"\n",
    "CALL gds.graph.project('gots1', 'Character', {INTERACTS:{orientation:'UNDIRECTED', properties:'weight'}})\n",
    "\"\"\")"
   ]
  },
  {
   "cell_type": "markdown",
   "id": "13fa96bc",
   "metadata": {
    "id": "13fa96bc"
   },
   "source": [
    "We will use Louvain, a community detection algorithm, to help us better understand the results of the FastRP embedding algorithm. You can use the following Cypher query to store the community structure information back to the database."
   ]
  },
  {
   "cell_type": "code",
   "execution_count": 4,
   "id": "28e06535",
   "metadata": {
    "colab": {
     "base_uri": "https://localhost:8080/",
     "height": 142
    },
    "id": "28e06535",
    "outputId": "1f937ace-c7a8-473c-9259-8a9fcb580a63"
   },
   "outputs": [
    {
     "data": {
      "text/html": [
       "<div>\n",
       "<style scoped>\n",
       "    .dataframe tbody tr th:only-of-type {\n",
       "        vertical-align: middle;\n",
       "    }\n",
       "\n",
       "    .dataframe tbody tr th {\n",
       "        vertical-align: top;\n",
       "    }\n",
       "\n",
       "    .dataframe thead th {\n",
       "        text-align: right;\n",
       "    }\n",
       "</style>\n",
       "<table border=\"1\" class=\"dataframe\">\n",
       "  <thead>\n",
       "    <tr style=\"text-align: right;\">\n",
       "      <th></th>\n",
       "      <th>writeMillis</th>\n",
       "      <th>nodePropertiesWritten</th>\n",
       "      <th>modularity</th>\n",
       "      <th>modularities</th>\n",
       "      <th>ranLevels</th>\n",
       "      <th>communityCount</th>\n",
       "      <th>communityDistribution</th>\n",
       "      <th>postProcessingMillis</th>\n",
       "      <th>preProcessingMillis</th>\n",
       "      <th>computeMillis</th>\n",
       "      <th>configuration</th>\n",
       "    </tr>\n",
       "  </thead>\n",
       "  <tbody>\n",
       "    <tr>\n",
       "      <th>0</th>\n",
       "      <td>114</td>\n",
       "      <td>126</td>\n",
       "      <td>0.52832</td>\n",
       "      <td>[0.4918027508950885, 0.5283200895726703]</td>\n",
       "      <td>2</td>\n",
       "      <td>7</td>\n",
       "      <td>{'p99': 47, 'min': 2, 'max': 47, 'mean': 18.0,...</td>\n",
       "      <td>3</td>\n",
       "      <td>0</td>\n",
       "      <td>844</td>\n",
       "      <td>{'maxIterations': 10, 'writeConcurrency': 4, '...</td>\n",
       "    </tr>\n",
       "  </tbody>\n",
       "</table>\n",
       "</div>"
      ],
      "text/plain": [
       "   writeMillis  nodePropertiesWritten  modularity  \\\n",
       "0          114                    126     0.52832   \n",
       "\n",
       "                               modularities  ranLevels  communityCount  \\\n",
       "0  [0.4918027508950885, 0.5283200895726703]          2               7   \n",
       "\n",
       "                               communityDistribution  postProcessingMillis  \\\n",
       "0  {'p99': 47, 'min': 2, 'max': 47, 'mean': 18.0,...                     3   \n",
       "\n",
       "   preProcessingMillis  computeMillis  \\\n",
       "0                    0            844   \n",
       "\n",
       "                                       configuration  \n",
       "0  {'maxIterations': 10, 'writeConcurrency': 4, '...  "
      ]
     },
     "execution_count": 4,
     "metadata": {},
     "output_type": "execute_result"
    }
   ],
   "source": [
    "run_query(\"\"\"\n",
    "CALL gds.louvain.write('gots1', {writeProperty:'louvain', relationshipWeightProperty:'weight'})\n",
    "\"\"\")"
   ]
  },
  {
   "cell_type": "markdown",
   "id": "41a45d6c",
   "metadata": {
    "id": "41a45d6c"
   },
   "source": [
    "Throughout this blog post, I will be using Neo4j Bloom to visualize the results of algorithms and link predictions. Take a look at this guide if you want to learn how to visualize networks with Bloom.\n",
    "\n",
    "Now we can go ahead and execute the FastRP embedding algorithm. The algorithm will produce an embedding or a fixed-size vector for every node in the graph. My friend CJ Sullivan wrote an [excellent article](https://towardsdatascience.com/behind-the-scenes-on-the-fast-random-projection-algorithm-for-generating-graph-embeddings-efb1db0895) explaining the inner working of the FastRP algorithm."
   ]
  },
  {
   "cell_type": "code",
   "execution_count": 5,
   "id": "e3d2d3f9",
   "metadata": {
    "colab": {
     "base_uri": "https://localhost:8080/",
     "height": 81
    },
    "id": "e3d2d3f9",
    "outputId": "634448a1-0fc1-4bb2-e18f-58731bcb2a22"
   },
   "outputs": [
    {
     "data": {
      "text/html": [
       "<div>\n",
       "<style scoped>\n",
       "    .dataframe tbody tr th:only-of-type {\n",
       "        vertical-align: middle;\n",
       "    }\n",
       "\n",
       "    .dataframe tbody tr th {\n",
       "        vertical-align: top;\n",
       "    }\n",
       "\n",
       "    .dataframe thead th {\n",
       "        text-align: right;\n",
       "    }\n",
       "</style>\n",
       "<table border=\"1\" class=\"dataframe\">\n",
       "  <thead>\n",
       "    <tr style=\"text-align: right;\">\n",
       "      <th></th>\n",
       "      <th>nodeCount</th>\n",
       "      <th>nodePropertiesWritten</th>\n",
       "      <th>preProcessingMillis</th>\n",
       "      <th>computeMillis</th>\n",
       "      <th>writeMillis</th>\n",
       "      <th>configuration</th>\n",
       "    </tr>\n",
       "  </thead>\n",
       "  <tbody>\n",
       "    <tr>\n",
       "      <th>0</th>\n",
       "      <td>126</td>\n",
       "      <td>126</td>\n",
       "      <td>0</td>\n",
       "      <td>14</td>\n",
       "      <td>24</td>\n",
       "      <td>{'writeConcurrency': 4, 'nodeSelfInfluence': 0...</td>\n",
       "    </tr>\n",
       "  </tbody>\n",
       "</table>\n",
       "</div>"
      ],
      "text/plain": [
       "   nodeCount  nodePropertiesWritten  preProcessingMillis  computeMillis  \\\n",
       "0        126                    126                    0             14   \n",
       "\n",
       "   writeMillis                                      configuration  \n",
       "0           24  {'writeConcurrency': 4, 'nodeSelfInfluence': 0...  "
      ]
     },
     "execution_count": 5,
     "metadata": {},
     "output_type": "execute_result"
    }
   ],
   "source": [
    "run_query(\"\"\"\n",
    "CALL gds.fastRP.write('gots1', {writeProperty:'embedding', embeddingDimension:56, relationshipWeightProperty:'weight'})\n",
    "\"\"\")"
   ]
  },
  {
   "cell_type": "markdown",
   "id": "a37ee29e",
   "metadata": {
    "id": "a37ee29e"
   },
   "source": [
    "First, we will evaluate FastRP embeddings with a t-SNE scatter plot visualization. The stored node embeddings are vectors with a length of 56, as defined by the embeddingDimension parameter. The t-SNE algorithm is a dimensionality reduction algorithm, which we can use to reduce the embedding dimension to two. Having vectors with length two allows us to visualize them with a scatter plot. The Python code I used for dimensionality reduction and scatter plot visualization is:"
   ]
  },
  {
   "cell_type": "code",
   "execution_count": 6,
   "id": "b3211215",
   "metadata": {
    "id": "b3211215"
   },
   "outputs": [],
   "source": [
    "from sklearn.manifold import TSNE\n",
    "from matplotlib import pyplot as plt\n",
    "import seaborn as sns\n",
    "\n",
    "\n",
    "def tsne(embeddings, hue=None):\n",
    "    tsne = TSNE(n_components=2, n_iter=300)\n",
    "    tsne_results = tsne.fit_transform(embeddings['embedding'].to_list())\n",
    "\n",
    "    embeddings['tsne_x'] = [x[0] for x in list(tsne_results)]\n",
    "    embeddings['tsne_y'] = [x[1] for x in list(tsne_results)]\n",
    "\n",
    "    plt.figure(figsize=(16,10))\n",
    "    sns.scatterplot(\n",
    "        x=\"tsne_x\", y=\"tsne_y\",\n",
    "        hue=hue,\n",
    "        palette=\"deep\",\n",
    "        data=embeddings,\n",
    "        legend=\"full\",\n",
    "        alpha=0.9\n",
    "    )\n",
    "    # Add captions\n",
    "    #for i in range(embeddings.shape[0]):\n",
    "    #    plt.text(x=embeddings['tsne_x'][i]+0.3,y=embeddings['tsne_y'][i]+0.3,s=embeddings.character[i], \n",
    "    #          fontdict=dict(color='black',size=10),)"
   ]
  },
  {
   "cell_type": "code",
   "execution_count": 7,
   "id": "a792ad8b",
   "metadata": {
    "id": "a792ad8b"
   },
   "outputs": [],
   "source": [
    "tsne_input = run_query(\"\"\"\n",
    "MATCH (c:Character)\n",
    "RETURN c.name as character, c.embedding as embedding, c.louvain as hue \n",
    "\"\"\")"
   ]
  },
  {
   "cell_type": "code",
   "execution_count": 8,
   "id": "84a90a1c",
   "metadata": {
    "colab": {
     "base_uri": "https://localhost:8080/",
     "height": 675
    },
    "id": "84a90a1c",
    "outputId": "6b0a0cd5-4bf1-4216-c378-5d7cfc2e2864"
   },
   "outputs": [
    {
     "name": "stderr",
     "output_type": "stream",
     "text": [
      "/home/tomaz/.local/lib/python3.8/site-packages/sklearn/manifold/_t_sne.py:795: FutureWarning: The default initialization in TSNE will change from 'random' to 'pca' in 1.2.\n",
      "  warnings.warn(\n",
      "/home/tomaz/.local/lib/python3.8/site-packages/sklearn/manifold/_t_sne.py:805: FutureWarning: The default learning rate in TSNE will change from 200.0 to 'auto' in 1.2.\n",
      "  warnings.warn(\n"
     ]
    },
    {
     "data": {
      "image/png": "[encoded data removed]",
      "text/plain": [
       "<Figure size 1152x720 with 1 Axes>"
      ]
     },
     "metadata": {
      "needs_background": "light"
     },
     "output_type": "display_data"
    }
   ],
   "source": [
    "tsne(tsne_input, 'hue')"
   ]
  },
  {
   "cell_type": "markdown",
   "id": "a31814a8",
   "metadata": {
    "id": "a31814a8"
   },
   "source": [
    "FastRP embeddings and the Louvain algorithm were executed independently, and yet, we can observe that FastRP embeddings cluster nodes in the same community close in the embedding space. This is no surprise as FastRP is a community-based node embedding algorithm, meaning that nodes close in the graph will be also close in the embedding space. Next, we will evaluate the cosine similarity between nodes in the graph."
   ]
  },
  {
   "cell_type": "code",
   "execution_count": 9,
   "id": "uItwHO-c2WRT",
   "metadata": {
    "colab": {
     "base_uri": "https://localhost:8080/",
     "height": 81
    },
    "id": "uItwHO-c2WRT",
    "outputId": "ee004136-2a40-47e1-b73b-29b2b36a400a"
   },
   "outputs": [
    {
     "data": {
      "text/html": [
       "<div>\n",
       "<style scoped>\n",
       "    .dataframe tbody tr th:only-of-type {\n",
       "        vertical-align: middle;\n",
       "    }\n",
       "\n",
       "    .dataframe tbody tr th {\n",
       "        vertical-align: top;\n",
       "    }\n",
       "\n",
       "    .dataframe thead th {\n",
       "        text-align: right;\n",
       "    }\n",
       "</style>\n",
       "<table border=\"1\" class=\"dataframe\">\n",
       "  <thead>\n",
       "    <tr style=\"text-align: right;\">\n",
       "      <th></th>\n",
       "      <th>nodeProjection</th>\n",
       "      <th>relationshipProjection</th>\n",
       "      <th>graphName</th>\n",
       "      <th>nodeCount</th>\n",
       "      <th>relationshipCount</th>\n",
       "      <th>projectMillis</th>\n",
       "    </tr>\n",
       "  </thead>\n",
       "  <tbody>\n",
       "    <tr>\n",
       "      <th>0</th>\n",
       "      <td>{'Character': {'label': 'Character', 'properti...</td>\n",
       "      <td>{'__ALL__': {'orientation': 'NATURAL', 'indexI...</td>\n",
       "      <td>knn</td>\n",
       "      <td>126</td>\n",
       "      <td>549</td>\n",
       "      <td>23</td>\n",
       "    </tr>\n",
       "  </tbody>\n",
       "</table>\n",
       "</div>"
      ],
      "text/plain": [
       "                                      nodeProjection  \\\n",
       "0  {'Character': {'label': 'Character', 'properti...   \n",
       "\n",
       "                              relationshipProjection graphName  nodeCount  \\\n",
       "0  {'__ALL__': {'orientation': 'NATURAL', 'indexI...       knn        126   \n",
       "\n",
       "   relationshipCount  projectMillis  \n",
       "0                549             23  "
      ]
     },
     "execution_count": 9,
     "metadata": {},
     "output_type": "execute_result"
    }
   ],
   "source": [
    "run_query(\"\"\"\n",
    "CALL gds.graph.project('knn', 'Character', '*', {nodeProperties:['embedding']})\n",
    "\"\"\")"
   ]
  },
  {
   "cell_type": "code",
   "execution_count": 10,
   "id": "fL9bP3522Ym-",
   "metadata": {
    "colab": {
     "base_uri": "https://localhost:8080/"
    },
    "id": "fL9bP3522Ym-",
    "outputId": "e0e76b87-0f1e-4d48-f48e-38e804cbf82b"
   },
   "outputs": [
    {
     "data": {
      "text/plain": [
       "{'p1': 0.4658985137939453,\n",
       " 'max': 1.0000057220458984,\n",
       " 'p5': 0.49489784240722656,\n",
       " 'p90': 0.9789714813232422,\n",
       " 'p50': 0.7059078216552734,\n",
       " 'p95': 0.9907131195068359,\n",
       " 'p10': 0.5113391876220703,\n",
       " 'p75': 0.8725299835205078,\n",
       " 'p99': 0.9972286224365234,\n",
       " 'p25': 0.5559902191162109,\n",
       " 'p100': 1.0000057220458984,\n",
       " 'min': 0.40580177307128906,\n",
       " 'mean': 0.7212781183151972,\n",
       " 'stdDev': 0.17346463743052318}"
      ]
     },
     "execution_count": 10,
     "metadata": {},
     "output_type": "execute_result"
    }
   ],
   "source": [
    "run_query(\"\"\"\n",
    "CALL gds.knn.stats('knn', {nodeProperties:'embedding', topK: 1000, similarityCutoff:0.1})\n",
    "YIELD similarityDistribution\n",
    "\"\"\")['similarityDistribution'][0]"
   ]
  },
  {
   "cell_type": "markdown",
   "id": "c7b99752",
   "metadata": {
    "id": "c7b99752"
   },
   "source": [
    "An average cosine similarity coefficient between all nodes in the graph is around 0.7. Nodes are so similar in the embedding space because we have a tiny graph of only 126 nodes. Next, we will evaluate the cosine and euclidian distance between pairs of nodes connected by a relationship."
   ]
  },
  {
   "cell_type": "code",
   "execution_count": 11,
   "id": "e89d4c7d",
   "metadata": {
    "colab": {
     "base_uri": "https://localhost:8080/",
     "height": 386
    },
    "id": "e89d4c7d",
    "outputId": "4fff9425-7718-4839-9b32-74907f20bb8a"
   },
   "outputs": [
    {
     "data": {
      "text/plain": [
       "<seaborn.axisgrid.FacetGrid at 0x7f23ea906bb0>"
      ]
     },
     "execution_count": 11,
     "metadata": {},
     "output_type": "execute_result"
    },
    {
     "data": {
      "image/png": "[encoded data removed]",
      "text/plain": [
       "<Figure size 720x360 with 2 Axes>"
      ]
     },
     "metadata": {
      "needs_background": "light"
     },
     "output_type": "display_data"
    }
   ],
   "source": [
    "df = run_query(\"\"\"\n",
    "MATCH (c1:Character)-[:INTERACTS]->(c2:Character)\n",
    "RETURN gds.similarity.euclideanDistance(c1.embedding, c2.embedding) AS distance, 'euclidian' as metric\n",
    "UNION\n",
    "MATCH (c1:Character)-[:INTERACTS]->(c2:Character)\n",
    "RETURN gds.similarity.cosine(c1.embedding, c2.embedding) AS distance, 'cosine' as metric\n",
    "\"\"\")\n",
    "\n",
    "sns.displot(data=df, x='distance', col='metric')"
   ]
  },
  {
   "cell_type": "markdown",
   "id": "c11725d2",
   "metadata": {
    "id": "c11725d2"
   },
   "source": [
    "Most node pairs that are connected with a relationship have a high cosine similarity. Again, this is expected as the FastRP is designed to translate the network topology structure into embedding space. Therefore, we expect the neighboring nodes in the graph to be very similar in the embedding space. We will examine the node pairs connected in the network with a cosine similarity of less than 0.5 as this is a bit more unexpected. First, we have to tag them with Cypher:"
   ]
  },
  {
   "cell_type": "code",
   "execution_count": 12,
   "id": "52687f6e",
   "metadata": {
    "colab": {
     "base_uri": "https://localhost:8080/",
     "height": 49
    },
    "id": "52687f6e",
    "outputId": "bfc9660d-2a7a-43f0-86e5-7e82cc91f32a"
   },
   "outputs": [
    {
     "data": {
      "text/html": [
       "<div>\n",
       "<style scoped>\n",
       "    .dataframe tbody tr th:only-of-type {\n",
       "        vertical-align: middle;\n",
       "    }\n",
       "\n",
       "    .dataframe tbody tr th {\n",
       "        vertical-align: top;\n",
       "    }\n",
       "\n",
       "    .dataframe thead th {\n",
       "        text-align: right;\n",
       "    }\n",
       "</style>\n",
       "<table border=\"1\" class=\"dataframe\">\n",
       "  <thead>\n",
       "    <tr style=\"text-align: right;\">\n",
       "      <th></th>\n",
       "    </tr>\n",
       "  </thead>\n",
       "  <tbody>\n",
       "  </tbody>\n",
       "</table>\n",
       "</div>"
      ],
      "text/plain": [
       "Empty DataFrame\n",
       "Columns: []\n",
       "Index: []"
      ]
     },
     "execution_count": 12,
     "metadata": {},
     "output_type": "execute_result"
    }
   ],
   "source": [
    "run_query(\"\"\"\n",
    "MATCH p=(c1:Character)-[i:INTERACTS]->(c2:Character)\n",
    "WHERE gds.similarity.cosine(c1.embedding, c2.embedding) < 0.5\n",
    "SET i.show = True\n",
    "\"\"\")"
   ]
  },
  {
   "cell_type": "markdown",
   "id": "c8dd6d88",
   "metadata": {
    "id": "c8dd6d88"
   },
   "source": [
    "It seems that pairs of connected nodes with a lower cosine similarity mainly occur when we have connections between various clusters or communities in the network. If you remember the t-SNE visualization, the nodes in the same community are nicely grouped in the embedding space. However, we have a couple of relationships between nodes from different communities. When we have connections between nodes from various communities, their similarity decreases. It also seems that these nodes have a higher degree, meaning they have many links within their community and then a couple of links to other communities. Therefore, they are more similar to neighbors within their community and then less similar to neighbors from other clusters.\n",
    "# Link Feature Combiner\n",
    "We've got the embeddings ready, and we know that pairs of connected nodes are highly likely to have a high cosine similarity in the embedding space. Now, we will evaluate how different link feature combiners affect the output of the link prediction model.\n",
    "## Cosine combiner\n",
    "Interestingly enough, the first combiner we will take a look at is the Cosine similarity combiner.\n",
    "Cosine link feature combiner. Image by the author.The Link Feature combiner takes pairs of node features and combines them into a single link feature, which is then used as training data to the logistic regression model that will predict new links. We have already done the cosine similarity analysis, so we know that node pairs with a high cosine similarity are likely to be connected. Therefore, you might imagine that new predicted links will be between pairs of not yet connected nodes with high cosine similarity, as this is precisely how our training data looks.\n",
    "The Python script we will be using to produce link predictions is:"
   ]
  },
  {
   "cell_type": "code",
   "execution_count": 15,
   "id": "6b8e50ff",
   "metadata": {
    "id": "6b8e50ff"
   },
   "outputs": [],
   "source": [
    "def generate_links(combiner, predictedRelType):\n",
    "    # Delete all graph models & drop all named graphs\n",
    "    run_query(\"\"\"\n",
    "    CALL gds.graph.list() YIELD graphName\n",
    "    CALL gds.graph.drop(graphName) YIELD graphName as done\n",
    "    RETURN distinct 'dropped named graphs' as result\n",
    "    UNION\n",
    "    CALL gds.beta.model.list() YIELD modelInfo\n",
    "    CALL gds.beta.model.drop(modelInfo.modelName) YIELD modelInfo as done\n",
    "    RETURN distinct 'dropped ML models' as result\n",
    "    UNION \n",
    "    CALL gds.beta.pipeline.list() YIELD pipelineName\n",
    "    CALL gds.beta.pipeline.drop(pipelineName) YIELD pipelineName AS done\n",
    "    RETURN distinct 'dropped pipelines' AS result\n",
    "    \"\"\")\n",
    "    # Define a new LP pipeline\n",
    "    run_query(\"\"\"\n",
    "    CALL gds.beta.pipeline.linkPrediction.create('lp-pipeline')\n",
    "    \"\"\")\n",
    "    # Define feature combiner\n",
    "    run_query(f\"\"\"\n",
    "    CALL gds.beta.pipeline.linkPrediction.addFeature('lp-pipeline', '{combiner}', {{\n",
    "      nodeProperties: ['embedding']\n",
    "    }}) YIELD featureSteps;\n",
    "    \"\"\")\n",
    "    # Define train-test split\n",
    "    run_query(\"\"\"\n",
    "    CALL gds.beta.pipeline.linkPrediction.configureSplit(\n",
    "     'lp-pipeline', {  \n",
    "       testFraction: 0.3,\n",
    "       trainFraction: 0.6,\n",
    "       validationFolds: 7})\n",
    "    YIELD splitConfig;\n",
    "    \"\"\")\n",
    "    # Configure LP model params\n",
    "    run_query(\"\"\"\n",
    "    CALL gds.beta.pipeline.linkPrediction.addLogisticRegression(\n",
    "      'lp-pipeline',  \n",
    "        {tolerance: 0.001, maxEpochs: 500})\n",
    "    YIELD parameterSpace;\n",
    "    \"\"\")\n",
    "    # Add multiple models\n",
    "    run_query(\"\"\"\n",
    "    CALL gds.beta.pipeline.linkPrediction.addLogisticRegression(\n",
    "      'lp-pipeline',  \n",
    "        {penalty:0.001, tolerance: 0.01,  maxEpochs: 500})\n",
    "    YIELD parameterSpace;\n",
    "    \"\"\")\n",
    "    run_query(\"\"\"\n",
    "    CALL gds.beta.pipeline.linkPrediction.addLogisticRegression(\n",
    "      'lp-pipeline',  \n",
    "        {penalty:0.01, tolerance: 0.01, maxEpochs: 500})\n",
    "    YIELD parameterSpace;\n",
    "    \"\"\")\n",
    "    # Construct named graph\n",
    "    run_query(\"\"\"\n",
    "    CALL gds.graph.project('lp-graph', \n",
    "      'Character', \n",
    "      {INTERACTS:{orientation:'UNDIRECTED'}},\n",
    "      {nodeProperties:'embedding'});\n",
    "    \"\"\")\n",
    "    # Train the model\n",
    "    run_query(\"\"\"\n",
    "    CALL gds.beta.pipeline.linkPrediction.train('lp-graph', \n",
    "  {pipeline: 'lp-pipeline',\n",
    "   modelName: 'lp-model',\n",
    "   randomSeed: 42,\n",
    "   targetRelationshipType:\"INTERACTS\"})\n",
    "    YIELD modelInfo\n",
    "    RETURN  modelInfo.bestParameters AS winningModel,  modelInfo.metrics.AUCPR.outerTrain AS trainGraphScore,  modelInfo.metrics.AUCPR.test AS testGraphScore;\n",
    "    \"\"\")\n",
    "    # Predict new relationships\n",
    "    run_query(\"\"\"\n",
    "    CALL gds.beta.pipeline.linkPrediction.predict.mutate('lp-graph', \n",
    "      {modelName: 'lp-model',  \n",
    "       mutateRelationshipType: 'INTERACTS_PREDICTED',\n",
    "       topN: 20,\n",
    "       threshold: 0.45})\n",
    "    YIELD relationshipsWritten;\n",
    "    \"\"\")\n",
    "    # Store relationships back to graph\n",
    "    predicted_links = run_query(f\"\"\"\n",
    "    CALL gds.graph.streamRelationshipProperty('lp-graph', \n",
    "      'probability', \n",
    "      ['INTERACTS_PREDICTED'])\n",
    "    YIELD  sourceNodeId, targetNodeId, propertyValue as probability\n",
    "    WHERE sourceNodeId < targetNodeId\n",
    "    MATCH (s),(t)\n",
    "    WHERE id(s)=sourceNodeId AND id(t)=targetNodeId\n",
    "    MERGE (s)-[:{predictedRelType}]-(t)\n",
    "    RETURN avg(gds.similarity.euclideanDistance(s.embedding, t.embedding)) AS euclidian_similarity,\n",
    "           avg(gds.similarity.cosine(s.embedding, t.embedding)) AS cosine_similarity\n",
    "           \n",
    "    \"\"\")\n",
    "    return predicted_links"
   ]
  },
  {
   "cell_type": "code",
   "execution_count": 16,
   "id": "3f20eb05",
   "metadata": {
    "colab": {
     "base_uri": "https://localhost:8080/",
     "height": 81
    },
    "id": "3f20eb05",
    "outputId": "1ae5f4cf-e4c6-42b8-ccfe-124f192802ce"
   },
   "outputs": [
    {
     "data": {
      "text/html": [
       "<div>\n",
       "<style scoped>\n",
       "    .dataframe tbody tr th:only-of-type {\n",
       "        vertical-align: middle;\n",
       "    }\n",
       "\n",
       "    .dataframe tbody tr th {\n",
       "        vertical-align: top;\n",
       "    }\n",
       "\n",
       "    .dataframe thead th {\n",
       "        text-align: right;\n",
       "    }\n",
       "</style>\n",
       "<table border=\"1\" class=\"dataframe\">\n",
       "  <thead>\n",
       "    <tr style=\"text-align: right;\">\n",
       "      <th></th>\n",
       "      <th>euclidian_similarity</th>\n",
       "      <th>cosine_similarity</th>\n",
       "    </tr>\n",
       "  </thead>\n",
       "  <tbody>\n",
       "    <tr>\n",
       "      <th>0</th>\n",
       "      <td>0.057312</td>\n",
       "      <td>0.999389</td>\n",
       "    </tr>\n",
       "  </tbody>\n",
       "</table>\n",
       "</div>"
      ],
      "text/plain": [
       "   euclidian_similarity  cosine_similarity\n",
       "0              0.057312           0.999389"
      ]
     },
     "execution_count": 16,
     "metadata": {},
     "output_type": "execute_result"
    }
   ],
   "source": [
    "generate_links('cosine', 'PREDICTED_COSINE')"
   ]
  },
  {
   "cell_type": "code",
   "execution_count": 17,
   "id": "0337e58d",
   "metadata": {
    "colab": {
     "base_uri": "https://localhost:8080/",
     "height": 81
    },
    "id": "0337e58d",
    "outputId": "d92345db-48a1-447d-e8bd-cd20f98cb47a"
   },
   "outputs": [
    {
     "data": {
      "text/html": [
       "<div>\n",
       "<style scoped>\n",
       "    .dataframe tbody tr th:only-of-type {\n",
       "        vertical-align: middle;\n",
       "    }\n",
       "\n",
       "    .dataframe tbody tr th {\n",
       "        vertical-align: top;\n",
       "    }\n",
       "\n",
       "    .dataframe thead th {\n",
       "        text-align: right;\n",
       "    }\n",
       "</style>\n",
       "<table border=\"1\" class=\"dataframe\">\n",
       "  <thead>\n",
       "    <tr style=\"text-align: right;\">\n",
       "      <th></th>\n",
       "      <th>euclidian_similarity</th>\n",
       "      <th>cosine_similarity</th>\n",
       "    </tr>\n",
       "  </thead>\n",
       "  <tbody>\n",
       "    <tr>\n",
       "      <th>0</th>\n",
       "      <td>0.049519</td>\n",
       "      <td>0.999198</td>\n",
       "    </tr>\n",
       "  </tbody>\n",
       "</table>\n",
       "</div>"
      ],
      "text/plain": [
       "   euclidian_similarity  cosine_similarity\n",
       "0              0.049519           0.999198"
      ]
     },
     "execution_count": 17,
     "metadata": {},
     "output_type": "execute_result"
    }
   ],
   "source": [
    "generate_links('l2', 'PREDICTED_L2')"
   ]
  },
  {
   "cell_type": "code",
   "execution_count": 18,
   "id": "5bf881f6",
   "metadata": {
    "colab": {
     "base_uri": "https://localhost:8080/",
     "height": 81
    },
    "id": "5bf881f6",
    "outputId": "3985d3b8-41b1-4713-961d-be15860629af"
   },
   "outputs": [
    {
     "data": {
      "text/html": [
       "<div>\n",
       "<style scoped>\n",
       "    .dataframe tbody tr th:only-of-type {\n",
       "        vertical-align: middle;\n",
       "    }\n",
       "\n",
       "    .dataframe tbody tr th {\n",
       "        vertical-align: top;\n",
       "    }\n",
       "\n",
       "    .dataframe thead th {\n",
       "        text-align: right;\n",
       "    }\n",
       "</style>\n",
       "<table border=\"1\" class=\"dataframe\">\n",
       "  <thead>\n",
       "    <tr style=\"text-align: right;\">\n",
       "      <th></th>\n",
       "      <th>euclidian_similarity</th>\n",
       "      <th>cosine_similarity</th>\n",
       "    </tr>\n",
       "  </thead>\n",
       "  <tbody>\n",
       "    <tr>\n",
       "      <th>0</th>\n",
       "      <td>0.236127</td>\n",
       "      <td>0.992384</td>\n",
       "    </tr>\n",
       "  </tbody>\n",
       "</table>\n",
       "</div>"
      ],
      "text/plain": [
       "   euclidian_similarity  cosine_similarity\n",
       "0              0.236127           0.992384"
      ]
     },
     "execution_count": 18,
     "metadata": {},
     "output_type": "execute_result"
    }
   ],
   "source": [
    "generate_links('hadamard', 'PREDICTED_HADAMARD')"
   ]
  },
  {
   "cell_type": "markdown",
   "id": "f84e030d",
   "metadata": {
    "id": "f84e030d"
   },
   "source": [
    "# Using multiple Link Feature Combiners\n",
    "In the previous example, we have only used a single link feature combiner. In the case of Cosine or L2 link feature combiner, we have effectively only used a single input feature to the logistic regression model. In practice, it makes sense to have multiple input features that best describe your domain. As a demonstration, we will add the Preferential attachment input as the second link feature. Looking at the documentation in Neo4j, the Preferential attachment is defined as multiplying node degrees between a pair of nodes. In practice, the preferential attachment model assumes that nodes with a higher node degree are more likely to form new connections. Unfortunately, we can't automatically add the preferential attachment link feature just yet, but we can add it manually. To add the preferential attachment input feature, we will first calculate the node degree values for all nodes. You sometimes want to normalize the input features with logistic regression models, so I will show you how to scale features directly in the Link Prediction pipeline. Then we just need to add the Hadamard link feature combiner, which multiplies the input matrices, in this case, node degrees. So if I understand the math correctly, the resulting link feature should represent preferential attachment as we effectively multiply node degrees between pairs of nodes.\n",
    "\n",
    "In the Link Prediction pipeline, you can have as many link feature combiners as you wish. The results of all link feature combiners are then concatenated into a single vector that is used as an input to the Link Prediction logistic regression model. We can add the degree calculation and scaling directly into the pipeline and don't have to prepare the degree features beforehand."
   ]
  },
  {
   "cell_type": "code",
   "execution_count": 19,
   "id": "04ca4efb",
   "metadata": {
    "id": "04ca4efb"
   },
   "outputs": [],
   "source": [
    "def generate_pa_links(combiner, predictedRelType, scale=True):\n",
    "    # Delete all graph models & drop all named graphs\n",
    "    run_query(\"\"\"\n",
    "    CALL gds.graph.list() YIELD graphName\n",
    "    CALL gds.graph.drop(graphName) YIELD graphName as done\n",
    "    RETURN distinct 'dropped named graphs' as result\n",
    "    UNION\n",
    "    CALL gds.beta.model.list() YIELD modelInfo\n",
    "    CALL gds.beta.model.drop(modelInfo.modelName) YIELD modelInfo as done\n",
    "    RETURN distinct 'dropped ML models' as result\n",
    "    UNION \n",
    "    CALL gds.beta.pipeline.list() YIELD pipelineName\n",
    "    CALL gds.beta.pipeline.drop(pipelineName) YIELD pipelineName AS done\n",
    "    RETURN distinct 'dropped pipelines' AS result\n",
    "    \"\"\")\n",
    "    # Define a new LP pipeline\n",
    "    run_query(\"\"\"\n",
    "    CALL gds.beta.pipeline.linkPrediction.create('lp-pipeline')\n",
    "    \"\"\")\n",
    "    # Get the degree value of each node\n",
    "    run_query(\"\"\"\n",
    "    CALL gds.beta.pipeline.linkPrediction.addNodeProperty('lp-pipeline', 'degree', {\n",
    "          mutateProperty: 'degree'\n",
    "    })\"\"\")\n",
    "    if scale:\n",
    "        # Scale the degree using minmax scaler\n",
    "        run_query(\"\"\"\n",
    "        CALL gds.beta.pipeline.linkPrediction.addNodeProperty('lp-pipeline', 'alpha.scaleProperties', {\n",
    "              nodeProperties: ['degree'],\n",
    "              mutateProperty: 'scaledDegree',\n",
    "              scaler:'MinMax'\n",
    "        })\n",
    "        \"\"\")\n",
    "        # Define HADAMARD combiner for node degree combiner\n",
    "        run_query(\"\"\"\n",
    "        CALL gds.beta.pipeline.linkPrediction.addFeature('lp-pipeline', 'HADAMARD', {\n",
    "          nodeProperties: ['scaledDegree']\n",
    "        }) YIELD featureSteps;\n",
    "        \"\"\")\n",
    "    else:\n",
    "        run_query(\"\"\"\n",
    "        CALL gds.beta.pipeline.linkPrediction.addFeature('lp-pipeline', 'HADAMARD', {\n",
    "          nodeProperties: ['degree']\n",
    "        }) YIELD featureSteps;\"\"\")\n",
    "        \n",
    "    # Define feature combiner\n",
    "    run_query(f\"\"\"\n",
    "    CALL gds.beta.pipeline.linkPrediction.addFeature('lp-pipeline', '{combiner}', {{\n",
    "      nodeProperties: ['embedding']\n",
    "    }}) YIELD featureSteps;\n",
    "    \"\"\")\n",
    "    # Define train-test split\n",
    "    run_query(\"\"\"\n",
    "    CALL gds.beta.pipeline.linkPrediction.configureSplit(\n",
    "     'lp-pipeline', {  \n",
    "       testFraction: 0.3,\n",
    "       trainFraction: 0.6,\n",
    "       validationFolds: 7})\n",
    "    YIELD splitConfig;\n",
    "    \"\"\")\n",
    "    # Configure LP model params\n",
    "    run_query(\"\"\"\n",
    "    CALL gds.beta.pipeline.linkPrediction.addLogisticRegression(\n",
    "      'lp-pipeline',  \n",
    "        {tolerance: 0.001, maxEpochs: 500})\n",
    "    YIELD parameterSpace;\n",
    "    \"\"\")\n",
    "    # Add multiple models\n",
    "    run_query(\"\"\"\n",
    "    CALL gds.beta.pipeline.linkPrediction.addLogisticRegression(\n",
    "      'lp-pipeline',  \n",
    "        {penalty:0.001, tolerance: 0.01,  maxEpochs: 500})\n",
    "    YIELD parameterSpace;\n",
    "    \"\"\")\n",
    "    run_query(\"\"\"\n",
    "    CALL gds.beta.pipeline.linkPrediction.addLogisticRegression(\n",
    "      'lp-pipeline',  \n",
    "        {penalty:0.01, tolerance: 0.01, maxEpochs: 500})\n",
    "    YIELD parameterSpace;\n",
    "    \"\"\")\n",
    "    # Construct named graph\n",
    "    run_query(\"\"\"\n",
    "    CALL gds.graph.project('lp-graph', \n",
    "      'Character', \n",
    "      {INTERACTS:{orientation:'UNDIRECTED'}},\n",
    "      {nodeProperties:'embedding'});\n",
    "    \"\"\")\n",
    "    # Train the model\n",
    "    run_query(\"\"\"\n",
    "    CALL gds.beta.pipeline.linkPrediction.train('lp-graph', \n",
    "  {pipeline: 'lp-pipeline',\n",
    "   modelName: 'lp-model',\n",
    "   randomSeed: 42,\n",
    "   targetRelationshipType:\"INTERACTS\"})\n",
    "    YIELD modelInfo\n",
    "    RETURN  modelInfo.bestParameters AS winningModel,  modelInfo.metrics.AUCPR.outerTrain AS trainGraphScore,  modelInfo.metrics.AUCPR.test AS testGraphScore;\n",
    "    \"\"\")\n",
    "    # Predict new relationships\n",
    "    run_query(\"\"\"\n",
    "    CALL gds.beta.pipeline.linkPrediction.predict.mutate('lp-graph', \n",
    "      {modelName: 'lp-model',  \n",
    "       mutateRelationshipType: 'INTERACTS_PREDICTED',\n",
    "       topN: 20,\n",
    "       threshold: 0.45})\n",
    "    YIELD relationshipsWritten;\n",
    "    \"\"\")\n",
    "    # Store relationships back to graph\n",
    "    predicted_links = run_query(f\"\"\"\n",
    "    CALL gds.graph.streamRelationshipProperty('lp-graph', \n",
    "      'probability', \n",
    "      ['INTERACTS_PREDICTED'])\n",
    "    YIELD  sourceNodeId, targetNodeId, propertyValue as probability\n",
    "    WHERE sourceNodeId < targetNodeId\n",
    "    MATCH (s),(t)\n",
    "    WHERE id(s)=sourceNodeId AND id(t)=targetNodeId\n",
    "    MERGE (s)-[:{predictedRelType}]-(t)\n",
    "    RETURN avg(gds.similarity.euclideanDistance(s.embedding, t.embedding)) AS euclidian_similarity,\n",
    "           avg(gds.similarity.cosine(s.embedding, t.embedding)) AS cosine_similarity\n",
    "    \"\"\")\n",
    "    return predicted_links"
   ]
  },
  {
   "cell_type": "code",
   "execution_count": 20,
   "id": "34184199",
   "metadata": {
    "colab": {
     "base_uri": "https://localhost:8080/",
     "height": 81
    },
    "id": "34184199",
    "outputId": "a4520ae9-2e2a-431c-dfeb-ac5279b8c419"
   },
   "outputs": [
    {
     "data": {
      "text/html": [
       "<div>\n",
       "<style scoped>\n",
       "    .dataframe tbody tr th:only-of-type {\n",
       "        vertical-align: middle;\n",
       "    }\n",
       "\n",
       "    .dataframe tbody tr th {\n",
       "        vertical-align: top;\n",
       "    }\n",
       "\n",
       "    .dataframe thead th {\n",
       "        text-align: right;\n",
       "    }\n",
       "</style>\n",
       "<table border=\"1\" class=\"dataframe\">\n",
       "  <thead>\n",
       "    <tr style=\"text-align: right;\">\n",
       "      <th></th>\n",
       "      <th>euclidian_similarity</th>\n",
       "      <th>cosine_similarity</th>\n",
       "    </tr>\n",
       "  </thead>\n",
       "  <tbody>\n",
       "    <tr>\n",
       "      <th>0</th>\n",
       "      <td>0.523386</td>\n",
       "      <td>0.963539</td>\n",
       "    </tr>\n",
       "  </tbody>\n",
       "</table>\n",
       "</div>"
      ],
      "text/plain": [
       "   euclidian_similarity  cosine_similarity\n",
       "0              0.523386           0.963539"
      ]
     },
     "execution_count": 20,
     "metadata": {},
     "output_type": "execute_result"
    }
   ],
   "source": [
    "generate_pa_links('cosine', 'PA_COSINE')"
   ]
  },
  {
   "cell_type": "code",
   "execution_count": 21,
   "id": "a7ab4362",
   "metadata": {
    "colab": {
     "base_uri": "https://localhost:8080/",
     "height": 81
    },
    "id": "a7ab4362",
    "outputId": "c6044e96-86e5-4aa3-c579-404968d9524c"
   },
   "outputs": [
    {
     "data": {
      "text/html": [
       "<div>\n",
       "<style scoped>\n",
       "    .dataframe tbody tr th:only-of-type {\n",
       "        vertical-align: middle;\n",
       "    }\n",
       "\n",
       "    .dataframe tbody tr th {\n",
       "        vertical-align: top;\n",
       "    }\n",
       "\n",
       "    .dataframe thead th {\n",
       "        text-align: right;\n",
       "    }\n",
       "</style>\n",
       "<table border=\"1\" class=\"dataframe\">\n",
       "  <thead>\n",
       "    <tr style=\"text-align: right;\">\n",
       "      <th></th>\n",
       "      <th>euclidian_similarity</th>\n",
       "      <th>cosine_similarity</th>\n",
       "    </tr>\n",
       "  </thead>\n",
       "  <tbody>\n",
       "    <tr>\n",
       "      <th>0</th>\n",
       "      <td>0.049519</td>\n",
       "      <td>0.999198</td>\n",
       "    </tr>\n",
       "  </tbody>\n",
       "</table>\n",
       "</div>"
      ],
      "text/plain": [
       "   euclidian_similarity  cosine_similarity\n",
       "0              0.049519           0.999198"
      ]
     },
     "execution_count": 21,
     "metadata": {},
     "output_type": "execute_result"
    }
   ],
   "source": [
    "generate_pa_links('l2', 'PA_L2')"
   ]
  },
  {
   "cell_type": "code",
   "execution_count": 22,
   "id": "5e6f706c",
   "metadata": {
    "colab": {
     "base_uri": "https://localhost:8080/",
     "height": 81
    },
    "id": "5e6f706c",
    "outputId": "9db77911-2399-4fad-c8ed-4c57d33a194f"
   },
   "outputs": [
    {
     "data": {
      "text/html": [
       "<div>\n",
       "<style scoped>\n",
       "    .dataframe tbody tr th:only-of-type {\n",
       "        vertical-align: middle;\n",
       "    }\n",
       "\n",
       "    .dataframe tbody tr th {\n",
       "        vertical-align: top;\n",
       "    }\n",
       "\n",
       "    .dataframe thead th {\n",
       "        text-align: right;\n",
       "    }\n",
       "</style>\n",
       "<table border=\"1\" class=\"dataframe\">\n",
       "  <thead>\n",
       "    <tr style=\"text-align: right;\">\n",
       "      <th></th>\n",
       "      <th>euclidian_similarity</th>\n",
       "      <th>cosine_similarity</th>\n",
       "    </tr>\n",
       "  </thead>\n",
       "  <tbody>\n",
       "    <tr>\n",
       "      <th>0</th>\n",
       "      <td>2.101943</td>\n",
       "      <td>0.374777</td>\n",
       "    </tr>\n",
       "  </tbody>\n",
       "</table>\n",
       "</div>"
      ],
      "text/plain": [
       "   euclidian_similarity  cosine_similarity\n",
       "0              2.101943           0.374777"
      ]
     },
     "execution_count": 22,
     "metadata": {},
     "output_type": "execute_result"
    }
   ],
   "source": [
    "generate_pa_links('l2', 'PA_L2_NOTSCALED1', False)"
   ]
  },
  {
   "cell_type": "code",
   "execution_count": 23,
   "id": "8dbeb46e",
   "metadata": {
    "colab": {
     "base_uri": "https://localhost:8080/",
     "height": 81
    },
    "id": "8dbeb46e",
    "outputId": "80704aaa-a21a-4f98-cf1a-41d5328c717a"
   },
   "outputs": [
    {
     "data": {
      "text/html": [
       "<div>\n",
       "<style scoped>\n",
       "    .dataframe tbody tr th:only-of-type {\n",
       "        vertical-align: middle;\n",
       "    }\n",
       "\n",
       "    .dataframe tbody tr th {\n",
       "        vertical-align: top;\n",
       "    }\n",
       "\n",
       "    .dataframe thead th {\n",
       "        text-align: right;\n",
       "    }\n",
       "</style>\n",
       "<table border=\"1\" class=\"dataframe\">\n",
       "  <thead>\n",
       "    <tr style=\"text-align: right;\">\n",
       "      <th></th>\n",
       "      <th>euclidian_similarity</th>\n",
       "      <th>cosine_similarity</th>\n",
       "    </tr>\n",
       "  </thead>\n",
       "  <tbody>\n",
       "    <tr>\n",
       "      <th>0</th>\n",
       "      <td>0.30314</td>\n",
       "      <td>0.987134</td>\n",
       "    </tr>\n",
       "  </tbody>\n",
       "</table>\n",
       "</div>"
      ],
      "text/plain": [
       "   euclidian_similarity  cosine_similarity\n",
       "0               0.30314           0.987134"
      ]
     },
     "execution_count": 23,
     "metadata": {},
     "output_type": "execute_result"
    }
   ],
   "source": [
    "generate_pa_links('hadamard', 'PA_HADAMARD')"
   ]
  },
  {
   "cell_type": "markdown",
   "id": "af353d42",
   "metadata": {
    "id": "af353d42"
   },
   "source": [
    "# Conclusion\n",
    "I have really enjoyed writing this blog post and learned a lot about FastRP embedding algorithm and Link Prediction pipeline along the way. A quick summary would be:\n",
    "* FastRP is more likely to assign high similarity between neighboring nodes with a low degree\n",
    "* On the other hand, the cosine similarity between connected nodes of different communities could be lower than 0.5\n",
    "* Using multiple link feature combiners can help you better describe your domain\n",
    "* Scaling node features influences the result of Link Prediction logistic regression model"
   ]
  },
  {
   "cell_type": "code",
   "execution_count": null,
   "id": "3c058910",
   "metadata": {
    "id": "3c058910"
   },
   "outputs": [],
   "source": []
  }
 ],
 "metadata": {
  "colab": {
   "include_colab_link": true,
   "name": "Link prediction combiner.ipynb",
   "provenance": []
  },
  "kernelspec": {
   "display_name": "Python 3",
   "language": "python",
   "name": "python3"
  },
  "language_info": {
   "codemirror_mode": {
    "name": "ipython",
    "version": 3
   },
   "file_extension": ".py",
   "mimetype": "text/x-python",
   "name": "python",
   "nbconvert_exporter": "python",
   "pygments_lexer": "ipython3",
   "version": "3.8.8"
  }
 },
 "nbformat": 4,
 "nbformat_minor": 5
}
