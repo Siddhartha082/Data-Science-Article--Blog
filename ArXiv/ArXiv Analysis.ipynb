{
 "cells": [
  {
   "cell_type": "code",
   "execution_count": 1,
   "metadata": {},
   "outputs": [],
   "source": [
    "import pandas as pd\n",
    "import json\n",
    "from datetime import datetime"
   ]
  },
  {
   "cell_type": "markdown",
   "metadata": {},
   "source": [
    "# Preprocessing data\n",
    "\n",
    "We will assume the ArXiv dataset has been downloaded and extracted into the analysis folder. First, we will load the articles in the category of nuclear experiments in the Pandas data frame. The following script also preprocesses the authors' names and the published date of the papers.\n",
    "\n",
    "Data is available on https://www.kaggle.com/Cornell-University/arxiv"
   ]
  },
  {
   "cell_type": "code",
   "execution_count": 2,
   "metadata": {},
   "outputs": [],
   "source": [
    "def get_clean_authors(authors):\n",
    "    r = []\n",
    "    for a in authors:\n",
    "        r.append(\" \".join(a).strip())\n",
    "    return r"
   ]
  },
  {
   "cell_type": "code",
   "execution_count": 3,
   "metadata": {},
   "outputs": [
    {
     "data": {
      "text/html": [
       "<div>\n",
       "<style scoped>\n",
       "    .dataframe tbody tr th:only-of-type {\n",
       "        vertical-align: middle;\n",
       "    }\n",
       "\n",
       "    .dataframe tbody tr th {\n",
       "        vertical-align: top;\n",
       "    }\n",
       "\n",
       "    .dataframe thead th {\n",
       "        text-align: right;\n",
       "    }\n",
       "</style>\n",
       "<table border=\"1\" class=\"dataframe\">\n",
       "  <thead>\n",
       "    <tr style=\"text-align: right;\">\n",
       "      <th></th>\n",
       "      <th>id</th>\n",
       "      <th>submitter</th>\n",
       "      <th>authors</th>\n",
       "      <th>title</th>\n",
       "      <th>comments</th>\n",
       "      <th>journal-ref</th>\n",
       "      <th>doi</th>\n",
       "      <th>report-no</th>\n",
       "      <th>categories</th>\n",
       "      <th>license</th>\n",
       "      <th>abstract</th>\n",
       "      <th>versions</th>\n",
       "      <th>update_date</th>\n",
       "      <th>authors_parsed</th>\n",
       "      <th>clean_authors</th>\n",
       "      <th>created_date</th>\n",
       "    </tr>\n",
       "  </thead>\n",
       "  <tbody>\n",
       "    <tr>\n",
       "      <th>0</th>\n",
       "      <td>0704.0075</td>\n",
       "      <td>Xiang Liu</td>\n",
       "      <td>Chong Chen, Xiao-Lin Chen, Xiang Liu, Wei-Zhen...</td>\n",
       "      <td>Strong decays of charmed baryons</td>\n",
       "      <td>13 pages, 9 figures, 9 tables. Some descriptio...</td>\n",
       "      <td>Phys.Rev.D75:094017,2007</td>\n",
       "      <td>10.1103/PhysRevD.75.094017</td>\n",
       "      <td>None</td>\n",
       "      <td>hep-ph hep-ex nucl-ex</td>\n",
       "      <td>None</td>\n",
       "      <td>There has been important experimental progre...</td>\n",
       "      <td>[{'version': 'v1', 'created': 'Sun, 1 Apr 2007...</td>\n",
       "      <td>2008-11-26</td>\n",
       "      <td>[[Chen, Chong, ], [Chen, Xiao-Lin, ], [Liu, Xi...</td>\n",
       "      <td>[Chen Chong, Chen Xiao-Lin, Liu Xiang, Deng We...</td>\n",
       "      <td>2007-04-01 09:45:55</td>\n",
       "    </tr>\n",
       "    <tr>\n",
       "      <th>1</th>\n",
       "      <td>0704.0154</td>\n",
       "      <td>Ulrich Mosel</td>\n",
       "      <td>Fabian Eichstaedt, Stefan Leupold, Ulrich Mose...</td>\n",
       "      <td>Hadrons in Medium -- Theory confronts experiment</td>\n",
       "      <td>Key Lecture at YKIS2006, Kyoto, Dec. 2006</td>\n",
       "      <td>Prog.Theor.Phys.Suppl.168:495-502,2007</td>\n",
       "      <td>10.1143/PTPS.168.495</td>\n",
       "      <td>None</td>\n",
       "      <td>nucl-th hep-ph nucl-ex</td>\n",
       "      <td>None</td>\n",
       "      <td>In this talk we briefly summarize our theore...</td>\n",
       "      <td>[{'version': 'v1', 'created': 'Mon, 2 Apr 2007...</td>\n",
       "      <td>2008-11-26</td>\n",
       "      <td>[[Eichstaedt, Fabian, ], [Leupold, Stefan, ], ...</td>\n",
       "      <td>[Eichstaedt Fabian, Leupold Stefan, Mosel Ulri...</td>\n",
       "      <td>2007-04-02 09:36:31</td>\n",
       "    </tr>\n",
       "    <tr>\n",
       "      <th>2</th>\n",
       "      <td>0704.0200</td>\n",
       "      <td>Martin Schumacher</td>\n",
       "      <td>Martin Schumacher</td>\n",
       "      <td>Electromagnetic polarizabilities and the excit...</td>\n",
       "      <td>None</td>\n",
       "      <td>Eur.Phys.J.A31:327-333,2007</td>\n",
       "      <td>10.1140/epja/i2006-10235-1</td>\n",
       "      <td>None</td>\n",
       "      <td>hep-ph nucl-ex</td>\n",
       "      <td>None</td>\n",
       "      <td>The electromagnetic polarizabilities of the ...</td>\n",
       "      <td>[{'version': 'v1', 'created': 'Mon, 2 Apr 2007...</td>\n",
       "      <td>2013-06-26</td>\n",
       "      <td>[[Schumacher, Martin, ]]</td>\n",
       "      <td>[Schumacher Martin]</td>\n",
       "      <td>2007-04-02 14:10:13</td>\n",
       "    </tr>\n",
       "    <tr>\n",
       "      <th>3</th>\n",
       "      <td>0704.0220</td>\n",
       "      <td>Jason Ulery</td>\n",
       "      <td>Jason Glyndwr Ulery (for the STAR Collaboration)</td>\n",
       "      <td>Three Particle Correlations from STAR</td>\n",
       "      <td>Talk given at IWCF 2006, Hangzhou, China. 8 Pa...</td>\n",
       "      <td>Int.J.Mod.Phys.E16:3123-3130,2008</td>\n",
       "      <td>10.1142/S0218301307009117</td>\n",
       "      <td>None</td>\n",
       "      <td>nucl-ex</td>\n",
       "      <td>None</td>\n",
       "      <td>Two-particle correlations have shown modific...</td>\n",
       "      <td>[{'version': 'v1', 'created': 'Mon, 2 Apr 2007...</td>\n",
       "      <td>2008-11-26</td>\n",
       "      <td>[[Ulery, Jason Glyndwr, , for the STAR Collabo...</td>\n",
       "      <td>[Ulery Jason Glyndwr  for the STAR Collaboration]</td>\n",
       "      <td>2007-04-02 15:45:49</td>\n",
       "    </tr>\n",
       "    <tr>\n",
       "      <th>4</th>\n",
       "      <td>0704.0224</td>\n",
       "      <td>Jason Ulery</td>\n",
       "      <td>Jason Glyndwr Ulery (for the STAR Collaboration)</td>\n",
       "      <td>Are There Mach Cones in Heavy Ion Collisions? ...</td>\n",
       "      <td>Poster shown at Quark Matter 2006, Shanghai, C...</td>\n",
       "      <td>Int.J.Mod.Phys.E16:2005-2010,2007</td>\n",
       "      <td>10.1142/S0218301307007374</td>\n",
       "      <td>None</td>\n",
       "      <td>nucl-ex</td>\n",
       "      <td>None</td>\n",
       "      <td>We present results from STAR on 3-particle a...</td>\n",
       "      <td>[{'version': 'v1', 'created': 'Mon, 2 Apr 2007...</td>\n",
       "      <td>2008-11-26</td>\n",
       "      <td>[[Ulery, Jason Glyndwr, , for the STAR Collabo...</td>\n",
       "      <td>[Ulery Jason Glyndwr  for the STAR Collaboration]</td>\n",
       "      <td>2007-04-02 15:55:08</td>\n",
       "    </tr>\n",
       "  </tbody>\n",
       "</table>\n",
       "</div>"
      ],
      "text/plain": [
       "          id          submitter  \\\n",
       "0  0704.0075          Xiang Liu   \n",
       "1  0704.0154       Ulrich Mosel   \n",
       "2  0704.0200  Martin Schumacher   \n",
       "3  0704.0220        Jason Ulery   \n",
       "4  0704.0224        Jason Ulery   \n",
       "\n",
       "                                             authors  \\\n",
       "0  Chong Chen, Xiao-Lin Chen, Xiang Liu, Wei-Zhen...   \n",
       "1  Fabian Eichstaedt, Stefan Leupold, Ulrich Mose...   \n",
       "2                                  Martin Schumacher   \n",
       "3   Jason Glyndwr Ulery (for the STAR Collaboration)   \n",
       "4   Jason Glyndwr Ulery (for the STAR Collaboration)   \n",
       "\n",
       "                                               title  \\\n",
       "0                   Strong decays of charmed baryons   \n",
       "1   Hadrons in Medium -- Theory confronts experiment   \n",
       "2  Electromagnetic polarizabilities and the excit...   \n",
       "3              Three Particle Correlations from STAR   \n",
       "4  Are There Mach Cones in Heavy Ion Collisions? ...   \n",
       "\n",
       "                                            comments  \\\n",
       "0  13 pages, 9 figures, 9 tables. Some descriptio...   \n",
       "1          Key Lecture at YKIS2006, Kyoto, Dec. 2006   \n",
       "2                                               None   \n",
       "3  Talk given at IWCF 2006, Hangzhou, China. 8 Pa...   \n",
       "4  Poster shown at Quark Matter 2006, Shanghai, C...   \n",
       "\n",
       "                              journal-ref                         doi  \\\n",
       "0                Phys.Rev.D75:094017,2007  10.1103/PhysRevD.75.094017   \n",
       "1  Prog.Theor.Phys.Suppl.168:495-502,2007        10.1143/PTPS.168.495   \n",
       "2             Eur.Phys.J.A31:327-333,2007  10.1140/epja/i2006-10235-1   \n",
       "3       Int.J.Mod.Phys.E16:3123-3130,2008   10.1142/S0218301307009117   \n",
       "4       Int.J.Mod.Phys.E16:2005-2010,2007   10.1142/S0218301307007374   \n",
       "\n",
       "  report-no              categories license  \\\n",
       "0      None   hep-ph hep-ex nucl-ex    None   \n",
       "1      None  nucl-th hep-ph nucl-ex    None   \n",
       "2      None          hep-ph nucl-ex    None   \n",
       "3      None                 nucl-ex    None   \n",
       "4      None                 nucl-ex    None   \n",
       "\n",
       "                                            abstract  \\\n",
       "0    There has been important experimental progre...   \n",
       "1    In this talk we briefly summarize our theore...   \n",
       "2    The electromagnetic polarizabilities of the ...   \n",
       "3    Two-particle correlations have shown modific...   \n",
       "4    We present results from STAR on 3-particle a...   \n",
       "\n",
       "                                            versions update_date  \\\n",
       "0  [{'version': 'v1', 'created': 'Sun, 1 Apr 2007...  2008-11-26   \n",
       "1  [{'version': 'v1', 'created': 'Mon, 2 Apr 2007...  2008-11-26   \n",
       "2  [{'version': 'v1', 'created': 'Mon, 2 Apr 2007...  2013-06-26   \n",
       "3  [{'version': 'v1', 'created': 'Mon, 2 Apr 2007...  2008-11-26   \n",
       "4  [{'version': 'v1', 'created': 'Mon, 2 Apr 2007...  2008-11-26   \n",
       "\n",
       "                                      authors_parsed  \\\n",
       "0  [[Chen, Chong, ], [Chen, Xiao-Lin, ], [Liu, Xi...   \n",
       "1  [[Eichstaedt, Fabian, ], [Leupold, Stefan, ], ...   \n",
       "2                           [[Schumacher, Martin, ]]   \n",
       "3  [[Ulery, Jason Glyndwr, , for the STAR Collabo...   \n",
       "4  [[Ulery, Jason Glyndwr, , for the STAR Collabo...   \n",
       "\n",
       "                                       clean_authors        created_date  \n",
       "0  [Chen Chong, Chen Xiao-Lin, Liu Xiang, Deng We... 2007-04-01 09:45:55  \n",
       "1  [Eichstaedt Fabian, Leupold Stefan, Mosel Ulri... 2007-04-02 09:36:31  \n",
       "2                                [Schumacher Martin] 2007-04-02 14:10:13  \n",
       "3  [Ulery Jason Glyndwr  for the STAR Collaboration] 2007-04-02 15:45:49  \n",
       "4  [Ulery Jason Glyndwr  for the STAR Collaboration] 2007-04-02 15:55:08  "
      ]
     },
     "execution_count": 3,
     "metadata": {},
     "output_type": "execute_result"
    }
   ],
   "source": [
    "articles = []\n",
    "category = 'nucl-ex'\n",
    "with open(\"arxiv-metadata-oai-snapshot.json\", \"r\") as f:\n",
    "    for l in f:\n",
    "        d = json.loads(l)\n",
    "        if category in d['categories'].split(' '):\n",
    "            d['clean_authors'] = get_clean_authors(d['authors_parsed']) \n",
    "            articles.append(d)\n",
    "\n",
    "articles_df = pd.DataFrame().from_records(articles)\n",
    "articles_df['created_date'] = [datetime.strptime(date[0]['created'].split(',')[1],' %d %b %Y %H:%M:%S %Z') \n",
    "                               for date in articles_df['versions']]\n",
    "articles_df.head()"
   ]
  },
  {
   "cell_type": "markdown",
   "metadata": {},
   "source": [
    "If we take a look at a random abstract text, we can notice that the text is available in the Latex format:"
   ]
  },
  {
   "cell_type": "code",
   "execution_count": 4,
   "metadata": {},
   "outputs": [
    {
     "data": {
      "text/plain": [
       "'  The electromagnetic polarizabilities of the nucleon are shown to be\\nessentially composed of the nonresonant $\\\\alpha_p(E_{0+})=+3.2$,\\n$\\\\alpha_n(E_{0+})=+4.1$,the $t$-channel $\\\\alpha^t_{p,n}=-\\\\beta^t_{p,n}=+7.6$\\nand the resonant $\\\\beta_{p,n}(P_{33}(1232))=+8.3$ contributions (in units of\\n$10^{-4}$fm$^3$. The remaining deviations from the experimental data\\n$\\\\Delta\\\\alpha_p=1.2\\\\pm 0.6$, $\\\\Delta\\\\beta_p=1.2\\\\mp 0.6$, \\\\Delta\\\\alpha_n=0.8\\\\pm\\n1.7$ and $\\\\Delta\\\\beta_n=2.0\\\\mp 1.8$ are contributed by a larger number of\\nresonant and nonresonant processes with cancellations between the\\ncontributions. This result confirms that dominant contributions to the electric\\nand magnetic polarizabilities may be represented in terms of two-photon\\ncouplings to the $\\\\sigma$-meson having the predicted mass $m_\\\\sigma=666$ MeV\\nand two-photon width $\\\\Gamma_{\\\\gamma\\\\gamma}=2.6$ keV.\\n'"
      ]
     },
     "execution_count": 4,
     "metadata": {},
     "output_type": "execute_result"
    }
   ],
   "source": [
    "articles_df['abstract'][2]"
   ]
  },
  {
   "cell_type": "markdown",
   "metadata": {},
   "source": [
    "We will transform both the title and abstract text to UTF-8 format using the pylatexenc library."
   ]
  },
  {
   "cell_type": "code",
   "execution_count": 4,
   "metadata": {},
   "outputs": [],
   "source": [
    "from pylatexenc.latex2text import LatexNodes2Text"
   ]
  },
  {
   "cell_type": "code",
   "execution_count": 6,
   "metadata": {},
   "outputs": [
    {
     "data": {
      "text/plain": [
       "'The electromagnetic polarizabilities of the nucleon are shown to be essentially composed of the nonresonant α_p(E_0+)=+3.2, α_n(E_0+)=+4.1,the t-channel α^t_p,n=-β^t_p,n=+7.6 and the resonant β_p,n(P_33(1232))=+8.3 contributions (in units of 10^-4fm^3. The remaining deviations from the experimental data Δα_p=1.2± 0.6, Δβ_p=1.2∓ 0.6, Δα_n=0.8±1.7andΔβ_n=2.0∓1.8are contributed by a larger number of resonant and nonresonant processes with cancellations between the contributions. This result confirms that dominant contributions to the electric and magnetic polarizabilities may be represented in terms of two-photon couplings to theσ-meson having the predicted massm_σ=666MeV and two-photon widthΓ_γγ=2.6keV.'"
      ]
     },
     "execution_count": 6,
     "metadata": {},
     "output_type": "execute_result"
    }
   ],
   "source": [
    "LatexNodes2Text().latex_to_text(articles_df['abstract'][2]).replace('\\n', ' ').strip()"
   ]
  },
  {
   "cell_type": "code",
   "execution_count": 5,
   "metadata": {},
   "outputs": [],
   "source": [
    "# LaTex to UTF\n",
    "clean_abstract = []\n",
    "clean_title = []\n",
    "for i,a in articles_df.iterrows():\n",
    "    # Clean title\n",
    "    try:\n",
    "        clean_title.append(LatexNodes2Text().latex_to_text(a['title']).replace('\\n', ' ').strip()) \n",
    "    except:\n",
    "        clean_title.append(a['abstract'].replace('\\n', ' ').strip())\n",
    "    # Clean abstract\n",
    "    try:\n",
    "        clean_abstract.append(LatexNodes2Text().latex_to_text(a['abstract']).replace('\\n', ' ').strip()) \n",
    "    except:\n",
    "        clean_abstract.append(a['abstract'].replace('\\n', ' ').strip())\n",
    "articles_df['clean_abstracts'] = clean_abstract\n",
    "articles_df['clean_title'] = clean_title"
   ]
  },
  {
   "cell_type": "code",
   "execution_count": 6,
   "metadata": {},
   "outputs": [
    {
     "data": {
      "text/html": [
       "<div>\n",
       "<style scoped>\n",
       "    .dataframe tbody tr th:only-of-type {\n",
       "        vertical-align: middle;\n",
       "    }\n",
       "\n",
       "    .dataframe tbody tr th {\n",
       "        vertical-align: top;\n",
       "    }\n",
       "\n",
       "    .dataframe thead th {\n",
       "        text-align: right;\n",
       "    }\n",
       "</style>\n",
       "<table border=\"1\" class=\"dataframe\">\n",
       "  <thead>\n",
       "    <tr style=\"text-align: right;\">\n",
       "      <th></th>\n",
       "      <th>id</th>\n",
       "      <th>clean_title</th>\n",
       "      <th>clean_authors</th>\n",
       "      <th>created_date</th>\n",
       "      <th>clean_abstracts</th>\n",
       "    </tr>\n",
       "  </thead>\n",
       "  <tbody>\n",
       "    <tr>\n",
       "      <th>0</th>\n",
       "      <td>0704.0075</td>\n",
       "      <td>Strong decays of charmed baryons</td>\n",
       "      <td>[Chen Chong, Chen Xiao-Lin, Liu Xiang, Deng We...</td>\n",
       "      <td>2007-04-01 09:45:55</td>\n",
       "      <td>There has been important experimental progress...</td>\n",
       "    </tr>\n",
       "    <tr>\n",
       "      <th>1</th>\n",
       "      <td>0704.0154</td>\n",
       "      <td>Hadrons in Medium – Theory confronts experiment</td>\n",
       "      <td>[Eichstaedt Fabian, Leupold Stefan, Mosel Ulri...</td>\n",
       "      <td>2007-04-02 09:36:31</td>\n",
       "      <td>In this talk we briefly summarize our theoreti...</td>\n",
       "    </tr>\n",
       "    <tr>\n",
       "      <th>2</th>\n",
       "      <td>0704.0200</td>\n",
       "      <td>Electromagnetic polarizabilities and the excit...</td>\n",
       "      <td>[Schumacher Martin]</td>\n",
       "      <td>2007-04-02 14:10:13</td>\n",
       "      <td>The electromagnetic polarizabilities of the nu...</td>\n",
       "    </tr>\n",
       "    <tr>\n",
       "      <th>3</th>\n",
       "      <td>0704.0220</td>\n",
       "      <td>Three Particle Correlations from STAR</td>\n",
       "      <td>[Ulery Jason Glyndwr  for the STAR Collaboration]</td>\n",
       "      <td>2007-04-02 15:45:49</td>\n",
       "      <td>Two-particle correlations have shown modificat...</td>\n",
       "    </tr>\n",
       "    <tr>\n",
       "      <th>4</th>\n",
       "      <td>0704.0224</td>\n",
       "      <td>Are There Mach Cones in Heavy Ion Collisions? ...</td>\n",
       "      <td>[Ulery Jason Glyndwr  for the STAR Collaboration]</td>\n",
       "      <td>2007-04-02 15:55:08</td>\n",
       "      <td>We present results from STAR on 3-particle azi...</td>\n",
       "    </tr>\n",
       "  </tbody>\n",
       "</table>\n",
       "</div>"
      ],
      "text/plain": [
       "          id                                        clean_title  \\\n",
       "0  0704.0075                   Strong decays of charmed baryons   \n",
       "1  0704.0154    Hadrons in Medium – Theory confronts experiment   \n",
       "2  0704.0200  Electromagnetic polarizabilities and the excit...   \n",
       "3  0704.0220              Three Particle Correlations from STAR   \n",
       "4  0704.0224  Are There Mach Cones in Heavy Ion Collisions? ...   \n",
       "\n",
       "                                       clean_authors        created_date  \\\n",
       "0  [Chen Chong, Chen Xiao-Lin, Liu Xiang, Deng We... 2007-04-01 09:45:55   \n",
       "1  [Eichstaedt Fabian, Leupold Stefan, Mosel Ulri... 2007-04-02 09:36:31   \n",
       "2                                [Schumacher Martin] 2007-04-02 14:10:13   \n",
       "3  [Ulery Jason Glyndwr  for the STAR Collaboration] 2007-04-02 15:45:49   \n",
       "4  [Ulery Jason Glyndwr  for the STAR Collaboration] 2007-04-02 15:55:08   \n",
       "\n",
       "                                     clean_abstracts  \n",
       "0  There has been important experimental progress...  \n",
       "1  In this talk we briefly summarize our theoreti...  \n",
       "2  The electromagnetic polarizabilities of the nu...  \n",
       "3  Two-particle correlations have shown modificat...  \n",
       "4  We present results from STAR on 3-particle azi...  "
      ]
     },
     "execution_count": 6,
     "metadata": {},
     "output_type": "execute_result"
    }
   ],
   "source": [
    "articles_df.head()[['id','clean_title','clean_authors','created_date','clean_abstracts']]"
   ]
  },
  {
   "cell_type": "markdown",
   "metadata": {},
   "source": [
    "# Graph import\n",
    "After some initial data wrangling, we can go ahead and import the data into Neo4j. The graph schema is quite simple. We have Article and Author nodes, and a WROTE relationship between the two, indicating who are the authors of a particular article."
   ]
  },
  {
   "cell_type": "code",
   "execution_count": 12,
   "metadata": {},
   "outputs": [],
   "source": [
    "from neo4j import GraphDatabase\n",
    "driver = GraphDatabase.driver('bolt://localhost:7687', auth=('neo4j', 'letmein'))"
   ]
  },
  {
   "cell_type": "markdown",
   "metadata": {},
   "source": [
    "## Define unique constraints\n",
    "\n",
    "As with most Neo4j projects, it is advisable first to define the unique constraints for nodes. This way, the import will be faster as the unique identifiers of the nodes will be indexed. We will create unique constraints for both the Article and the Author nodes."
   ]
  },
  {
   "cell_type": "code",
   "execution_count": 11,
   "metadata": {},
   "outputs": [],
   "source": [
    "with driver.session() as session:\n",
    "    session.run('CREATE CONSTRAINT article IF NOT EXISTS ON (a:Article) ASSERT a.id IS UNIQUE;')\n",
    "    session.run('CREATE CONSTRAINT authors IF NOT EXISTS ON (a:Author) ASSERT a.name IS UNIQUE;')"
   ]
  },
  {
   "cell_type": "markdown",
   "metadata": {},
   "source": [
    "The dataset and the unique constraints are ready, so we can go ahead and import the graph. An important thing to notice is that when you are using your favorite scripting language with Neo4j Driver to import the data, we never want to run a single transaction for each line but instead want to batch several lines together into a single transaction. In our case, we batch every 2000 lines into a single transaction."
   ]
  },
  {
   "cell_type": "code",
   "execution_count": 13,
   "metadata": {},
   "outputs": [],
   "source": [
    "import_query = \"\"\"\n",
    "\n",
    "UNWIND $data as row\n",
    "CREATE (a:Article)\n",
    "SET a += apoc.map.clean(row,['authors'],[])\n",
    "SET a.date = date(row['date'])\n",
    "WITH a, row.authors as authors\n",
    "UNWIND authors as author\n",
    "MERGE (au:Author{name:author})\n",
    "MERGE (au)-[:WROTE]->(a)\n",
    "\n",
    "\"\"\"\n",
    "\n",
    "import_data = []\n",
    "session = driver.session()\n",
    "for i, row in articles_df.iterrows():\n",
    "    import_data.append({'id':row['id'], 'title':row['clean_title'], 'abstract':row['clean_abstracts'], \n",
    "                        'date':row['created_date'].strftime('%Y-%m-%d'), 'authors':row['clean_authors']})\n",
    "    if ((i % 2000) == 0) and (len(import_data) != 0):\n",
    "        session.run(import_query, {'data':import_data})\n",
    "        import_data = []\n",
    "\n",
    "session.run(import_query, {'data':import_data})\n",
    "session.close()"
   ]
  },
  {
   "cell_type": "markdown",
   "metadata": {},
   "source": [
    "# Data cleaning"
   ]
  },
  {
   "cell_type": "code",
   "execution_count": 22,
   "metadata": {},
   "outputs": [],
   "source": [
    "%matplotlib inline\n",
    "import seaborn as sns\n",
    "from matplotlib import pyplot\n",
    "\n",
    "def read_query(query):\n",
    "    with driver.session() as session:\n",
    "        result = session.run(query)\n",
    "        return pd.DataFrame([r.values() for r in result], columns=result.keys())"
   ]
  },
  {
   "cell_type": "markdown",
   "metadata": {},
   "source": [
    "We'll quickly see why this part is titled Data Cleaning. Let's begin by examining the most active authors in the Nuclear Experiments category."
   ]
  },
  {
   "cell_type": "code",
   "execution_count": 16,
   "metadata": {},
   "outputs": [
    {
     "data": {
      "image/png": "[encoded data removed]",
      "text/plain": [
       "<Figure size 1152x648 with 1 Axes>"
      ]
     },
     "metadata": {
      "needs_background": "light"
     },
     "output_type": "display_data"
    }
   ],
   "source": [
    "data = read_query(\"\"\"\n",
    "MATCH (a:Author)\n",
    "RETURN a.name as author, size((a)-[:WROTE]->()) as number_of_articles\n",
    "ORDER BY number_of_articles DESC LIMIT 10\n",
    "\"\"\")\n",
    "\n",
    "fig, ax = pyplot.subplots(figsize=(16,9))\n",
    "ax = sns.barplot(x=\"author\", y=\"number_of_articles\", data=data, color=\"blue\")"
   ]
  },
  {
   "cell_type": "markdown",
   "metadata": {},
   "source": [
    "I wasn't aware of this before, but it looks like that a collaboration like ALICE or STAR can be an author of an article. Let's explore the collaborations a bit more and take a look at the most active collaborations overall."
   ]
  },
  {
   "cell_type": "code",
   "execution_count": 17,
   "metadata": {},
   "outputs": [
    {
     "data": {
      "text/plain": [
       "[Text(0, 0, 'ALICE Collaboration'),\n",
       " Text(1, 0, 'STAR Collaboration'),\n",
       " Text(2, 0, 'CMS Collaboration'),\n",
       " Text(3, 0, 'PHENIX Collaboration'),\n",
       " Text(4, 0, 'ATLAS Collaboration'),\n",
       " Text(5, 0, 'Collaboration the CLAS'),\n",
       " Text(6, 0, 'NA49 Collaboration'),\n",
       " Text(7, 0, 'WA98 Collaboration'),\n",
       " Text(8, 0, 'CLAS Collaboration'),\n",
       " Text(9, 0, 'The STAR Collaboration')]"
      ]
     },
     "execution_count": 17,
     "metadata": {},
     "output_type": "execute_result"
    },
    {
     "data": {
      "image/png": "[encoded data removed]",
      "text/plain": [
       "<Figure size 1152x648 with 1 Axes>"
      ]
     },
     "metadata": {
      "needs_background": "light"
     },
     "output_type": "display_data"
    }
   ],
   "source": [
    "data = read_query(\"\"\"\n",
    "MATCH (a:Author)\n",
    "WHERE a.name contains \"Collaboration\"\n",
    "RETURN a.name as author,\n",
    "       size((a)-[:WROTE]->()) as number_of_articles\n",
    "ORDER BY number_of_articles\n",
    "DESC LIMIT 10\n",
    "\"\"\")\n",
    "\n",
    "fig, ax = pyplot.subplots(figsize=(16,9))\n",
    "ax = sns.barplot(x=\"author\", y=\"number_of_articles\", data=data, color=\"blue\")\n",
    "ax.set_xticklabels(ax.get_xticklabels(), rotation=30)\n"
   ]
  },
  {
   "cell_type": "markdown",
   "metadata": {},
   "source": [
    "We have already known that ALICE and STAR collaborations are the most active, but there are many more collaborations in the nuclear experiment category. Unfortunately, the data appears dirty, as there are two STAR collaboration variations and two CLAS collaboration variations. We'll do some data cleaning of the Author entities before we continue with the graph exploration analysis.\n",
    "\n",
    "Data cleaning is the most fun part of any analysis. Well, not really, but it is a vital part of the research if we want to rely on the data. We'll introduce a secondary label for all collaboration nodes. Again, we will define a unique constraint for optimization and indexing."
   ]
  },
  {
   "cell_type": "code",
   "execution_count": 18,
   "metadata": {},
   "outputs": [],
   "source": [
    "with driver.session() as session:\n",
    "    session.run('CREATE CONSTRAINT collaboration IF NOT EXISTS ON (c:Collaboration) ASSERT c.id IS UNIQUE;')"
   ]
  },
  {
   "cell_type": "markdown",
   "metadata": {},
   "source": [
    "Let's take a look at the potential candidates that could be merged into a single entity. We will remove stop words from the author's name like \"the\", \"collaboration\", \"for\" and examine how well does this simple technique work."
   ]
  },
  {
   "cell_type": "code",
   "execution_count": 19,
   "metadata": {},
   "outputs": [
    {
     "data": {
      "text/html": [
       "<div>\n",
       "<style scoped>\n",
       "    .dataframe tbody tr th:only-of-type {\n",
       "        vertical-align: middle;\n",
       "    }\n",
       "\n",
       "    .dataframe tbody tr th {\n",
       "        vertical-align: top;\n",
       "    }\n",
       "\n",
       "    .dataframe thead th {\n",
       "        text-align: right;\n",
       "    }\n",
       "</style>\n",
       "<table border=\"1\" class=\"dataframe\">\n",
       "  <thead>\n",
       "    <tr style=\"text-align: right;\">\n",
       "      <th></th>\n",
       "      <th>author</th>\n",
       "      <th>nodes</th>\n",
       "    </tr>\n",
       "  </thead>\n",
       "  <tbody>\n",
       "    <tr>\n",
       "      <th>0</th>\n",
       "      <td>9405</td>\n",
       "      <td>[9405 collaboration, collaboration the 9405]</td>\n",
       "    </tr>\n",
       "    <tr>\n",
       "      <th>1</th>\n",
       "      <td>A1</td>\n",
       "      <td>[A1 Collaboration, Collaboration A1, Collabora...</td>\n",
       "    </tr>\n",
       "    <tr>\n",
       "      <th>2</th>\n",
       "      <td>AGATA</td>\n",
       "      <td>[Collaboration The AGATA, collaboration the AG...</td>\n",
       "    </tr>\n",
       "    <tr>\n",
       "      <th>3</th>\n",
       "      <td>ALADIN</td>\n",
       "      <td>[Collaboration ALADIN, Collaboration the ALADI...</td>\n",
       "    </tr>\n",
       "    <tr>\n",
       "      <th>4</th>\n",
       "      <td>ALADIN2000</td>\n",
       "      <td>[Collaboration ALADIN2000, The ALADIN2000 Coll...</td>\n",
       "    </tr>\n",
       "    <tr>\n",
       "      <th>5</th>\n",
       "      <td>ALICE</td>\n",
       "      <td>[ALICE Collaboration, ALICE collaboration, Col...</td>\n",
       "    </tr>\n",
       "    <tr>\n",
       "      <th>6</th>\n",
       "      <td>ATLAS</td>\n",
       "      <td>[ATLAS Collaboration, Collaboration ATLAS, The...</td>\n",
       "    </tr>\n",
       "    <tr>\n",
       "      <th>7</th>\n",
       "      <td>Adamczewski-Musch J.  HADES</td>\n",
       "      <td>[Adamczewski-Musch J.  HADES\\n  collaboration,...</td>\n",
       "    </tr>\n",
       "    <tr>\n",
       "      <th>8</th>\n",
       "      <td>Adamczyk L.  STAR</td>\n",
       "      <td>[Adamczyk L.  STAR\\n  Collaboration, Adamczyk ...</td>\n",
       "    </tr>\n",
       "    <tr>\n",
       "      <th>9</th>\n",
       "      <td>Adhikari K. P.      CLAS</td>\n",
       "      <td>[Adhikari K. P.  for the CLAS\\n  collaboration...</td>\n",
       "    </tr>\n",
       "  </tbody>\n",
       "</table>\n",
       "</div>"
      ],
      "text/plain": [
       "                        author  \\\n",
       "0                         9405   \n",
       "1                           A1   \n",
       "2                        AGATA   \n",
       "3                       ALADIN   \n",
       "4                   ALADIN2000   \n",
       "5                        ALICE   \n",
       "6                        ATLAS   \n",
       "7  Adamczewski-Musch J.  HADES   \n",
       "8            Adamczyk L.  STAR   \n",
       "9     Adhikari K. P.      CLAS   \n",
       "\n",
       "                                               nodes  \n",
       "0       [9405 collaboration, collaboration the 9405]  \n",
       "1  [A1 Collaboration, Collaboration A1, Collabora...  \n",
       "2  [Collaboration The AGATA, collaboration the AG...  \n",
       "3  [Collaboration ALADIN, Collaboration the ALADI...  \n",
       "4  [Collaboration ALADIN2000, The ALADIN2000 Coll...  \n",
       "5  [ALICE Collaboration, ALICE collaboration, Col...  \n",
       "6  [ATLAS Collaboration, Collaboration ATLAS, The...  \n",
       "7  [Adamczewski-Musch J.  HADES\\n  collaboration,...  \n",
       "8  [Adamczyk L.  STAR\\n  Collaboration, Adamczyk ...  \n",
       "9  [Adhikari K. P.  for the CLAS\\n  collaboration...  "
      ]
     },
     "execution_count": 19,
     "metadata": {},
     "output_type": "execute_result"
    }
   ],
   "source": [
    "read_query(\"\"\"\n",
    "WITH [\"The\",\"the\",\"Collaboration\", \"collaboration\", \"for\", \"For\", \"\\n\",\"on behalf of\",\"By \"] as remove_words\n",
    "MATCH (a:Author)\n",
    "WHERE a.name contains \"ollaboration\"\n",
    "WITH trim(reduce(v = a.name, word in remove_words | apoc.text.replace(v, word, ' '))) as author,\n",
    "       collect(a.name) as nodes\n",
    "WHERE size(nodes) > 1\n",
    "RETURN author, nodes\n",
    "ORDER BY author\n",
    "LIMIT 10\n",
    "\"\"\")"
   ]
  },
  {
   "cell_type": "markdown",
   "metadata": {},
   "source": [
    "It appears that this simple technique found many candidates to be merged. It also found examples where both an author and a collaboration can be mentioned as a single author. An example would be Adhikari K. P. for the CLAS Collaboration. We will first merge these candidates as presented in the previous query and go from there."
   ]
  },
  {
   "cell_type": "code",
   "execution_count": 20,
   "metadata": {},
   "outputs": [
    {
     "data": {
      "text/html": [
       "<div>\n",
       "<style scoped>\n",
       "    .dataframe tbody tr th:only-of-type {\n",
       "        vertical-align: middle;\n",
       "    }\n",
       "\n",
       "    .dataframe tbody tr th {\n",
       "        vertical-align: top;\n",
       "    }\n",
       "\n",
       "    .dataframe thead th {\n",
       "        text-align: right;\n",
       "    }\n",
       "</style>\n",
       "<table border=\"1\" class=\"dataframe\">\n",
       "  <thead>\n",
       "    <tr style=\"text-align: right;\">\n",
       "      <th></th>\n",
       "      <th>result</th>\n",
       "    </tr>\n",
       "  </thead>\n",
       "  <tbody>\n",
       "    <tr>\n",
       "      <th>0</th>\n",
       "      <td>done</td>\n",
       "    </tr>\n",
       "  </tbody>\n",
       "</table>\n",
       "</div>"
      ],
      "text/plain": [
       "  result\n",
       "0   done"
      ]
     },
     "execution_count": 20,
     "metadata": {},
     "output_type": "execute_result"
    }
   ],
   "source": [
    "read_query(\"\"\"\n",
    "WITH [\"The\",\"the\",\"Collaboration\", \"collaboration\", \"for\", \"For\", \"\\n\",\"on behalf of\",\"By \"] as remove_words\n",
    "MATCH (a:Author)\n",
    "WHERE (a.name contains \"ollaboration\" OR a.name IN [\"INDRA\",\"H1\"]) AND NOT a.name CONTAINS \"ollaborations\" \n",
    "WITH trim(reduce(v = a.name, word in remove_words | apoc.text.replace(v, word, ' '))) as collab,\n",
    "       collect(a) as nodes\n",
    "CALL apoc.refactor.mergeNodes(nodes) YIELD node\n",
    "SET node.name = collab, node:Collaboration\n",
    "RETURN distinct 'done' as result\n",
    "\"\"\")"
   ]
  },
  {
   "cell_type": "markdown",
   "metadata": {},
   "source": [
    "Next, we can decouple the entities where both the author and the collaboration are present as a single entity. We will start with a simple assumption that the last word in the author's name represents the collaboration. We will compare the last word of the author's name with the existing collaborations in our graph. If the last word matches an existing collaboration, we will decouple the single author node into collaboration and author nodes."
   ]
  },
  {
   "cell_type": "code",
   "execution_count": 21,
   "metadata": {},
   "outputs": [
    {
     "data": {
      "text/html": [
       "<div>\n",
       "<style scoped>\n",
       "    .dataframe tbody tr th:only-of-type {\n",
       "        vertical-align: middle;\n",
       "    }\n",
       "\n",
       "    .dataframe tbody tr th {\n",
       "        vertical-align: top;\n",
       "    }\n",
       "\n",
       "    .dataframe thead th {\n",
       "        text-align: right;\n",
       "    }\n",
       "</style>\n",
       "<table border=\"1\" class=\"dataframe\">\n",
       "  <thead>\n",
       "    <tr style=\"text-align: right;\">\n",
       "      <th></th>\n",
       "      <th>author</th>\n",
       "      <th>collab</th>\n",
       "    </tr>\n",
       "  </thead>\n",
       "  <tbody>\n",
       "    <tr>\n",
       "      <th>0</th>\n",
       "      <td>Ulery Jason Glyndwr</td>\n",
       "      <td>STAR</td>\n",
       "    </tr>\n",
       "    <tr>\n",
       "      <th>1</th>\n",
       "      <td>Peressounko D.</td>\n",
       "      <td>PHENIX</td>\n",
       "    </tr>\n",
       "    <tr>\n",
       "      <th>2</th>\n",
       "      <td>Denizli H.</td>\n",
       "      <td>CLAS</td>\n",
       "    </tr>\n",
       "    <tr>\n",
       "      <th>3</th>\n",
       "      <td>Mueller J.</td>\n",
       "      <td>CLAS</td>\n",
       "    </tr>\n",
       "    <tr>\n",
       "      <th>4</th>\n",
       "      <td>al. S. Dytman et</td>\n",
       "      <td>CLAS</td>\n",
       "    </tr>\n",
       "    <tr>\n",
       "      <th>5</th>\n",
       "      <td>Sharma Monika</td>\n",
       "      <td>STAR</td>\n",
       "    </tr>\n",
       "    <tr>\n",
       "      <th>6</th>\n",
       "      <td>Dogra Sunil</td>\n",
       "      <td>STAR</td>\n",
       "    </tr>\n",
       "    <tr>\n",
       "      <th>7</th>\n",
       "      <td>Gupta Neeraj</td>\n",
       "      <td>STAR</td>\n",
       "    </tr>\n",
       "    <tr>\n",
       "      <th>8</th>\n",
       "      <td>Steinberg P.</td>\n",
       "      <td>ATLAS</td>\n",
       "    </tr>\n",
       "    <tr>\n",
       "      <th>9</th>\n",
       "      <td>Hanks Ali</td>\n",
       "      <td>PHENIX</td>\n",
       "    </tr>\n",
       "  </tbody>\n",
       "</table>\n",
       "</div>"
      ],
      "text/plain": [
       "                author  collab\n",
       "0  Ulery Jason Glyndwr    STAR\n",
       "1       Peressounko D.  PHENIX\n",
       "2           Denizli H.    CLAS\n",
       "3           Mueller J.    CLAS\n",
       "4     al. S. Dytman et    CLAS\n",
       "5        Sharma Monika    STAR\n",
       "6          Dogra Sunil    STAR\n",
       "7         Gupta Neeraj    STAR\n",
       "8         Steinberg P.   ATLAS\n",
       "9            Hanks Ali  PHENIX"
      ]
     },
     "execution_count": 21,
     "metadata": {},
     "output_type": "execute_result"
    }
   ],
   "source": [
    "read_query(\"\"\"\n",
    "MATCH (c:Collaboration)\n",
    "WHERE size(split(c.name,' ')) > 1\n",
    "WITH c, split(c.name,' ')[-1] as collab\n",
    "MATCH (c1:Collaboration{name:collab})\n",
    "RETURN trim(replace(c.name, collab, '')) as author, c1.name as collab\n",
    "LIMIT 10\n",
    "\"\"\")"
   ]
  },
  {
   "cell_type": "markdown",
   "metadata": {},
   "source": [
    "This query only looked at intermediate results but did not store the decoupled relationships. The decoupling results are satisfactory, so we will go ahead and save the decoupled relationships back to the graph."
   ]
  },
  {
   "cell_type": "code",
   "execution_count": 22,
   "metadata": {},
   "outputs": [
    {
     "data": {
      "text/html": [
       "<div>\n",
       "<style scoped>\n",
       "    .dataframe tbody tr th:only-of-type {\n",
       "        vertical-align: middle;\n",
       "    }\n",
       "\n",
       "    .dataframe tbody tr th {\n",
       "        vertical-align: top;\n",
       "    }\n",
       "\n",
       "    .dataframe thead th {\n",
       "        text-align: right;\n",
       "    }\n",
       "</style>\n",
       "<table border=\"1\" class=\"dataframe\">\n",
       "  <thead>\n",
       "    <tr style=\"text-align: right;\">\n",
       "      <th></th>\n",
       "      <th>result</th>\n",
       "    </tr>\n",
       "  </thead>\n",
       "  <tbody>\n",
       "    <tr>\n",
       "      <th>0</th>\n",
       "      <td>done</td>\n",
       "    </tr>\n",
       "  </tbody>\n",
       "</table>\n",
       "</div>"
      ],
      "text/plain": [
       "  result\n",
       "0   done"
      ]
     },
     "execution_count": 22,
     "metadata": {},
     "output_type": "execute_result"
    }
   ],
   "source": [
    "read_query(\"\"\"\n",
    "MATCH (c:Collaboration)\n",
    "WHERE size(split(c.name,' ')) > 1\n",
    "WITH c, split(c.name,' ')[-1] as collab\n",
    "MATCH (new_colab:Collaboration{name:collab})\n",
    "WITH c,new_colab, trim(replace(c.name, collab, '')) as author\n",
    "MATCH (c)-[:WROTE]->(article:Article)\n",
    "MERGE (new_author:Author{name:author})\n",
    "MERGE (new_colab)-[:WROTE]->(article)\n",
    "MERGE (new_author)-[:WROTE]->(article)\n",
    "WITH distinct c\n",
    "DETACH DELETE c\n",
    "RETURN distinct 'done' as result\n",
    "\"\"\")"
   ]
  },
  {
   "cell_type": "markdown",
   "metadata": {},
   "source": [
    "Let's examine the potential collaboration candidates that our previous decoupling technique missed."
   ]
  },
  {
   "cell_type": "code",
   "execution_count": 23,
   "metadata": {},
   "outputs": [
    {
     "data": {
      "text/html": [
       "<div>\n",
       "<style scoped>\n",
       "    .dataframe tbody tr th:only-of-type {\n",
       "        vertical-align: middle;\n",
       "    }\n",
       "\n",
       "    .dataframe tbody tr th {\n",
       "        vertical-align: top;\n",
       "    }\n",
       "\n",
       "    .dataframe thead th {\n",
       "        text-align: right;\n",
       "    }\n",
       "</style>\n",
       "<table border=\"1\" class=\"dataframe\">\n",
       "  <thead>\n",
       "    <tr style=\"text-align: right;\">\n",
       "      <th></th>\n",
       "      <th>author</th>\n",
       "    </tr>\n",
       "  </thead>\n",
       "  <tbody>\n",
       "    <tr>\n",
       "      <th>0</th>\n",
       "      <td>Junkersfeld J.      CB-ELSA</td>\n",
       "    </tr>\n",
       "    <tr>\n",
       "      <th>1</th>\n",
       "      <td>Curceanu Catalina      AMADEUS</td>\n",
       "    </tr>\n",
       "    <tr>\n",
       "      <th>2</th>\n",
       "      <td>van Pee H.      CB-ELSA</td>\n",
       "    </tr>\n",
       "    <tr>\n",
       "      <th>3</th>\n",
       "      <td>Bartholomy O.      CB-ELSA</td>\n",
       "    </tr>\n",
       "    <tr>\n",
       "      <th>4</th>\n",
       "      <td>Crede V.      CB-ELSA</td>\n",
       "    </tr>\n",
       "    <tr>\n",
       "      <th>5</th>\n",
       "      <td>Lukasik J.      ALADIN'2000</td>\n",
       "    </tr>\n",
       "  </tbody>\n",
       "</table>\n",
       "</div>"
      ],
      "text/plain": [
       "                           author\n",
       "0     Junkersfeld J.      CB-ELSA\n",
       "1  Curceanu Catalina      AMADEUS\n",
       "2         van Pee H.      CB-ELSA\n",
       "3      Bartholomy O.      CB-ELSA\n",
       "4           Crede V.      CB-ELSA\n",
       "5     Lukasik J.      ALADIN'2000"
      ]
     },
     "execution_count": 23,
     "metadata": {},
     "output_type": "execute_result"
    }
   ],
   "source": [
    "read_query(\"\"\"\n",
    "MATCH (c:Collaboration)\n",
    "WHERE size(split(c.name,' ')) > 1\n",
    "RETURN c.name as author\n",
    "LIMIT 6\n",
    "\"\"\")"
   ]
  },
  {
   "cell_type": "markdown",
   "metadata": {},
   "source": [
    "Some of the collaboration names are longer than just a single word, like  \"Jefferson Lab Hall A\" and we have missed those. Some of the others weren't tagged as collaborations before, because it is not explicitly tagged as collaboration in text. With a bit of manual work, I have listed a bunch of other collaborations that need to be decoupled as well."
   ]
  },
  {
   "cell_type": "code",
   "execution_count": 24,
   "metadata": {},
   "outputs": [
    {
     "data": {
      "text/html": [
       "<div>\n",
       "<style scoped>\n",
       "    .dataframe tbody tr th:only-of-type {\n",
       "        vertical-align: middle;\n",
       "    }\n",
       "\n",
       "    .dataframe tbody tr th {\n",
       "        vertical-align: top;\n",
       "    }\n",
       "\n",
       "    .dataframe thead th {\n",
       "        text-align: right;\n",
       "    }\n",
       "</style>\n",
       "<table border=\"1\" class=\"dataframe\">\n",
       "  <thead>\n",
       "    <tr style=\"text-align: right;\">\n",
       "      <th></th>\n",
       "      <th>result</th>\n",
       "    </tr>\n",
       "  </thead>\n",
       "  <tbody>\n",
       "    <tr>\n",
       "      <th>0</th>\n",
       "      <td>done</td>\n",
       "    </tr>\n",
       "  </tbody>\n",
       "</table>\n",
       "</div>"
      ],
      "text/plain": [
       "  result\n",
       "0   done"
      ]
     },
     "execution_count": 24,
     "metadata": {},
     "output_type": "execute_result"
    }
   ],
   "source": [
    "read_query(\"\"\"\n",
    "UNWIND [\"Jefferson Lab Hall A\", \"NA61/SHINE\", \"Crystal Ball at MAMI\", \"WA98\", \"A2 at MAMI\",\n",
    "        \"JETSCAPE\", \"DLS\", \"WASA-at-COSY\", \"CERES/NA45\", \"ALADIN'2000\",\n",
    "        \"AMADEUS\", \"CB-ELSA\", \"GRAAL\", \"KEK-PS E559\",\"CELSIUS-WASA\",\n",
    "        \"RHIC Spin\", \"EIC\", \"LSSS\", \"COSY-11\", \"PAX\", \"Hall A\", \"LPC-CHARISSA-DEMON\",\n",
    "        \"Crystal Ball at MAMI\", \"KLOE-2\", \"Graal\", \"HAL QCD\", \"MAJORANA.\",\"Daya Bay\",\n",
    "        \"UConn-Yale-TUNL-Weizmann-PTB-UCL\", \"KamLAND-Zen\", \"COMPASS\", \"PREX\", \"ALICE HLT\"] as collab\n",
    "MATCH (c:Collaboration)\n",
    "WHERE size(split(c.name,' ')) > 1 AND NOT c.name in [\"Jefferson Lab Hall A\", \"Hall A DVCS\", \"Hall A\", \"HAL QCD\"] AND\n",
    "      c.name contains collab\n",
    "WITH c, trim(replace(c.name,collab,'')) as author, collab\n",
    "MERGE (new_author:Author{name:author})\n",
    "MERGE (new_collab:Author{name:collab})\n",
    "SET new_collab:Collaboration\n",
    "WITH c, new_author, new_collab\n",
    "MATCH (c)-[:WROTE]->(article:Article)\n",
    "MERGE (new_author)-[:WROTE]->(article)\n",
    "MERGE (new_collab)-[:WROTE]->(article)\n",
    "WITH distinct c\n",
    "DETACH delete c\n",
    "RETURN distinct 'done' as result\n",
    "\"\"\")"
   ]
  },
  {
   "cell_type": "markdown",
   "metadata": {},
   "source": [
    "Last, but not least, the  \"Jefferson Lab Hall A\" shows up also as \"Hall A DVCS\" and \"Hall A\", so we'll merge them into a single entity as well."
   ]
  },
  {
   "cell_type": "code",
   "execution_count": 25,
   "metadata": {},
   "outputs": [
    {
     "data": {
      "text/html": [
       "<div>\n",
       "<style scoped>\n",
       "    .dataframe tbody tr th:only-of-type {\n",
       "        vertical-align: middle;\n",
       "    }\n",
       "\n",
       "    .dataframe tbody tr th {\n",
       "        vertical-align: top;\n",
       "    }\n",
       "\n",
       "    .dataframe thead th {\n",
       "        text-align: right;\n",
       "    }\n",
       "</style>\n",
       "<table border=\"1\" class=\"dataframe\">\n",
       "  <thead>\n",
       "    <tr style=\"text-align: right;\">\n",
       "      <th></th>\n",
       "      <th>result</th>\n",
       "    </tr>\n",
       "  </thead>\n",
       "  <tbody>\n",
       "    <tr>\n",
       "      <th>0</th>\n",
       "      <td>done</td>\n",
       "    </tr>\n",
       "  </tbody>\n",
       "</table>\n",
       "</div>"
      ],
      "text/plain": [
       "  result\n",
       "0   done"
      ]
     },
     "execution_count": 25,
     "metadata": {},
     "output_type": "execute_result"
    }
   ],
   "source": [
    "read_query(\"\"\"\n",
    "MATCH (c:Collaboration)\n",
    "WHERE c.name contains \"Hall A\"\n",
    "WITH c ORDER BY c.name\n",
    "WITH collect(c) as nodes\n",
    "CALL apoc.refactor.mergeNodes(nodes, {properties: {name:'overwrite'}}) YIELD node\n",
    "RETURN distinct 'done' as result\n",
    "\"\"\")"
   ]
  },
  {
   "cell_type": "markdown",
   "metadata": {},
   "source": [
    "We have cleaned the entities where a single collaboration or a pair of collaboration and an author appeared. The dataset also has entities where two or more collaborations can occur along with an author. Because this is not a data cleaning workshop, we'll skip cleaning this data."
   ]
  },
  {
   "cell_type": "code",
   "execution_count": 26,
   "metadata": {},
   "outputs": [
    {
     "data": {
      "text/html": [
       "<div>\n",
       "<style scoped>\n",
       "    .dataframe tbody tr th:only-of-type {\n",
       "        vertical-align: middle;\n",
       "    }\n",
       "\n",
       "    .dataframe tbody tr th {\n",
       "        vertical-align: top;\n",
       "    }\n",
       "\n",
       "    .dataframe thead th {\n",
       "        text-align: right;\n",
       "    }\n",
       "</style>\n",
       "<table border=\"1\" class=\"dataframe\">\n",
       "  <thead>\n",
       "    <tr style=\"text-align: right;\">\n",
       "      <th></th>\n",
       "      <th>author</th>\n",
       "    </tr>\n",
       "  </thead>\n",
       "  <tbody>\n",
       "    <tr>\n",
       "      <th>0</th>\n",
       "      <td>Acha A.  HKS - JLab\\n  E05-115 and E01-001 - C...</td>\n",
       "    </tr>\n",
       "    <tr>\n",
       "      <th>1</th>\n",
       "      <td>Achenbach P.  HKS - JLab\\n  E05-115 and E01-00...</td>\n",
       "    </tr>\n",
       "    <tr>\n",
       "      <th>2</th>\n",
       "      <td>Adhikari K. P.  The CLAS and Hall-A Collaborat...</td>\n",
       "    </tr>\n",
       "    <tr>\n",
       "      <th>3</th>\n",
       "      <td>Aghasyan M.  The CLAS and Hall-A Collaborations</td>\n",
       "    </tr>\n",
       "    <tr>\n",
       "      <th>4</th>\n",
       "      <td>Aguar-Bartolomé P.  The Crystal Ball at MAMI, ...</td>\n",
       "    </tr>\n",
       "  </tbody>\n",
       "</table>\n",
       "</div>"
      ],
      "text/plain": [
       "                                              author\n",
       "0  Acha A.  HKS - JLab\\n  E05-115 and E01-001 - C...\n",
       "1  Achenbach P.  HKS - JLab\\n  E05-115 and E01-00...\n",
       "2  Adhikari K. P.  The CLAS and Hall-A Collaborat...\n",
       "3    Aghasyan M.  The CLAS and Hall-A Collaborations\n",
       "4  Aguar-Bartolomé P.  The Crystal Ball at MAMI, ..."
      ]
     },
     "execution_count": 26,
     "metadata": {},
     "output_type": "execute_result"
    }
   ],
   "source": [
    "read_query(\"\"\"\n",
    "MATCH (a:Author)\n",
    "WHERE a.name CONTAINS \"Collaborations\"\n",
    "RETURN a.name as author limit 5\n",
    "\"\"\")"
   ]
  },
  {
   "cell_type": "markdown",
   "metadata": {},
   "source": [
    "# Exploratory graph analysis\n",
    "\n",
    "Finally, we can start our exploratory graph analysis. We will begin by taking a look at the number of articles written by publication year."
   ]
  },
  {
   "cell_type": "code",
   "execution_count": 27,
   "metadata": {},
   "outputs": [
    {
     "data": {
      "image/png": "[encoded data removed]",
      "text/plain": [
       "<Figure size 1152x648 with 1 Axes>"
      ]
     },
     "metadata": {
      "needs_background": "light"
     },
     "output_type": "display_data"
    }
   ],
   "source": [
    "data = read_query(\"\"\"\n",
    "MATCH (a:Article)\n",
    "RETURN a.date.year as year, count(*) as articles\n",
    "ORDER BY year\n",
    "\"\"\")\n",
    "fig, ax = pyplot.subplots(figsize=(16,9))\n",
    "ax = sns.barplot(x=\"year\", y=\"articles\", data=data, color=\"blue\")"
   ]
  },
  {
   "cell_type": "markdown",
   "metadata": {},
   "source": [
    "The nuclear experiment category on ArXiv was created in 1994. Since then, it has steadily risen in popularity until the year 2011, where the number of articles written per year has plateaued for the last decade.\n",
    "\n",
    "We will again take a look at the most active authors but disregard any collaborations this time."
   ]
  },
  {
   "cell_type": "code",
   "execution_count": 27,
   "metadata": {},
   "outputs": [
    {
     "data": {
      "text/plain": [
       "[Text(0, 0, 'Lebedev A.'),\n",
       " Text(1, 0, 'Ma Y. G.'),\n",
       " Text(2, 0, 'Li X.'),\n",
       " Text(3, 0, 'Zhang Y.'),\n",
       " Text(4, 0, 'Pei H.'),\n",
       " Text(5, 0, 'Taranenko A.'),\n",
       " Text(6, 0, 'Pak R.'),\n",
       " Text(7, 0, 'Xie W.'),\n",
       " Text(8, 0, 'Esumi S.'),\n",
       " Text(9, 0, 'Lacey R.')]"
      ]
     },
     "execution_count": 27,
     "metadata": {},
     "output_type": "execute_result"
    },
    {
     "data": {
      "image/png": "[encoded data removed]",
      "text/plain": [
       "<Figure size 1152x648 with 1 Axes>"
      ]
     },
     "metadata": {
      "needs_background": "light"
     },
     "output_type": "display_data"
    }
   ],
   "source": [
    "data = read_query(\"\"\"\n",
    "MATCH (a:Author)\n",
    "WHERE NOT a:Collaboration\n",
    "RETURN a.name as author,\n",
    "       size((a)-[:WROTE]->()) as number_of_articles\n",
    "ORDER BY number_of_articles DESC\n",
    "LIMIT 10\n",
    "\"\"\")\n",
    "\n",
    "fig, ax = pyplot.subplots(figsize=(16,9))\n",
    "ax = sns.barplot(x=\"author\", y=\"number_of_articles\", data=data, color=\"blue\")\n",
    "ax.set_xticklabels(ax.get_xticklabels(), rotation=30)"
   ]
  },
  {
   "cell_type": "markdown",
   "metadata": {},
   "source": [
    "Lebedev A. stays as the most active author, while Ma. Y. G. and Li X. follow in the second and third place. Another interesting statistic to look at is who has collaborated with most of the other authors."
   ]
  },
  {
   "cell_type": "code",
   "execution_count": 32,
   "metadata": {},
   "outputs": [
    {
     "data": {
      "text/plain": [
       "[Text(0, 0, 'Wang Y.'),\n",
       " Text(1, 0, 'Zhang Y.'),\n",
       " Text(2, 0, 'Li Y.'),\n",
       " Text(3, 0, 'Dutta D.'),\n",
       " Text(4, 0, 'Zhang C.'),\n",
       " Text(5, 0, 'Li X.'),\n",
       " Text(6, 0, 'Weber M.'),\n",
       " Text(7, 0, 'Wang Z.'),\n",
       " Text(8, 0, 'Liu H.'),\n",
       " Text(9, 0, 'Huang J.')]"
      ]
     },
     "execution_count": 32,
     "metadata": {},
     "output_type": "execute_result"
    },
    {
     "data": {
      "image/png": "[encoded data removed]",
      "text/plain": [
       "<Figure size 1152x648 with 1 Axes>"
      ]
     },
     "metadata": {
      "needs_background": "light"
     },
     "output_type": "display_data"
    }
   ],
   "source": [
    "data = read_query(\"\"\"\n",
    "MATCH (a:Author)-[:WROTE]->()<-[:WROTE]-(other)\n",
    "WHERE NOT a:Collaboration AND NOT other:Collaboration\n",
    "RETURN a.name as author,\n",
    "       count(distinct other) as number_of_coauthors\n",
    "ORDER BY number_of_coauthors DESC\n",
    "LIMIT 10\n",
    "\"\"\")\n",
    "\n",
    "fig, ax = pyplot.subplots(figsize=(16,9))\n",
    "ax = sns.barplot(x=\"author\", y=\"number_of_coauthors\", data=data, color=\"blue\")\n",
    "ax.set_xticklabels(ax.get_xticklabels(), rotation=30)"
   ]
  },
  {
   "cell_type": "markdown",
   "metadata": {},
   "source": [
    "Wang Y. has collaborated with more than 5000 other authors. When I first observed this data, I taught for sure there was some error in the data. It turns out this is correct. The only explanation is that there are articles where many scientists collaborated on a paper. We'll take a look at articles with the highest count of authors."
   ]
  },
  {
   "cell_type": "code",
   "execution_count": 31,
   "metadata": {},
   "outputs": [
    {
     "data": {
      "text/plain": [
       "[Text(0, 0, '2008.06647'),\n",
       " Text(1, 0, '1902.05599'),\n",
       " Text(2, 0, '1810.07655'),\n",
       " Text(3, 0, '1809.01404'),\n",
       " Text(4, 0, '1610.02149'),\n",
       " Text(5, 0, '1606.01118'),\n",
       " Text(6, 0, '1808.08917'),\n",
       " Text(7, 0, '1902.01211'),\n",
       " Text(8, 0, '1004.2377'),\n",
       " Text(9, 0, '1006.1961')]"
      ]
     },
     "execution_count": 31,
     "metadata": {},
     "output_type": "execute_result"
    },
    {
     "data": {
      "image/png": "[encoded data removed]",
      "text/plain": [
       "<Figure size 1152x648 with 1 Axes>"
      ]
     },
     "metadata": {
      "needs_background": "light"
     },
     "output_type": "display_data"
    }
   ],
   "source": [
    "data = read_query(\"\"\"\n",
    "MATCH (a:Author{name:\"Wang Y.\"})-[:WROTE]->(article)\n",
    "RETURN article.id as article,\n",
    "       size((article)<-[:WROTE]-()) as number_of_authors\n",
    "ORDER BY number_of_authors DESC\n",
    "LIMIT 10\n",
    "\"\"\")\n",
    "\n",
    "fig, ax = pyplot.subplots(figsize=(16,9))\n",
    "ax = sns.barplot(x=\"article\", y=\"number_of_authors\", data=data, color=\"blue\")\n",
    "ax.set_xticklabels(ax.get_xticklabels(), rotation=30)"
   ]
  },
  {
   "cell_type": "markdown",
   "metadata": {},
   "source": [
    "There are four articles where more than 800 researchers have collaborated. I've also checked the ArXiv page to verify this data, and it turns out to be valid. I can only applaud the coordinators of these articles, where they could finish a paper with almost a thousand collaborators.\n",
    "\n",
    "Next, we'll take a look at pairs of researchers that have collaborated the most."
   ]
  },
  {
   "cell_type": "code",
   "execution_count": 34,
   "metadata": {},
   "outputs": [
    {
     "data": {
      "text/plain": [
       "[Text(0, 0, 'Lebedev A. with Li X.'),\n",
       " Text(1, 0, 'Lebedev A. with Pei H.'),\n",
       " Text(2, 0, 'Li X. with Pei H.'),\n",
       " Text(3, 0, 'Lebedev A. with Xie W.'),\n",
       " Text(4, 0, 'Pak R. with Lebedev A.'),\n",
       " Text(5, 0, 'Li X. with Xie W.'),\n",
       " Text(6, 0, 'Lebedev A. with Esumi S.'),\n",
       " Text(7, 0, 'Pak R. with Li X.'),\n",
       " Text(8, 0, 'Xie W. with Pei H.'),\n",
       " Text(9, 0, 'Lebedev A. with Jia J.')]"
      ]
     },
     "execution_count": 34,
     "metadata": {},
     "output_type": "execute_result"
    },
    {
     "data": {
      "image/png": "[encoded data removed]",
      "text/plain": [
       "<Figure size 1152x648 with 1 Axes>"
      ]
     },
     "metadata": {
      "needs_background": "light"
     },
     "output_type": "display_data"
    }
   ],
   "source": [
    "data = read_query(\"\"\"\n",
    "MATCH (a:Author)-[:WROTE]->()<-[:WROTE]-(other)\n",
    "WHERE id(a) < id(other) AND NOT a:Collaboration AND NOT other:Collaboration\n",
    "RETURN a.name + ' with ' + other.name as authors,\n",
    "       count(*) as number_of_collaborations\n",
    "ORDER BY number_of_collaborations DESC\n",
    "LIMIT 10\n",
    "\"\"\")\n",
    "\n",
    "fig, ax = pyplot.subplots(figsize=(16,9))\n",
    "ax = sns.barplot(x=\"authors\", y=\"number_of_collaborations\", data=data, color=\"blue\")\n",
    "ax.set_xticklabels(ax.get_xticklabels(), rotation=30)"
   ]
  },
  {
   "cell_type": "markdown",
   "metadata": {},
   "source": [
    "Lebedev A. has worked on more than 200 articles with Li X. and around 180 articles with Pei H. In the third place, we have Li X. and Pei H. We might assume that Lebedev A., Li X., and Pei H. are the powerhouse in the Nuclear Experiments category.\n",
    "\n",
    "We can also examine the most active authors by publication year for the last decade."
   ]
  },
  {
   "cell_type": "code",
   "execution_count": 28,
   "metadata": {},
   "outputs": [
    {
     "data": {
      "text/html": [
       "<div>\n",
       "<style scoped>\n",
       "    .dataframe tbody tr th:only-of-type {\n",
       "        vertical-align: middle;\n",
       "    }\n",
       "\n",
       "    .dataframe tbody tr th {\n",
       "        vertical-align: top;\n",
       "    }\n",
       "\n",
       "    .dataframe thead th {\n",
       "        text-align: right;\n",
       "    }\n",
       "</style>\n",
       "<table border=\"1\" class=\"dataframe\">\n",
       "  <thead>\n",
       "    <tr style=\"text-align: right;\">\n",
       "      <th></th>\n",
       "      <th>year</th>\n",
       "      <th>most_active_authors</th>\n",
       "    </tr>\n",
       "  </thead>\n",
       "  <tbody>\n",
       "    <tr>\n",
       "      <th>0</th>\n",
       "      <td>1994</td>\n",
       "      <td>[Igo G., Matis H. S., Barabanov A. L.]</td>\n",
       "    </tr>\n",
       "    <tr>\n",
       "      <th>1</th>\n",
       "      <td>1995</td>\n",
       "      <td>[Cizewski J. A., Bowman D. R., Horn D.]</td>\n",
       "    </tr>\n",
       "    <tr>\n",
       "      <th>2</th>\n",
       "      <td>1996</td>\n",
       "      <td>[Oberhummer H., Mohr P., Beer H.]</td>\n",
       "    </tr>\n",
       "    <tr>\n",
       "      <th>3</th>\n",
       "      <td>1997</td>\n",
       "      <td>[VanDalen G. J., Wadia N., Geiger Klaus]</td>\n",
       "    </tr>\n",
       "    <tr>\n",
       "      <th>4</th>\n",
       "      <td>1998</td>\n",
       "      <td>[Oelert W., Balewski J. T., Kilian K.]</td>\n",
       "    </tr>\n",
       "    <tr>\n",
       "      <th>5</th>\n",
       "      <td>1999</td>\n",
       "      <td>[Melby E., Schiller A., Rekstad J.]</td>\n",
       "    </tr>\n",
       "    <tr>\n",
       "      <th>6</th>\n",
       "      <td>2000</td>\n",
       "      <td>[Wagner A., Strzalkowski A., Thomas A. W.]</td>\n",
       "    </tr>\n",
       "    <tr>\n",
       "      <th>7</th>\n",
       "      <td>2001</td>\n",
       "      <td>[Drenska S. B., Raychev P. P., Roussev R. P.]</td>\n",
       "    </tr>\n",
       "    <tr>\n",
       "      <th>8</th>\n",
       "      <td>2002</td>\n",
       "      <td>[Adcox K., Bahcall John N., Hudan S.]</td>\n",
       "    </tr>\n",
       "    <tr>\n",
       "      <th>9</th>\n",
       "      <td>2003</td>\n",
       "      <td>[Adams J., Krusche B., Adler S. S.]</td>\n",
       "    </tr>\n",
       "    <tr>\n",
       "      <th>10</th>\n",
       "      <td>2004</td>\n",
       "      <td>[Ma Y. G., Ma Bo-Qiang, Back B. B.]</td>\n",
       "    </tr>\n",
       "    <tr>\n",
       "      <th>11</th>\n",
       "      <td>2005</td>\n",
       "      <td>[Ma Bo-Qiang, Li Bao-An, Adler S. S.]</td>\n",
       "    </tr>\n",
       "    <tr>\n",
       "      <th>12</th>\n",
       "      <td>2006</td>\n",
       "      <td>[Ma Y. G., Gade A., Mueller W. F.]</td>\n",
       "    </tr>\n",
       "    <tr>\n",
       "      <th>13</th>\n",
       "      <td>2007</td>\n",
       "      <td>[Li Bao-An, Chen Lie-Wen, Suzuki T.]</td>\n",
       "    </tr>\n",
       "    <tr>\n",
       "      <th>14</th>\n",
       "      <td>2008</td>\n",
       "      <td>[Rauscher T., Abelev B. I., Wilkin C.]</td>\n",
       "    </tr>\n",
       "    <tr>\n",
       "      <th>15</th>\n",
       "      <td>2009</td>\n",
       "      <td>[Abelev B. I., Thoennessen M., Fabbietti L.]</td>\n",
       "    </tr>\n",
       "    <tr>\n",
       "      <th>16</th>\n",
       "      <td>2010</td>\n",
       "      <td>[Lebedev A., Chung P., Li X.]</td>\n",
       "    </tr>\n",
       "    <tr>\n",
       "      <th>17</th>\n",
       "      <td>2011</td>\n",
       "      <td>[Ma Y. G., Chung P., Arrington J.]</td>\n",
       "    </tr>\n",
       "    <tr>\n",
       "      <th>18</th>\n",
       "      <td>2012</td>\n",
       "      <td>[Lebedev A., Dion A., Fleuret F.]</td>\n",
       "    </tr>\n",
       "    <tr>\n",
       "      <th>19</th>\n",
       "      <td>2013</td>\n",
       "      <td>[Li X., Lebedev A., Masui H.]</td>\n",
       "    </tr>\n",
       "    <tr>\n",
       "      <th>20</th>\n",
       "      <td>2014</td>\n",
       "      <td>[Lebedev A., Li X., Pei H.]</td>\n",
       "    </tr>\n",
       "    <tr>\n",
       "      <th>21</th>\n",
       "      <td>2015</td>\n",
       "      <td>[Lebedev A., Li X., Manion A.]</td>\n",
       "    </tr>\n",
       "    <tr>\n",
       "      <th>22</th>\n",
       "      <td>2016</td>\n",
       "      <td>[Ma Y. G., Zhang Y., Lebedev A.]</td>\n",
       "    </tr>\n",
       "    <tr>\n",
       "      <th>23</th>\n",
       "      <td>2017</td>\n",
       "      <td>[Zhang J., Lebedev A., Skoby M. J.]</td>\n",
       "    </tr>\n",
       "    <tr>\n",
       "      <th>24</th>\n",
       "      <td>2018</td>\n",
       "      <td>[Lebedev A., Taranenko A., Zhang J.]</td>\n",
       "    </tr>\n",
       "    <tr>\n",
       "      <th>25</th>\n",
       "      <td>2019</td>\n",
       "      <td>[Li X., Wang Y., Taranenko A.]</td>\n",
       "    </tr>\n",
       "    <tr>\n",
       "      <th>26</th>\n",
       "      <td>2020</td>\n",
       "      <td>[Taranenko A., Lebedev A., Ma Y. G.]</td>\n",
       "    </tr>\n",
       "  </tbody>\n",
       "</table>\n",
       "</div>"
      ],
      "text/plain": [
       "    year                            most_active_authors\n",
       "0   1994         [Igo G., Matis H. S., Barabanov A. L.]\n",
       "1   1995        [Cizewski J. A., Bowman D. R., Horn D.]\n",
       "2   1996              [Oberhummer H., Mohr P., Beer H.]\n",
       "3   1997       [VanDalen G. J., Wadia N., Geiger Klaus]\n",
       "4   1998         [Oelert W., Balewski J. T., Kilian K.]\n",
       "5   1999            [Melby E., Schiller A., Rekstad J.]\n",
       "6   2000     [Wagner A., Strzalkowski A., Thomas A. W.]\n",
       "7   2001  [Drenska S. B., Raychev P. P., Roussev R. P.]\n",
       "8   2002          [Adcox K., Bahcall John N., Hudan S.]\n",
       "9   2003            [Adams J., Krusche B., Adler S. S.]\n",
       "10  2004            [Ma Y. G., Ma Bo-Qiang, Back B. B.]\n",
       "11  2005          [Ma Bo-Qiang, Li Bao-An, Adler S. S.]\n",
       "12  2006             [Ma Y. G., Gade A., Mueller W. F.]\n",
       "13  2007           [Li Bao-An, Chen Lie-Wen, Suzuki T.]\n",
       "14  2008         [Rauscher T., Abelev B. I., Wilkin C.]\n",
       "15  2009   [Abelev B. I., Thoennessen M., Fabbietti L.]\n",
       "16  2010                  [Lebedev A., Chung P., Li X.]\n",
       "17  2011             [Ma Y. G., Chung P., Arrington J.]\n",
       "18  2012              [Lebedev A., Dion A., Fleuret F.]\n",
       "19  2013                  [Li X., Lebedev A., Masui H.]\n",
       "20  2014                    [Lebedev A., Li X., Pei H.]\n",
       "21  2015                 [Lebedev A., Li X., Manion A.]\n",
       "22  2016               [Ma Y. G., Zhang Y., Lebedev A.]\n",
       "23  2017            [Zhang J., Lebedev A., Skoby M. J.]\n",
       "24  2018           [Lebedev A., Taranenko A., Zhang J.]\n",
       "25  2019                 [Li X., Wang Y., Taranenko A.]\n",
       "26  2020           [Taranenko A., Lebedev A., Ma Y. G.]"
      ]
     },
     "execution_count": 28,
     "metadata": {},
     "output_type": "execute_result"
    }
   ],
   "source": [
    "read_query(\"\"\"\n",
    "MATCH (a:Author)-[:WROTE]->(article:Article)\n",
    "WHERE NOT a:Collaboration AND article.date.year > 2010\n",
    "WITH article.date.year as year, a.name as author, count(*) as count\n",
    "ORDER BY count DESC \n",
    "RETURN year,\n",
    "       collect(author)[..3] as most_active_authors\n",
    "ORDER BY year \n",
    "\"\"\")"
   ]
  },
  {
   "cell_type": "markdown",
   "metadata": {},
   "source": [
    "# Co-authorship network analysis\n",
    "If we remember, the idea for this article came out of necessity to find a potential collaborator for my basement project. After some basic graph explorations, it seems that one can't do nuclear experiments on its own but has to join a collaboration or find a study to participate with 800 other scientists.\n",
    "We will explore the co-authorship network with the help of the Neo4j Graph Data Science library. If you need a quick refresher on how does the GDS library work, I would suggest the Introduction to graph algorithm course.\n",
    "An important thing to note is that our network analysis of the co-authorship network does not consider how influential the papers the authors have written are. It can be seen as more of a social network analysis, where we assume that if two authors collaborated on an article, they know each other. This way, I can find authors with lots of networking influence to collaborate on my project and introduce me to various people and organizations.\n",
    "We will use the Cypher projection feature to project the co-authorship network. The co-authorship relationship between the authors does not exist in our stored graph, so it could be said that we will be projecting a virtual network where we reduce the 2-hop relationship to a direct relationship without having to save the direct relationship in Neo4j. We will also disregard nodes with the Collaboration label in our analysis."
   ]
  },
  {
   "cell_type": "code",
   "execution_count": 37,
   "metadata": {},
   "outputs": [
    {
     "data": {
      "text/html": [
       "<div>\n",
       "<style scoped>\n",
       "    .dataframe tbody tr th:only-of-type {\n",
       "        vertical-align: middle;\n",
       "    }\n",
       "\n",
       "    .dataframe tbody tr th {\n",
       "        vertical-align: top;\n",
       "    }\n",
       "\n",
       "    .dataframe thead th {\n",
       "        text-align: right;\n",
       "    }\n",
       "</style>\n",
       "<table border=\"1\" class=\"dataframe\">\n",
       "  <thead>\n",
       "    <tr style=\"text-align: right;\">\n",
       "      <th></th>\n",
       "      <th>nodeQuery</th>\n",
       "      <th>relationshipQuery</th>\n",
       "      <th>graphName</th>\n",
       "      <th>nodeCount</th>\n",
       "      <th>relationshipCount</th>\n",
       "      <th>createMillis</th>\n",
       "    </tr>\n",
       "  </thead>\n",
       "  <tbody>\n",
       "    <tr>\n",
       "      <th>0</th>\n",
       "      <td>MATCH (a:Author) WHERE NOT a:Collaboration RET...</td>\n",
       "      <td>MATCH (s:Author)-[:WROTE]-&gt;()&lt;-[:WROTE]-(t:Aut...</td>\n",
       "      <td>coauthorship-network</td>\n",
       "      <td>55134</td>\n",
       "      <td>9932908</td>\n",
       "      <td>29973</td>\n",
       "    </tr>\n",
       "  </tbody>\n",
       "</table>\n",
       "</div>"
      ],
      "text/plain": [
       "                                           nodeQuery  \\\n",
       "0  MATCH (a:Author) WHERE NOT a:Collaboration RET...   \n",
       "\n",
       "                                   relationshipQuery             graphName  \\\n",
       "0  MATCH (s:Author)-[:WROTE]->()<-[:WROTE]-(t:Aut...  coauthorship-network   \n",
       "\n",
       "   nodeCount  relationshipCount  createMillis  \n",
       "0      55134            9932908         29973  "
      ]
     },
     "execution_count": 37,
     "metadata": {},
     "output_type": "execute_result"
    }
   ],
   "source": [
    "read_query(\"\"\"\n",
    "CALL gds.graph.create.cypher('coauthorship-network',\n",
    "  'MATCH (a:Author) WHERE NOT a:Collaboration RETURN id(a) as id',\n",
    "  'MATCH (s:Author)-[:WROTE]->()<-[:WROTE]-(t:Author)\n",
    "   WHERE NOT s:Collaboration AND NOT t:Collaboration\n",
    "   RETURN id(s) as source, id(t) as target, count(*) as weight')\n",
    "\"\"\")"
   ]
  },
  {
   "cell_type": "markdown",
   "metadata": {},
   "source": [
    "We will begin with the Weakly Connected Components algorithms. It is used to find disconnected components or islands within the graph."
   ]
  },
  {
   "cell_type": "code",
   "execution_count": 38,
   "metadata": {},
   "outputs": [
    {
     "data": {
      "text/html": [
       "<div>\n",
       "<style scoped>\n",
       "    .dataframe tbody tr th:only-of-type {\n",
       "        vertical-align: middle;\n",
       "    }\n",
       "\n",
       "    .dataframe tbody tr th {\n",
       "        vertical-align: top;\n",
       "    }\n",
       "\n",
       "    .dataframe thead th {\n",
       "        text-align: right;\n",
       "    }\n",
       "</style>\n",
       "<table border=\"1\" class=\"dataframe\">\n",
       "  <thead>\n",
       "    <tr style=\"text-align: right;\">\n",
       "      <th></th>\n",
       "      <th>componentCount</th>\n",
       "      <th>componentDistribution</th>\n",
       "    </tr>\n",
       "  </thead>\n",
       "  <tbody>\n",
       "    <tr>\n",
       "      <th>0</th>\n",
       "      <td>2281</td>\n",
       "      <td>{'p99': 35, 'min': 1, 'max': 46666, 'mean': 24...</td>\n",
       "    </tr>\n",
       "  </tbody>\n",
       "</table>\n",
       "</div>"
      ],
      "text/plain": [
       "   componentCount                              componentDistribution\n",
       "0            2281  {'p99': 35, 'min': 1, 'max': 46666, 'mean': 24..."
      ]
     },
     "execution_count": 38,
     "metadata": {},
     "output_type": "execute_result"
    }
   ],
   "source": [
    "read_query(\"\"\"\n",
    "CALL gds.wcc.write('coauthorship-network', {writeProperty:'wcc_coauthorship'})\n",
    "YIELD componentCount, componentDistribution\n",
    "\"\"\")"
   ]
  },
  {
   "cell_type": "markdown",
   "metadata": {},
   "source": [
    "There is a total of 2281 components in our network. More than half of them consist of a single node, which indicates that the specific author has no collaborations. As with most real-world networks, we have a single super component that contains 85% of all nodes and then many smaller ones.\n",
    "Next, we will execute the weighted variant of the PageRank algorithm to find the authors with the highest networking potential. We expect that authors who collaborated with other influential networking authors will rank the highest. We will store the results to Neo4j with the write mode of the algorithm."
   ]
  },
  {
   "cell_type": "code",
   "execution_count": 41,
   "metadata": {},
   "outputs": [
    {
     "data": {
      "text/html": [
       "<div>\n",
       "<style scoped>\n",
       "    .dataframe tbody tr th:only-of-type {\n",
       "        vertical-align: middle;\n",
       "    }\n",
       "\n",
       "    .dataframe tbody tr th {\n",
       "        vertical-align: top;\n",
       "    }\n",
       "\n",
       "    .dataframe thead th {\n",
       "        text-align: right;\n",
       "    }\n",
       "</style>\n",
       "<table border=\"1\" class=\"dataframe\">\n",
       "  <thead>\n",
       "    <tr style=\"text-align: right;\">\n",
       "      <th></th>\n",
       "      <th>centralityDistribution</th>\n",
       "    </tr>\n",
       "  </thead>\n",
       "  <tbody>\n",
       "    <tr>\n",
       "      <th>0</th>\n",
       "      <td>{'p1': 0.14999961853027344, 'max': 16.52624416...</td>\n",
       "    </tr>\n",
       "  </tbody>\n",
       "</table>\n",
       "</div>"
      ],
      "text/plain": [
       "                              centralityDistribution\n",
       "0  {'p1': 0.14999961853027344, 'max': 16.52624416..."
      ]
     },
     "execution_count": 41,
     "metadata": {},
     "output_type": "execute_result"
    }
   ],
   "source": [
    "read_query(\"\"\"\n",
    "CALL gds.pageRank.write('coauthorship-network', \n",
    "  {writeProperty:'pagerank_coauthorship', maxIterations:20, relationshipWeightProperty:'weight'})\n",
    "YIELD centralityDistribution\n",
    "\"\"\")"
   ]
  },
  {
   "cell_type": "markdown",
   "metadata": {},
   "source": [
    "Let's examine the authors with the highest networking potential."
   ]
  },
  {
   "cell_type": "code",
   "execution_count": 42,
   "metadata": {},
   "outputs": [
    {
     "data": {
      "text/plain": [
       "[Text(0, 0, 'Zhang Y.'),\n",
       " Text(1, 0, 'Lebedev A.'),\n",
       " Text(2, 0, 'Li X.'),\n",
       " Text(3, 0, 'Wang Y.'),\n",
       " Text(4, 0, 'Li Bao-An'),\n",
       " Text(5, 0, 'Li Y.'),\n",
       " Text(6, 0, 'Ma Y. G.'),\n",
       " Text(7, 0, 'Zhang J.'),\n",
       " Text(8, 0, 'Dutta D.'),\n",
       " Text(9, 0, 'Ye Z.')]"
      ]
     },
     "execution_count": 42,
     "metadata": {},
     "output_type": "execute_result"
    },
    {
     "data": {
      "image/png": "[encoded data removed]",
      "text/plain": [
       "<Figure size 1152x648 with 1 Axes>"
      ]
     },
     "metadata": {
      "needs_background": "light"
     },
     "output_type": "display_data"
    }
   ],
   "source": [
    "data = read_query(\"\"\"\n",
    "MATCH (a:Author)\n",
    "WHERE NOT a:Collaboration\n",
    "RETURN a.name as author, a.pagerank_coauthorship as pagerank\n",
    "ORDER BY pagerank DESC\n",
    "LIMIT 10\n",
    "\"\"\")\n",
    "\n",
    "fig, ax = pyplot.subplots(figsize=(16,9))\n",
    "ax = sns.barplot(x=\"author\", y=\"pagerank\", data=data, color=\"blue\")\n",
    "ax.set_xticklabels(ax.get_xticklabels(), rotation=30)"
   ]
  },
  {
   "cell_type": "markdown",
   "metadata": {},
   "source": [
    "It seems that Zhang Y., Lebedev A., and Li X. have the highest networking potential. If someone can get me their contact, I would appreciate it.\n",
    "We can also examine authors with the highest PageRank score grouped by connected component for the five largest components."
   ]
  },
  {
   "cell_type": "code",
   "execution_count": 40,
   "metadata": {},
   "outputs": [
    {
     "data": {
      "text/html": [
       "<div>\n",
       "<style scoped>\n",
       "    .dataframe tbody tr th:only-of-type {\n",
       "        vertical-align: middle;\n",
       "    }\n",
       "\n",
       "    .dataframe tbody tr th {\n",
       "        vertical-align: top;\n",
       "    }\n",
       "\n",
       "    .dataframe thead th {\n",
       "        text-align: right;\n",
       "    }\n",
       "</style>\n",
       "<table border=\"1\" class=\"dataframe\">\n",
       "  <thead>\n",
       "    <tr style=\"text-align: right;\">\n",
       "      <th></th>\n",
       "      <th>componentId</th>\n",
       "      <th>countOfMembers</th>\n",
       "      <th>mostInfluentialMembers</th>\n",
       "    </tr>\n",
       "  </thead>\n",
       "  <tbody>\n",
       "    <tr>\n",
       "      <th>0</th>\n",
       "      <td>0</td>\n",
       "      <td>46666</td>\n",
       "      <td>[Wang Y., Zhang Y., Dutta D.]</td>\n",
       "    </tr>\n",
       "    <tr>\n",
       "      <th>1</th>\n",
       "      <td>19971</td>\n",
       "      <td>200</td>\n",
       "      <td>[Pomerantz I.  The CLAS and Hall-A Collaborati...</td>\n",
       "    </tr>\n",
       "    <tr>\n",
       "      <th>2</th>\n",
       "      <td>14137</td>\n",
       "      <td>177</td>\n",
       "      <td>[Strakovsky Igor  GWU, Bellwied Rene  Houston ...</td>\n",
       "    </tr>\n",
       "    <tr>\n",
       "      <th>3</th>\n",
       "      <td>25481</td>\n",
       "      <td>133</td>\n",
       "      <td>[Taniya N.  HKS - JLab\\n  E05-115 and E01-001 ...</td>\n",
       "    </tr>\n",
       "    <tr>\n",
       "      <th>4</th>\n",
       "      <td>17156</td>\n",
       "      <td>132</td>\n",
       "      <td>[Nakamura S. N.  HKS, Matsumura A.  HKS, Okaya...</td>\n",
       "    </tr>\n",
       "  </tbody>\n",
       "</table>\n",
       "</div>"
      ],
      "text/plain": [
       "   componentId  countOfMembers  \\\n",
       "0            0           46666   \n",
       "1        19971             200   \n",
       "2        14137             177   \n",
       "3        25481             133   \n",
       "4        17156             132   \n",
       "\n",
       "                              mostInfluentialMembers  \n",
       "0                      [Wang Y., Zhang Y., Dutta D.]  \n",
       "1  [Pomerantz I.  The CLAS and Hall-A Collaborati...  \n",
       "2  [Strakovsky Igor  GWU, Bellwied Rene  Houston ...  \n",
       "3  [Taniya N.  HKS - JLab\\n  E05-115 and E01-001 ...  \n",
       "4  [Nakamura S. N.  HKS, Matsumura A.  HKS, Okaya...  "
      ]
     },
     "execution_count": 40,
     "metadata": {},
     "output_type": "execute_result"
    }
   ],
   "source": [
    "read_query(\"\"\"\n",
    "MATCH (a:Author)\n",
    "WHERE NOT a:Collaboration\n",
    "WITH a.wcc_coauthorship as componentId, a.pagerank_coauthorship as pagerank, a\n",
    "ORDER BY pagerank DESC\n",
    "RETURN componentId, count(*) as countOfMembers, collect(a.name)[..3] as mostInfluentialMembers\n",
    "ORDER BY countOfMembers DESC\n",
    "LIMIT 5\n",
    "\"\"\")"
   ]
  },
  {
   "cell_type": "markdown",
   "metadata": {},
   "source": [
    "More than anything, the WCC results alert us about the authors' data we haven't cleaned. I assume the largest component, which consists of 46666 members, is the component with the cleaned author names. The second-largest component consists of authors, where that author appeared along with two collaborations. Last, there are a couple of associations or organizations I have missed in my manual cleanup process.\n",
    "\n",
    "We will also use the approximate Betweenness centrality to observe who has the most influence over the information flow in the co-authorship network."
   ]
  },
  {
   "cell_type": "code",
   "execution_count": 39,
   "metadata": {},
   "outputs": [
    {
     "data": {
      "text/plain": [
       "[Text(0, 0, 'Zhang Y.'),\n",
       " Text(1, 0, 'Wang Y.'),\n",
       " Text(2, 0, 'Wang Meng'),\n",
       " Text(3, 0, 'Dutta D.'),\n",
       " Text(4, 0, 'Marciano W. J.'),\n",
       " Text(5, 0, 'Choi Seonho'),\n",
       " Text(6, 0, 'Li Y.'),\n",
       " Text(7, 0, 'Wang Z.'),\n",
       " Text(8, 0, 'Weber M.'),\n",
       " Text(9, 0, 'Deng Zhi')]"
      ]
     },
     "execution_count": 39,
     "metadata": {},
     "output_type": "execute_result"
    },
    {
     "data": {
      "image/png": "[encoded data removed]",
      "text/plain": [
       "<Figure size 1152x648 with 1 Axes>"
      ]
     },
     "metadata": {
      "needs_background": "light"
     },
     "output_type": "display_data"
    }
   ],
   "source": [
    "data = read_query(\"\"\"\n",
    "CALL gds.betweenness.stream('coauthorship-network', \n",
    "  {samplingSize:1000})\n",
    "YIELD nodeId, score\n",
    "RETURN gds.util.asNode(nodeId).name as author, score as betweenness\n",
    "ORDER BY betweenness DESC LIMIT 10\n",
    "\"\"\")\n",
    "\n",
    "fig, ax = pyplot.subplots(figsize=(16,9))\n",
    "ax = sns.barplot(x=\"author\", y=\"betweenness\", data=data, color=\"blue\")\n",
    "ax.set_xticklabels(ax.get_xticklabels(), rotation=30)"
   ]
  },
  {
   "cell_type": "code",
   "execution_count": 43,
   "metadata": {},
   "outputs": [
    {
     "data": {
      "text/html": [
       "<div>\n",
       "<style scoped>\n",
       "    .dataframe tbody tr th:only-of-type {\n",
       "        vertical-align: middle;\n",
       "    }\n",
       "\n",
       "    .dataframe tbody tr th {\n",
       "        vertical-align: top;\n",
       "    }\n",
       "\n",
       "    .dataframe thead th {\n",
       "        text-align: right;\n",
       "    }\n",
       "</style>\n",
       "<table border=\"1\" class=\"dataframe\">\n",
       "  <thead>\n",
       "    <tr style=\"text-align: right;\">\n",
       "      <th></th>\n",
       "      <th>graphName</th>\n",
       "      <th>database</th>\n",
       "      <th>memoryUsage</th>\n",
       "      <th>sizeInBytes</th>\n",
       "      <th>nodeProjection</th>\n",
       "      <th>relationshipProjection</th>\n",
       "      <th>nodeQuery</th>\n",
       "      <th>relationshipQuery</th>\n",
       "      <th>nodeCount</th>\n",
       "      <th>relationshipCount</th>\n",
       "      <th>density</th>\n",
       "      <th>creationTime</th>\n",
       "      <th>modificationTime</th>\n",
       "      <th>schema</th>\n",
       "    </tr>\n",
       "  </thead>\n",
       "  <tbody>\n",
       "    <tr>\n",
       "      <th>0</th>\n",
       "      <td>coauthorship-network</td>\n",
       "      <td>neo4j</td>\n",
       "      <td>96 MiB</td>\n",
       "      <td>100867472</td>\n",
       "      <td>None</td>\n",
       "      <td>None</td>\n",
       "      <td>MATCH (a:Author) WHERE NOT a:Collaboration RET...</td>\n",
       "      <td>MATCH (s:Author)-[:WROTE]-&gt;()&lt;-[:WROTE]-(t:Aut...</td>\n",
       "      <td>55134</td>\n",
       "      <td>9932908</td>\n",
       "      <td>0.003268</td>\n",
       "      <td>2020-11-25T21:44:31.397368000+01:00</td>\n",
       "      <td>2020-11-25T21:45:01.349219000+01:00</td>\n",
       "      <td>{'relationships': {'__ALL__': {'weight': 'Floa...</td>\n",
       "    </tr>\n",
       "  </tbody>\n",
       "</table>\n",
       "</div>"
      ],
      "text/plain": [
       "              graphName database memoryUsage  sizeInBytes nodeProjection  \\\n",
       "0  coauthorship-network    neo4j      96 MiB    100867472           None   \n",
       "\n",
       "  relationshipProjection                                          nodeQuery  \\\n",
       "0                   None  MATCH (a:Author) WHERE NOT a:Collaboration RET...   \n",
       "\n",
       "                                   relationshipQuery  nodeCount  \\\n",
       "0  MATCH (s:Author)-[:WROTE]->()<-[:WROTE]-(t:Aut...      55134   \n",
       "\n",
       "   relationshipCount   density                         creationTime  \\\n",
       "0            9932908  0.003268  2020-11-25T21:44:31.397368000+01:00   \n",
       "\n",
       "                      modificationTime  \\\n",
       "0  2020-11-25T21:45:01.349219000+01:00   \n",
       "\n",
       "                                              schema  \n",
       "0  {'relationships': {'__ALL__': {'weight': 'Floa...  "
      ]
     },
     "execution_count": 43,
     "metadata": {},
     "output_type": "execute_result"
    }
   ],
   "source": [
    "read_query(\"\"\"\n",
    "CALL gds.graph.drop('coauthorship-network')\n",
    "\"\"\")"
   ]
  },
  {
   "cell_type": "markdown",
   "metadata": {},
   "source": [
    "# Citation network\n",
    "\n",
    "The time has come to enrich our graph with external data. The internal citation network between ArXiv articles is available on GitHub. You will need to download the internal references file. If you look closely at the Kaggle ArXiv dataset footnotes, this is the same tool they used to scrape the ArXiv articles and authors. It makes sense that the author's information is dirty as it was scraped from the PDFs.\n",
    "\n",
    "Citations dataset is available on https://github.com/mattbierbaum/arxiv-public-datasets/releases.\n",
    "\n",
    "After we have downloaded the internal references dataset, we can import it using the following Python script."
   ]
  },
  {
   "cell_type": "code",
   "execution_count": 45,
   "metadata": {},
   "outputs": [],
   "source": [
    "with open('internal-references-pdftotext.json') as citation_file:\n",
    "    citations = json.load(citation_file)"
   ]
  },
  {
   "cell_type": "code",
   "execution_count": 46,
   "metadata": {},
   "outputs": [],
   "source": [
    "import_citations_query = \"\"\"\n",
    "\n",
    "UNWIND $data as row\n",
    "MATCH (source:Article{id:row.source})\n",
    "WITH source, row.cites as cites\n",
    "UNWIND cites as cite\n",
    "MATCH (target:Article{id:cite})\n",
    "MERGE (source)-[:CITES]->(target)\n",
    "RETURN distinct 'done' as result\n",
    "\"\"\""
   ]
  },
  {
   "cell_type": "code",
   "execution_count": 47,
   "metadata": {},
   "outputs": [],
   "source": [
    "articles_id = articles_df['id'].to_list()\n",
    "citations_params = []\n",
    "session = driver.session()\n",
    "\n",
    "for article in citations:\n",
    "    if not article in articles_id:\n",
    "        continue\n",
    "    \n",
    "    citations_params.append({'source':article, 'cites': citations[article]})    \n",
    "    \n",
    "    if (len(citations_params) % 1000) == 0:\n",
    "        session.run(import_citations_query, {'data': citations_params})\n",
    "        citations_params = []\n",
    "\n",
    "session.run(import_citations_query, {'data': citations_params})\n",
    "session.close()        "
   ]
  },
  {
   "cell_type": "markdown",
   "metadata": {},
   "source": [
    "Let's first count the number of internal citations we have imported."
   ]
  },
  {
   "cell_type": "code",
   "execution_count": 48,
   "metadata": {},
   "outputs": [
    {
     "data": {
      "text/html": [
       "<div>\n",
       "<style scoped>\n",
       "    .dataframe tbody tr th:only-of-type {\n",
       "        vertical-align: middle;\n",
       "    }\n",
       "\n",
       "    .dataframe tbody tr th {\n",
       "        vertical-align: top;\n",
       "    }\n",
       "\n",
       "    .dataframe thead th {\n",
       "        text-align: right;\n",
       "    }\n",
       "</style>\n",
       "<table border=\"1\" class=\"dataframe\">\n",
       "  <thead>\n",
       "    <tr style=\"text-align: right;\">\n",
       "      <th></th>\n",
       "      <th>count_of_citations</th>\n",
       "    </tr>\n",
       "  </thead>\n",
       "  <tbody>\n",
       "    <tr>\n",
       "      <th>0</th>\n",
       "      <td>56172</td>\n",
       "    </tr>\n",
       "  </tbody>\n",
       "</table>\n",
       "</div>"
      ],
      "text/plain": [
       "   count_of_citations\n",
       "0               56172"
      ]
     },
     "execution_count": 48,
     "metadata": {},
     "output_type": "execute_result"
    }
   ],
   "source": [
    "read_query(\"\"\"\n",
    "MATCH ()-[r:CITES]->() \n",
    "RETURN count(*) as count_of_citations\n",
    "\"\"\")"
   ]
  },
  {
   "cell_type": "markdown",
   "metadata": {},
   "source": [
    "There are 56172 citations between 20874 articles. The dataset was compiled on 30th April 2019, so we don't have any citations after that date. We can now look at the most cited articles within our network."
   ]
  },
  {
   "cell_type": "code",
   "execution_count": 49,
   "metadata": {},
   "outputs": [
    {
     "data": {
      "text/html": [
       "<div>\n",
       "<style scoped>\n",
       "    .dataframe tbody tr th:only-of-type {\n",
       "        vertical-align: middle;\n",
       "    }\n",
       "\n",
       "    .dataframe tbody tr th {\n",
       "        vertical-align: top;\n",
       "    }\n",
       "\n",
       "    .dataframe thead th {\n",
       "        text-align: right;\n",
       "    }\n",
       "</style>\n",
       "<table border=\"1\" class=\"dataframe\">\n",
       "  <thead>\n",
       "    <tr style=\"text-align: right;\">\n",
       "      <th></th>\n",
       "      <th>title</th>\n",
       "      <th>citations</th>\n",
       "    </tr>\n",
       "  </thead>\n",
       "  <tbody>\n",
       "    <tr>\n",
       "      <th>0</th>\n",
       "      <td>Formation of dense partonic matter in relativi...</td>\n",
       "      <td>256</td>\n",
       "    </tr>\n",
       "    <tr>\n",
       "      <th>1</th>\n",
       "      <td>Experimental and Theoretical Challenges in the...</td>\n",
       "      <td>247</td>\n",
       "    </tr>\n",
       "    <tr>\n",
       "      <th>2</th>\n",
       "      <td>Glauber Modeling in High Energy Nuclear Collis...</td>\n",
       "      <td>222</td>\n",
       "    </tr>\n",
       "    <tr>\n",
       "      <th>3</th>\n",
       "      <td>Hydrodynamic description of ultrarelativistic ...</td>\n",
       "      <td>220</td>\n",
       "    </tr>\n",
       "    <tr>\n",
       "      <th>4</th>\n",
       "      <td>Quark Gluon Plasma an Color Glass Condensate a...</td>\n",
       "      <td>202</td>\n",
       "    </tr>\n",
       "    <tr>\n",
       "      <th>5</th>\n",
       "      <td>Collective phenomena in non-central nuclear co...</td>\n",
       "      <td>201</td>\n",
       "    </tr>\n",
       "    <tr>\n",
       "      <th>6</th>\n",
       "      <td>The PHOBOS Perspective on Discoveries at RHIC</td>\n",
       "      <td>194</td>\n",
       "    </tr>\n",
       "    <tr>\n",
       "      <th>7</th>\n",
       "      <td>Performance of the ALICE Experiment at the CER...</td>\n",
       "      <td>177</td>\n",
       "    </tr>\n",
       "    <tr>\n",
       "      <th>8</th>\n",
       "      <td>Observation and studies of jet quenching in Pb...</td>\n",
       "      <td>169</td>\n",
       "    </tr>\n",
       "    <tr>\n",
       "      <th>9</th>\n",
       "      <td>Long-range angular correlations on the near an...</td>\n",
       "      <td>156</td>\n",
       "    </tr>\n",
       "  </tbody>\n",
       "</table>\n",
       "</div>"
      ],
      "text/plain": [
       "                                               title  citations\n",
       "0  Formation of dense partonic matter in relativi...        256\n",
       "1  Experimental and Theoretical Challenges in the...        247\n",
       "2  Glauber Modeling in High Energy Nuclear Collis...        222\n",
       "3  Hydrodynamic description of ultrarelativistic ...        220\n",
       "4  Quark Gluon Plasma an Color Glass Condensate a...        202\n",
       "5  Collective phenomena in non-central nuclear co...        201\n",
       "6      The PHOBOS Perspective on Discoveries at RHIC        194\n",
       "7  Performance of the ALICE Experiment at the CER...        177\n",
       "8  Observation and studies of jet quenching in Pb...        169\n",
       "9  Long-range angular correlations on the near an...        156"
      ]
     },
     "execution_count": 49,
     "metadata": {},
     "output_type": "execute_result"
    }
   ],
   "source": [
    "read_query(\"\"\"\n",
    "MATCH (a:Article)\n",
    "RETURN a.title as title,\n",
    "       size((a)<-[:CITES]-()) as citations\n",
    "ORDER BY citations DESC LIMIT 10\n",
    "\n",
    "\"\"\")"
   ]
  },
  {
   "cell_type": "markdown",
   "metadata": {},
   "source": [
    "To my uneducated eye, it seems that the most cited articles talk about nuclear collisions. Next, we will calculate the ArticleRank score for each article in the citation network. ArticleRank is a variation of the PageRank algorithm. Find more details here.\n",
    "\n",
    "First, we will project the citation network with the Native projection feature."
   ]
  },
  {
   "cell_type": "code",
   "execution_count": 50,
   "metadata": {},
   "outputs": [
    {
     "data": {
      "text/html": [
       "<div>\n",
       "<style scoped>\n",
       "    .dataframe tbody tr th:only-of-type {\n",
       "        vertical-align: middle;\n",
       "    }\n",
       "\n",
       "    .dataframe tbody tr th {\n",
       "        vertical-align: top;\n",
       "    }\n",
       "\n",
       "    .dataframe thead th {\n",
       "        text-align: right;\n",
       "    }\n",
       "</style>\n",
       "<table border=\"1\" class=\"dataframe\">\n",
       "  <thead>\n",
       "    <tr style=\"text-align: right;\">\n",
       "      <th></th>\n",
       "      <th>nodeProjection</th>\n",
       "      <th>relationshipProjection</th>\n",
       "      <th>graphName</th>\n",
       "      <th>nodeCount</th>\n",
       "      <th>relationshipCount</th>\n",
       "      <th>createMillis</th>\n",
       "    </tr>\n",
       "  </thead>\n",
       "  <tbody>\n",
       "    <tr>\n",
       "      <th>0</th>\n",
       "      <td>{'Article': {'properties': {}, 'label': 'Artic...</td>\n",
       "      <td>{'CITES': {'orientation': 'NATURAL', 'aggregat...</td>\n",
       "      <td>citation-network</td>\n",
       "      <td>20874</td>\n",
       "      <td>56172</td>\n",
       "      <td>153</td>\n",
       "    </tr>\n",
       "  </tbody>\n",
       "</table>\n",
       "</div>"
      ],
      "text/plain": [
       "                                      nodeProjection  \\\n",
       "0  {'Article': {'properties': {}, 'label': 'Artic...   \n",
       "\n",
       "                              relationshipProjection         graphName  \\\n",
       "0  {'CITES': {'orientation': 'NATURAL', 'aggregat...  citation-network   \n",
       "\n",
       "   nodeCount  relationshipCount  createMillis  \n",
       "0      20874              56172           153  "
      ]
     },
     "execution_count": 50,
     "metadata": {},
     "output_type": "execute_result"
    }
   ],
   "source": [
    "read_query(\"\"\"\n",
    "CALL gds.graph.create('citation-network', 'Article', 'CITES')\n",
    "\"\"\")"
   ]
  },
  {
   "cell_type": "markdown",
   "metadata": {},
   "source": [
    "Now we can execute the ArticleRank and store the results back to Neo4j."
   ]
  },
  {
   "cell_type": "code",
   "execution_count": 51,
   "metadata": {},
   "outputs": [
    {
     "data": {
      "text/html": [
       "<div>\n",
       "<style scoped>\n",
       "    .dataframe tbody tr th:only-of-type {\n",
       "        vertical-align: middle;\n",
       "    }\n",
       "\n",
       "    .dataframe tbody tr th {\n",
       "        vertical-align: top;\n",
       "    }\n",
       "\n",
       "    .dataframe thead th {\n",
       "        text-align: right;\n",
       "    }\n",
       "</style>\n",
       "<table border=\"1\" class=\"dataframe\">\n",
       "  <thead>\n",
       "    <tr style=\"text-align: right;\">\n",
       "      <th></th>\n",
       "      <th>nodes</th>\n",
       "      <th>iterations</th>\n",
       "      <th>createMillis</th>\n",
       "      <th>computeMillis</th>\n",
       "      <th>writeMillis</th>\n",
       "      <th>dampingFactor</th>\n",
       "      <th>writeProperty</th>\n",
       "    </tr>\n",
       "  </thead>\n",
       "  <tbody>\n",
       "    <tr>\n",
       "      <th>0</th>\n",
       "      <td>0</td>\n",
       "      <td>0</td>\n",
       "      <td>0</td>\n",
       "      <td>149</td>\n",
       "      <td>260</td>\n",
       "      <td>0.0</td>\n",
       "      <td>articlerank_citation</td>\n",
       "    </tr>\n",
       "  </tbody>\n",
       "</table>\n",
       "</div>"
      ],
      "text/plain": [
       "   nodes  iterations  createMillis  computeMillis  writeMillis  dampingFactor  \\\n",
       "0      0           0             0            149          260            0.0   \n",
       "\n",
       "          writeProperty  \n",
       "0  articlerank_citation  "
      ]
     },
     "execution_count": 51,
     "metadata": {},
     "output_type": "execute_result"
    }
   ],
   "source": [
    "read_query(\"\"\"\n",
    "CALL gds.alpha.articleRank.write('citation-network', \n",
    "  {writeProperty:'articlerank_citation'})\n",
    "\"\"\")"
   ]
  },
  {
   "cell_type": "markdown",
   "metadata": {},
   "source": [
    "Let's examine the ArticleRank algorithm results."
   ]
  },
  {
   "cell_type": "code",
   "execution_count": 52,
   "metadata": {},
   "outputs": [
    {
     "data": {
      "text/html": [
       "<div>\n",
       "<style scoped>\n",
       "    .dataframe tbody tr th:only-of-type {\n",
       "        vertical-align: middle;\n",
       "    }\n",
       "\n",
       "    .dataframe tbody tr th {\n",
       "        vertical-align: top;\n",
       "    }\n",
       "\n",
       "    .dataframe thead th {\n",
       "        text-align: right;\n",
       "    }\n",
       "</style>\n",
       "<table border=\"1\" class=\"dataframe\">\n",
       "  <thead>\n",
       "    <tr style=\"text-align: right;\">\n",
       "      <th></th>\n",
       "      <th>title</th>\n",
       "      <th>articlerank</th>\n",
       "    </tr>\n",
       "  </thead>\n",
       "  <tbody>\n",
       "    <tr>\n",
       "      <th>0</th>\n",
       "      <td>Hydrodynamic description of ultrarelativistic ...</td>\n",
       "      <td>7.417196</td>\n",
       "    </tr>\n",
       "    <tr>\n",
       "      <th>1</th>\n",
       "      <td>Collective phenomena in non-central nuclear co...</td>\n",
       "      <td>5.009129</td>\n",
       "    </tr>\n",
       "    <tr>\n",
       "      <th>2</th>\n",
       "      <td>Eccentricity fluctuations and its possible eff...</td>\n",
       "      <td>4.826668</td>\n",
       "    </tr>\n",
       "    <tr>\n",
       "      <th>3</th>\n",
       "      <td>Glauber Modeling in High Energy Nuclear Collis...</td>\n",
       "      <td>3.886324</td>\n",
       "    </tr>\n",
       "    <tr>\n",
       "      <th>4</th>\n",
       "      <td>The Color Glass Condensate and High Energy Sca...</td>\n",
       "      <td>3.617933</td>\n",
       "    </tr>\n",
       "    <tr>\n",
       "      <th>5</th>\n",
       "      <td>Reconstructing azimuthal distributions in nucl...</td>\n",
       "      <td>3.539150</td>\n",
       "    </tr>\n",
       "    <tr>\n",
       "      <th>6</th>\n",
       "      <td>The PHOBOS Glauber Monte Carlo</td>\n",
       "      <td>3.293096</td>\n",
       "    </tr>\n",
       "    <tr>\n",
       "      <th>7</th>\n",
       "      <td>Formation of dense partonic matter in relativi...</td>\n",
       "      <td>3.259142</td>\n",
       "    </tr>\n",
       "    <tr>\n",
       "      <th>8</th>\n",
       "      <td>An Experimental Exploration of the QCD Phase D...</td>\n",
       "      <td>3.168804</td>\n",
       "    </tr>\n",
       "    <tr>\n",
       "      <th>9</th>\n",
       "      <td>Experimental and Theoretical Challenges in the...</td>\n",
       "      <td>3.001694</td>\n",
       "    </tr>\n",
       "  </tbody>\n",
       "</table>\n",
       "</div>"
      ],
      "text/plain": [
       "                                               title  articlerank\n",
       "0  Hydrodynamic description of ultrarelativistic ...     7.417196\n",
       "1  Collective phenomena in non-central nuclear co...     5.009129\n",
       "2  Eccentricity fluctuations and its possible eff...     4.826668\n",
       "3  Glauber Modeling in High Energy Nuclear Collis...     3.886324\n",
       "4  The Color Glass Condensate and High Energy Sca...     3.617933\n",
       "5  Reconstructing azimuthal distributions in nucl...     3.539150\n",
       "6                     The PHOBOS Glauber Monte Carlo     3.293096\n",
       "7  Formation of dense partonic matter in relativi...     3.259142\n",
       "8  An Experimental Exploration of the QCD Phase D...     3.168804\n",
       "9  Experimental and Theoretical Challenges in the...     3.001694"
      ]
     },
     "execution_count": 52,
     "metadata": {},
     "output_type": "execute_result"
    }
   ],
   "source": [
    "read_query(\"\"\"\n",
    "MATCH (a:Article)\n",
    "RETURN a.title as title, a.articlerank_citation as articlerank\n",
    "ORDER BY articlerank \n",
    "DESC LIMIT 10\n",
    "\"\"\")"
   ]
  },
  {
   "cell_type": "markdown",
   "metadata": {},
   "source": [
    "We can observe that the ranking is a bit different as with the direct count of citation rank. The ranking difference is due to taking into account the number of citations as well as the importance of the citing papers.\n",
    "\n",
    "We can also look at the author with the highest sum of ArticleRank of his articles."
   ]
  },
  {
   "cell_type": "code",
   "execution_count": 52,
   "metadata": {},
   "outputs": [
    {
     "data": {
      "text/plain": [
       "[Text(0, 0, 'Lebedev A.'),\n",
       " Text(1, 0, 'Li X.'),\n",
       " Text(2, 0, 'Ma Y. G.'),\n",
       " Text(3, 0, 'Pei H.'),\n",
       " Text(4, 0, 'Zhang Y.'),\n",
       " Text(5, 0, 'Xie W.'),\n",
       " Text(6, 0, 'Pak R.'),\n",
       " Text(7, 0, 'Taranenko A.'),\n",
       " Text(8, 0, 'Liu H.'),\n",
       " Text(9, 0, 'Masui H.')]"
      ]
     },
     "execution_count": 52,
     "metadata": {},
     "output_type": "execute_result"
    },
    {
     "data": {
      "image/png": "[encoded data removed]",
      "text/plain": [
       "<Figure size 1152x648 with 1 Axes>"
      ]
     },
     "metadata": {
      "needs_background": "light"
     },
     "output_type": "display_data"
    }
   ],
   "source": [
    "data = read_query(\"\"\"\n",
    "MATCH (a:Author)-[:WROTE]->(article:Article)\n",
    "WHERE NOT a:Collaboration\n",
    "RETURN a.name as author, sum(article.articlerank_citation) as rank\n",
    "ORDER BY rank\n",
    "DESC LIMIT 10\n",
    "\"\"\")\n",
    "\n",
    "fig, ax = pyplot.subplots(figsize=(16,9))\n",
    "ax = sns.barplot(x=\"author\", y=\"rank\", data=data, color=\"blue\")\n",
    "ax.set_xticklabels(ax.get_xticklabels(), rotation=30)"
   ]
  },
  {
   "cell_type": "markdown",
   "metadata": {},
   "source": [
    "The usual suspects come out on top like Lebedev A. and Li X. Another option we have is to look at the most influential articles by the year of publication."
   ]
  },
  {
   "cell_type": "code",
   "execution_count": 54,
   "metadata": {},
   "outputs": [
    {
     "data": {
      "text/html": [
       "<div>\n",
       "<style scoped>\n",
       "    .dataframe tbody tr th:only-of-type {\n",
       "        vertical-align: middle;\n",
       "    }\n",
       "\n",
       "    .dataframe tbody tr th {\n",
       "        vertical-align: top;\n",
       "    }\n",
       "\n",
       "    .dataframe thead th {\n",
       "        text-align: right;\n",
       "    }\n",
       "</style>\n",
       "<table border=\"1\" class=\"dataframe\">\n",
       "  <thead>\n",
       "    <tr style=\"text-align: right;\">\n",
       "      <th></th>\n",
       "      <th>year</th>\n",
       "      <th>most_influential_articles</th>\n",
       "    </tr>\n",
       "  </thead>\n",
       "  <tbody>\n",
       "    <tr>\n",
       "      <th>0</th>\n",
       "      <td>2011</td>\n",
       "      <td>[1101.0710, 1101.0988, 1101.1257]</td>\n",
       "    </tr>\n",
       "    <tr>\n",
       "      <th>1</th>\n",
       "      <td>2012</td>\n",
       "      <td>[1201.0373, 1201.0392, 1201.0699]</td>\n",
       "    </tr>\n",
       "    <tr>\n",
       "      <th>2</th>\n",
       "      <td>2013</td>\n",
       "      <td>[1301.0099, 1301.0165, 1301.0324]</td>\n",
       "    </tr>\n",
       "    <tr>\n",
       "      <th>3</th>\n",
       "      <td>2014</td>\n",
       "      <td>[1403.4257, 1403.4455, 1403.4668]</td>\n",
       "    </tr>\n",
       "    <tr>\n",
       "      <th>4</th>\n",
       "      <td>2015</td>\n",
       "      <td>[1511.02834, 1511.02957, 1511.03338]</td>\n",
       "    </tr>\n",
       "    <tr>\n",
       "      <th>5</th>\n",
       "      <td>2016</td>\n",
       "      <td>[1601.00040, 1601.00079, 1601.00188]</td>\n",
       "    </tr>\n",
       "    <tr>\n",
       "      <th>6</th>\n",
       "      <td>2017</td>\n",
       "      <td>[1709.05325, 1709.05618, 1709.05649]</td>\n",
       "    </tr>\n",
       "    <tr>\n",
       "      <th>7</th>\n",
       "      <td>2018</td>\n",
       "      <td>[1801.01124, 1801.01213, 1801.01277]</td>\n",
       "    </tr>\n",
       "    <tr>\n",
       "      <th>8</th>\n",
       "      <td>2019</td>\n",
       "      <td>[1901.01319, 1901.04378, 1901.04482]</td>\n",
       "    </tr>\n",
       "  </tbody>\n",
       "</table>\n",
       "</div>"
      ],
      "text/plain": [
       "   year             most_influential_articles\n",
       "0  2011     [1101.0710, 1101.0988, 1101.1257]\n",
       "1  2012     [1201.0373, 1201.0392, 1201.0699]\n",
       "2  2013     [1301.0099, 1301.0165, 1301.0324]\n",
       "3  2014     [1403.4257, 1403.4455, 1403.4668]\n",
       "4  2015  [1511.02834, 1511.02957, 1511.03338]\n",
       "5  2016  [1601.00040, 1601.00079, 1601.00188]\n",
       "6  2017  [1709.05325, 1709.05618, 1709.05649]\n",
       "7  2018  [1801.01124, 1801.01213, 1801.01277]\n",
       "8  2019  [1901.01319, 1901.04378, 1901.04482]"
      ]
     },
     "execution_count": 54,
     "metadata": {},
     "output_type": "execute_result"
    }
   ],
   "source": [
    "read_query(\"\"\"\n",
    "MATCH (a:Article)\n",
    "WHERE a.articlerank_citation > 0.151 AND a.date.year > 2010\n",
    "WITH a, a.date.year as year, a.pagerank_citation as pagerank\n",
    "ORDER BY pagerank DESC\n",
    "RETURN year, collect(a.id)[..3] as most_influential_articles\n",
    "ORDER BY year\n",
    "\"\"\")"
   ]
  },
  {
   "cell_type": "code",
   "execution_count": 55,
   "metadata": {},
   "outputs": [
    {
     "data": {
      "text/html": [
       "<div>\n",
       "<style scoped>\n",
       "    .dataframe tbody tr th:only-of-type {\n",
       "        vertical-align: middle;\n",
       "    }\n",
       "\n",
       "    .dataframe tbody tr th {\n",
       "        vertical-align: top;\n",
       "    }\n",
       "\n",
       "    .dataframe thead th {\n",
       "        text-align: right;\n",
       "    }\n",
       "</style>\n",
       "<table border=\"1\" class=\"dataframe\">\n",
       "  <thead>\n",
       "    <tr style=\"text-align: right;\">\n",
       "      <th></th>\n",
       "      <th>graphName</th>\n",
       "      <th>database</th>\n",
       "      <th>memoryUsage</th>\n",
       "      <th>sizeInBytes</th>\n",
       "      <th>nodeProjection</th>\n",
       "      <th>relationshipProjection</th>\n",
       "      <th>nodeQuery</th>\n",
       "      <th>relationshipQuery</th>\n",
       "      <th>nodeCount</th>\n",
       "      <th>relationshipCount</th>\n",
       "      <th>density</th>\n",
       "      <th>creationTime</th>\n",
       "      <th>modificationTime</th>\n",
       "      <th>schema</th>\n",
       "    </tr>\n",
       "  </thead>\n",
       "  <tbody>\n",
       "    <tr>\n",
       "      <th>0</th>\n",
       "      <td>citation-network</td>\n",
       "      <td>neo4j</td>\n",
       "      <td>6200 KiB</td>\n",
       "      <td>6348824</td>\n",
       "      <td>{'Article': {'properties': {}, 'label': 'Artic...</td>\n",
       "      <td>{'CITES': {'orientation': 'NATURAL', 'aggregat...</td>\n",
       "      <td>None</td>\n",
       "      <td>None</td>\n",
       "      <td>20874</td>\n",
       "      <td>56172</td>\n",
       "      <td>0.000129</td>\n",
       "      <td>2020-11-25T22:20:31.402535000+01:00</td>\n",
       "      <td>2020-11-25T22:20:31.559302000+01:00</td>\n",
       "      <td>{'relationships': {'CITES': {}}, 'nodes': {'Ar...</td>\n",
       "    </tr>\n",
       "  </tbody>\n",
       "</table>\n",
       "</div>"
      ],
      "text/plain": [
       "          graphName database memoryUsage  sizeInBytes  \\\n",
       "0  citation-network    neo4j    6200 KiB      6348824   \n",
       "\n",
       "                                      nodeProjection  \\\n",
       "0  {'Article': {'properties': {}, 'label': 'Artic...   \n",
       "\n",
       "                              relationshipProjection nodeQuery  \\\n",
       "0  {'CITES': {'orientation': 'NATURAL', 'aggregat...      None   \n",
       "\n",
       "  relationshipQuery  nodeCount  relationshipCount   density  \\\n",
       "0              None      20874              56172  0.000129   \n",
       "\n",
       "                          creationTime                     modificationTime  \\\n",
       "0  2020-11-25T22:20:31.402535000+01:00  2020-11-25T22:20:31.559302000+01:00   \n",
       "\n",
       "                                              schema  \n",
       "0  {'relationships': {'CITES': {}}, 'nodes': {'Ar...  "
      ]
     },
     "execution_count": 55,
     "metadata": {},
     "output_type": "execute_result"
    }
   ],
   "source": [
    "read_query(\"\"\"\n",
    "CALL gds.graph.drop('citation-network')\n",
    "\"\"\")"
   ]
  },
  {
   "cell_type": "markdown",
   "metadata": {},
   "source": [
    "# Prepare an article search engine\n",
    "We have analyzed both the co-authorship and the citation network. I have a good idea who I need to contact for my basement nuclear reactor. Let's now create a search engine for the articles, where you get the most relevant articles based on the keyword you provide. We will use the Fulltext search index, which is available in Neo4j. I have written a detailed blog post explaining the FTS functionalities in Neo4j.\n",
    "First, we have to store the publication year of the article as a string property to be able to load it in the Full-Text Search index."
   ]
  },
  {
   "cell_type": "code",
   "execution_count": 55,
   "metadata": {},
   "outputs": [
    {
     "data": {
      "text/html": [
       "<div>\n",
       "<style scoped>\n",
       "    .dataframe tbody tr th:only-of-type {\n",
       "        vertical-align: middle;\n",
       "    }\n",
       "\n",
       "    .dataframe tbody tr th {\n",
       "        vertical-align: top;\n",
       "    }\n",
       "\n",
       "    .dataframe thead th {\n",
       "        text-align: right;\n",
       "    }\n",
       "</style>\n",
       "<table border=\"1\" class=\"dataframe\">\n",
       "  <thead>\n",
       "    <tr style=\"text-align: right;\">\n",
       "      <th></th>\n",
       "    </tr>\n",
       "  </thead>\n",
       "  <tbody>\n",
       "  </tbody>\n",
       "</table>\n",
       "</div>"
      ],
      "text/plain": [
       "Empty DataFrame\n",
       "Columns: []\n",
       "Index: []"
      ]
     },
     "execution_count": 55,
     "metadata": {},
     "output_type": "execute_result"
    }
   ],
   "source": [
    "read_query(\"\"\"\n",
    "MATCH (a:Article)\n",
    "SET a.year = toString(a.date.year)\n",
    "\"\"\")"
   ]
  },
  {
   "cell_type": "markdown",
   "metadata": {},
   "source": [
    "Now we can create the Full-Text Search index, where we index the title, abstract, and year property of articles."
   ]
  },
  {
   "cell_type": "code",
   "execution_count": 56,
   "metadata": {},
   "outputs": [
    {
     "data": {
      "text/html": [
       "<div>\n",
       "<style scoped>\n",
       "    .dataframe tbody tr th:only-of-type {\n",
       "        vertical-align: middle;\n",
       "    }\n",
       "\n",
       "    .dataframe tbody tr th {\n",
       "        vertical-align: top;\n",
       "    }\n",
       "\n",
       "    .dataframe thead th {\n",
       "        text-align: right;\n",
       "    }\n",
       "</style>\n",
       "<table border=\"1\" class=\"dataframe\">\n",
       "  <thead>\n",
       "    <tr style=\"text-align: right;\">\n",
       "      <th></th>\n",
       "    </tr>\n",
       "  </thead>\n",
       "  <tbody>\n",
       "  </tbody>\n",
       "</table>\n",
       "</div>"
      ],
      "text/plain": [
       "Empty DataFrame\n",
       "Columns: []\n",
       "Index: []"
      ]
     },
     "execution_count": 56,
     "metadata": {},
     "output_type": "execute_result"
    }
   ],
   "source": [
    "read_query(\"\"\"\n",
    "CALL db.index.fulltext.createNodeIndex(\"titlesAndAbstracts\",[\"Article\"],[\"title\", \"abstract\", \"year\"])\n",
    "\"\"\")"
   ]
  },
  {
   "cell_type": "markdown",
   "metadata": {},
   "source": [
    "We can take execute a sample FTS query looking for articles containing LHC keyword in the text."
   ]
  },
  {
   "cell_type": "code",
   "execution_count": 57,
   "metadata": {},
   "outputs": [
    {
     "data": {
      "text/html": [
       "<div>\n",
       "<style scoped>\n",
       "    .dataframe tbody tr th:only-of-type {\n",
       "        vertical-align: middle;\n",
       "    }\n",
       "\n",
       "    .dataframe tbody tr th {\n",
       "        vertical-align: top;\n",
       "    }\n",
       "\n",
       "    .dataframe thead th {\n",
       "        text-align: right;\n",
       "    }\n",
       "</style>\n",
       "<table border=\"1\" class=\"dataframe\">\n",
       "  <thead>\n",
       "    <tr style=\"text-align: right;\">\n",
       "      <th></th>\n",
       "      <th>node.title</th>\n",
       "      <th>score</th>\n",
       "    </tr>\n",
       "  </thead>\n",
       "  <tbody>\n",
       "    <tr>\n",
       "      <th>0</th>\n",
       "      <td>Physics perspectives with AFTER@LHC (A Fixed T...</td>\n",
       "      <td>4.070171</td>\n",
       "    </tr>\n",
       "    <tr>\n",
       "      <th>1</th>\n",
       "      <td>Quarkonium-photoproduction prospects at a fixe...</td>\n",
       "      <td>3.962277</td>\n",
       "    </tr>\n",
       "    <tr>\n",
       "      <th>2</th>\n",
       "      <td>Charmonium production at the LHC</td>\n",
       "      <td>3.870992</td>\n",
       "    </tr>\n",
       "    <tr>\n",
       "      <th>3</th>\n",
       "      <td>Prospectives for A Fixed-Target ExpeRiment at ...</td>\n",
       "      <td>3.811666</td>\n",
       "    </tr>\n",
       "    <tr>\n",
       "      <th>4</th>\n",
       "      <td>Double-quarkonium production at a fixed-target...</td>\n",
       "      <td>3.724421</td>\n",
       "    </tr>\n",
       "    <tr>\n",
       "      <th>5</th>\n",
       "      <td>Spin physics and TMD studies at A Fixed-Target...</td>\n",
       "      <td>3.682571</td>\n",
       "    </tr>\n",
       "    <tr>\n",
       "      <th>6</th>\n",
       "      <td>Physics case for a polarised target for AFTER@LHC</td>\n",
       "      <td>3.660166</td>\n",
       "    </tr>\n",
       "    <tr>\n",
       "      <th>7</th>\n",
       "      <td>Studies of Transverse-Momentum-Dependent distr...</td>\n",
       "      <td>3.636151</td>\n",
       "    </tr>\n",
       "    <tr>\n",
       "      <th>8</th>\n",
       "      <td>Heavy-ion results from the LHC</td>\n",
       "      <td>3.626198</td>\n",
       "    </tr>\n",
       "    <tr>\n",
       "      <th>9</th>\n",
       "      <td>LHC Results on Charmonium in Heavy Ions</td>\n",
       "      <td>3.606902</td>\n",
       "    </tr>\n",
       "  </tbody>\n",
       "</table>\n",
       "</div>"
      ],
      "text/plain": [
       "                                          node.title     score\n",
       "0  Physics perspectives with AFTER@LHC (A Fixed T...  4.070171\n",
       "1  Quarkonium-photoproduction prospects at a fixe...  3.962277\n",
       "2                   Charmonium production at the LHC  3.870992\n",
       "3  Prospectives for A Fixed-Target ExpeRiment at ...  3.811666\n",
       "4  Double-quarkonium production at a fixed-target...  3.724421\n",
       "5  Spin physics and TMD studies at A Fixed-Target...  3.682571\n",
       "6  Physics case for a polarised target for AFTER@LHC  3.660166\n",
       "7  Studies of Transverse-Momentum-Dependent distr...  3.636151\n",
       "8                     Heavy-ion results from the LHC  3.626198\n",
       "9            LHC Results on Charmonium in Heavy Ions  3.606902"
      ]
     },
     "execution_count": 57,
     "metadata": {},
     "output_type": "execute_result"
    }
   ],
   "source": [
    "read_query(\"\"\"\n",
    "CALL db.index.fulltext.queryNodes(\"titlesAndAbstracts\", \"LHC\") YIELD node, score\n",
    "RETURN node.title, score\n",
    "LIMIT 10\n",
    "\"\"\")"
   ]
  },
  {
   "cell_type": "markdown",
   "metadata": {},
   "source": [
    "We can upgrade our query and search for articles containing LHC keyword that were published in 2015. We can also combine the Lucene score with the ArticleRank score to return more influential papers."
   ]
  },
  {
   "cell_type": "code",
   "execution_count": 59,
   "metadata": {},
   "outputs": [
    {
     "data": {
      "text/html": [
       "<div>\n",
       "<style scoped>\n",
       "    .dataframe tbody tr th:only-of-type {\n",
       "        vertical-align: middle;\n",
       "    }\n",
       "\n",
       "    .dataframe tbody tr th {\n",
       "        vertical-align: top;\n",
       "    }\n",
       "\n",
       "    .dataframe thead th {\n",
       "        text-align: right;\n",
       "    }\n",
       "</style>\n",
       "<table border=\"1\" class=\"dataframe\">\n",
       "  <thead>\n",
       "    <tr style=\"text-align: right;\">\n",
       "      <th></th>\n",
       "      <th>title</th>\n",
       "      <th>id</th>\n",
       "      <th>combined_score</th>\n",
       "    </tr>\n",
       "  </thead>\n",
       "  <tbody>\n",
       "    <tr>\n",
       "      <th>0</th>\n",
       "      <td>The Color Glass Condensate and High Energy Sca...</td>\n",
       "      <td>hep-ph/0303204</td>\n",
       "      <td>3.409086</td>\n",
       "    </tr>\n",
       "    <tr>\n",
       "      <th>1</th>\n",
       "      <td>Observation of long-range near-side angular co...</td>\n",
       "      <td>1210.5482</td>\n",
       "      <td>3.318393</td>\n",
       "    </tr>\n",
       "    <tr>\n",
       "      <th>2</th>\n",
       "      <td>Performance of the ALICE Experiment at the CER...</td>\n",
       "      <td>1402.4476</td>\n",
       "      <td>3.286480</td>\n",
       "    </tr>\n",
       "    <tr>\n",
       "      <th>3</th>\n",
       "      <td>Photon Physics in Heavy Ion Collisions at the LHC</td>\n",
       "      <td>hep-ph/0311131</td>\n",
       "      <td>3.113061</td>\n",
       "    </tr>\n",
       "    <tr>\n",
       "      <th>4</th>\n",
       "      <td>Observation and studies of jet quenching in Pb...</td>\n",
       "      <td>1102.1957</td>\n",
       "      <td>2.806736</td>\n",
       "    </tr>\n",
       "    <tr>\n",
       "      <th>5</th>\n",
       "      <td>Hard scattering cross sections at LHC in the G...</td>\n",
       "      <td>nucl-ex/0302016</td>\n",
       "      <td>2.617114</td>\n",
       "    </tr>\n",
       "    <tr>\n",
       "      <th>6</th>\n",
       "      <td>Heavy-flavour and quarkonium production in the...</td>\n",
       "      <td>1506.03981</td>\n",
       "      <td>2.602295</td>\n",
       "    </tr>\n",
       "    <tr>\n",
       "      <th>7</th>\n",
       "      <td>Proton-Nucleus Collisions at the LHC: Scientif...</td>\n",
       "      <td>1105.3919</td>\n",
       "      <td>2.541617</td>\n",
       "    </tr>\n",
       "    <tr>\n",
       "      <th>8</th>\n",
       "      <td>Heavy Ion Collisions at the LHC - Last Call fo...</td>\n",
       "      <td>0711.0974</td>\n",
       "      <td>2.486684</td>\n",
       "    </tr>\n",
       "    <tr>\n",
       "      <th>9</th>\n",
       "      <td>Jet size dependence of single jet suppression ...</td>\n",
       "      <td>1208.1967</td>\n",
       "      <td>2.430719</td>\n",
       "    </tr>\n",
       "  </tbody>\n",
       "</table>\n",
       "</div>"
      ],
      "text/plain": [
       "                                               title               id  \\\n",
       "0  The Color Glass Condensate and High Energy Sca...   hep-ph/0303204   \n",
       "1  Observation of long-range near-side angular co...        1210.5482   \n",
       "2  Performance of the ALICE Experiment at the CER...        1402.4476   \n",
       "3  Photon Physics in Heavy Ion Collisions at the LHC   hep-ph/0311131   \n",
       "4  Observation and studies of jet quenching in Pb...        1102.1957   \n",
       "5  Hard scattering cross sections at LHC in the G...  nucl-ex/0302016   \n",
       "6  Heavy-flavour and quarkonium production in the...       1506.03981   \n",
       "7  Proton-Nucleus Collisions at the LHC: Scientif...        1105.3919   \n",
       "8  Heavy Ion Collisions at the LHC - Last Call fo...        0711.0974   \n",
       "9  Jet size dependence of single jet suppression ...        1208.1967   \n",
       "\n",
       "   combined_score  \n",
       "0        3.409086  \n",
       "1        3.318393  \n",
       "2        3.286480  \n",
       "3        3.113061  \n",
       "4        2.806736  \n",
       "5        2.617114  \n",
       "6        2.602295  \n",
       "7        2.541617  \n",
       "8        2.486684  \n",
       "9        2.430719  "
      ]
     },
     "execution_count": 59,
     "metadata": {},
     "output_type": "execute_result"
    }
   ],
   "source": [
    "read_query(\"\"\"\n",
    "CALL db.index.fulltext.queryNodes(\"titlesAndAbstracts\", \"LHC AND year:2015\") YIELD node, score\n",
    "RETURN node.title as title, node.id as id, score * node.articlerank_citation as combined_score\n",
    "ORDER BY combined_score DESC\n",
    "LIMIT 5\n",
    "\"\"\")"
   ]
  },
  {
   "cell_type": "markdown",
   "metadata": {},
   "source": [
    "Another cool thing we can do with Fulltext search is to introduce the time-decay scoring. I've learned this trick from Christophe Willemsen."
   ]
  },
  {
   "cell_type": "code",
   "execution_count": 57,
   "metadata": {},
   "outputs": [
    {
     "data": {
      "text/html": [
       "<div>\n",
       "<style scoped>\n",
       "    .dataframe tbody tr th:only-of-type {\n",
       "        vertical-align: middle;\n",
       "    }\n",
       "\n",
       "    .dataframe tbody tr th {\n",
       "        vertical-align: top;\n",
       "    }\n",
       "\n",
       "    .dataframe thead th {\n",
       "        text-align: right;\n",
       "    }\n",
       "</style>\n",
       "<table border=\"1\" class=\"dataframe\">\n",
       "  <thead>\n",
       "    <tr style=\"text-align: right;\">\n",
       "      <th></th>\n",
       "      <th>title</th>\n",
       "      <th>id</th>\n",
       "      <th>combined_score</th>\n",
       "    </tr>\n",
       "  </thead>\n",
       "  <tbody>\n",
       "    <tr>\n",
       "      <th>0</th>\n",
       "      <td>Performance of the ALICE Experiment at the CER...</td>\n",
       "      <td>1402.4476</td>\n",
       "      <td>13.141213</td>\n",
       "    </tr>\n",
       "    <tr>\n",
       "      <th>1</th>\n",
       "      <td>Heavy-flavour and quarkonium production in the...</td>\n",
       "      <td>1506.03981</td>\n",
       "      <td>9.478550</td>\n",
       "    </tr>\n",
       "    <tr>\n",
       "      <th>2</th>\n",
       "      <td>Observation of long-range near-side angular co...</td>\n",
       "      <td>1210.5482</td>\n",
       "      <td>6.864690</td>\n",
       "    </tr>\n",
       "    <tr>\n",
       "      <th>3</th>\n",
       "      <td>Collective flow and viscosity in relativistic ...</td>\n",
       "      <td>1301.2826</td>\n",
       "      <td>6.646857</td>\n",
       "    </tr>\n",
       "    <tr>\n",
       "      <th>4</th>\n",
       "      <td>Observation and studies of jet quenching in Pb...</td>\n",
       "      <td>1102.1957</td>\n",
       "      <td>6.287071</td>\n",
       "    </tr>\n",
       "  </tbody>\n",
       "</table>\n",
       "</div>"
      ],
      "text/plain": [
       "                                               title          id  \\\n",
       "0  Performance of the ALICE Experiment at the CER...   1402.4476   \n",
       "1  Heavy-flavour and quarkonium production in the...  1506.03981   \n",
       "2  Observation of long-range near-side angular co...   1210.5482   \n",
       "3  Collective flow and viscosity in relativistic ...   1301.2826   \n",
       "4  Observation and studies of jet quenching in Pb...   1102.1957   \n",
       "\n",
       "   combined_score  \n",
       "0       13.141213  \n",
       "1        9.478550  \n",
       "2        6.864690  \n",
       "3        6.646857  \n",
       "4        6.287071  "
      ]
     },
     "execution_count": 57,
     "metadata": {},
     "output_type": "execute_result"
    }
   ],
   "source": [
    "read_query(\"\"\"\n",
    "WITH apoc.text.join([x in range(0,10) | \n",
    "\"year:\" + toString((date().year - x)) + \"^\" +   \n",
    "  toString(10-x)],\" \") as time_decay\n",
    "CALL db.index.fulltext.queryNodes(\"titlesAndAbstracts\", \"LHC \" + time_decay) YIELD node, score\n",
    "RETURN node.title as title, node.id as id, score * node.articlerank_citation as combined_score\n",
    "ORDER BY combined_score DESC\n",
    "LIMIT 5\n",
    "\"\"\")"
   ]
  },
  {
   "cell_type": "markdown",
   "metadata": {},
   "source": [
    "# Develop an article recommendation engine\n",
    "If we are already making an application on top of this dataset, we can also add a recommendation engine. We want to be able to recommend similar articles to the one we are currently reading. How do we go about that? We don't have any data yet in the graph that we could use to group similar articles together. Luckily, we can use many NLP tools to find similar papers given their title and abstract text. We will use the SciBert model to extract embeddings for each article and then use the kNN algorithm to find similar papers based on their embeddings.\n",
    "First, we have to calculate the embeddings and store them back to Neo4j. We will use the transformers library to load the pre-trained SciBert model and calculate the embeddings based on the title and abstract of an article."
   ]
  },
  {
   "cell_type": "code",
   "execution_count": 18,
   "metadata": {},
   "outputs": [],
   "source": [
    "from transformers import *\n",
    "\n",
    "tokenizer = AutoTokenizer.from_pretrained('allenai/scibert_scivocab_uncased', model_max_length=512)\n",
    "model = AutoModel.from_pretrained('allenai/scibert_scivocab_uncased')"
   ]
  },
  {
   "cell_type": "code",
   "execution_count": 19,
   "metadata": {},
   "outputs": [],
   "source": [
    "store_embeddings_query = \"\"\"\n",
    "UNWIND $data as row\n",
    "MATCH (a:Article{id:row.article_id})\n",
    "SET a.embeddings = row.embeddings\n",
    "\"\"\""
   ]
  },
  {
   "cell_type": "code",
   "execution_count": 20,
   "metadata": {},
   "outputs": [
    {
     "data": {
      "text/plain": [
       "<neo4j.work.result.Result at 0x7fb897beee10>"
      ]
     },
     "execution_count": 20,
     "metadata": {},
     "output_type": "execute_result"
    }
   ],
   "source": [
    "input_embeddings = []\n",
    "session = driver.session()\n",
    "for i, row in articles_df.iterrows():\n",
    "    inputs = tokenizer(row['clean_title'] + ' ' + row['clean_abstracts'], return_tensors=\"pt\", truncation=True)\n",
    "    outputs = model(**inputs)\n",
    "    embeddings = outputs[1].detach().numpy().tolist()[0]\n",
    "    input_embeddings.append({'embeddings':embeddings, 'article_id': row['id']})\n",
    "    \n",
    "    if len(input_embeddings) % 1000 == 0:\n",
    "        session.run(store_embeddings_query, {'data':input_embeddings})\n",
    "        input_embeddings = []\n",
    "        \n",
    "session.run(store_embeddings_query, {'data':input_embeddings})"
   ]
  },
  {
   "cell_type": "markdown",
   "metadata": {},
   "source": [
    "This process took around an hour on my laptop. With the embeddings stored in Neo4j, we can go ahead infer the kNN similarity network using the new k-Nearest Neighbour algorithm available in the GDS. As always, we have to first project the in-memory graph."
   ]
  },
  {
   "cell_type": "code",
   "execution_count": 23,
   "metadata": {},
   "outputs": [
    {
     "data": {
      "text/html": [
       "<div>\n",
       "<style scoped>\n",
       "    .dataframe tbody tr th:only-of-type {\n",
       "        vertical-align: middle;\n",
       "    }\n",
       "\n",
       "    .dataframe tbody tr th {\n",
       "        vertical-align: top;\n",
       "    }\n",
       "\n",
       "    .dataframe thead th {\n",
       "        text-align: right;\n",
       "    }\n",
       "</style>\n",
       "<table border=\"1\" class=\"dataframe\">\n",
       "  <thead>\n",
       "    <tr style=\"text-align: right;\">\n",
       "      <th></th>\n",
       "      <th>nodeProjection</th>\n",
       "      <th>relationshipProjection</th>\n",
       "      <th>graphName</th>\n",
       "      <th>nodeCount</th>\n",
       "      <th>relationshipCount</th>\n",
       "      <th>createMillis</th>\n",
       "    </tr>\n",
       "  </thead>\n",
       "  <tbody>\n",
       "    <tr>\n",
       "      <th>0</th>\n",
       "      <td>{'Article': {'properties': {'embeddings': {'pr...</td>\n",
       "      <td>{'__ALL__': {'orientation': 'NATURAL', 'aggreg...</td>\n",
       "      <td>article_similarity</td>\n",
       "      <td>20874</td>\n",
       "      <td>56172</td>\n",
       "      <td>1010</td>\n",
       "    </tr>\n",
       "  </tbody>\n",
       "</table>\n",
       "</div>"
      ],
      "text/plain": [
       "                                      nodeProjection  \\\n",
       "0  {'Article': {'properties': {'embeddings': {'pr...   \n",
       "\n",
       "                              relationshipProjection           graphName  \\\n",
       "0  {'__ALL__': {'orientation': 'NATURAL', 'aggreg...  article_similarity   \n",
       "\n",
       "   nodeCount  relationshipCount  createMillis  \n",
       "0      20874              56172          1010  "
      ]
     },
     "execution_count": 23,
     "metadata": {},
     "output_type": "execute_result"
    }
   ],
   "source": [
    "read_query(\"\"\"\n",
    "CALL gds.graph.create('article_similarity','Article','*', {nodeProperties:['embeddings']})\n",
    "\"\"\")"
   ]
  },
  {
   "cell_type": "markdown",
   "metadata": {},
   "source": [
    "We want to be able to recommend at most ten similar articles, so we will choose the topK value of 10 in the configuration option for the kNN algorithm. We will store the results as SIMILAR relationships between articles, where the score property will indicate the cosine similarity between the embeddings of the two articles."
   ]
  },
  {
   "cell_type": "code",
   "execution_count": 25,
   "metadata": {},
   "outputs": [
    {
     "data": {
      "text/html": [
       "<div>\n",
       "<style scoped>\n",
       "    .dataframe tbody tr th:only-of-type {\n",
       "        vertical-align: middle;\n",
       "    }\n",
       "\n",
       "    .dataframe tbody tr th {\n",
       "        vertical-align: top;\n",
       "    }\n",
       "\n",
       "    .dataframe thead th {\n",
       "        text-align: right;\n",
       "    }\n",
       "</style>\n",
       "<table border=\"1\" class=\"dataframe\">\n",
       "  <thead>\n",
       "    <tr style=\"text-align: right;\">\n",
       "      <th></th>\n",
       "      <th>createMillis</th>\n",
       "      <th>computeMillis</th>\n",
       "      <th>writeMillis</th>\n",
       "      <th>postProcessingMillis</th>\n",
       "      <th>nodesCompared</th>\n",
       "      <th>relationshipsWritten</th>\n",
       "      <th>similarityDistribution</th>\n",
       "      <th>configuration</th>\n",
       "    </tr>\n",
       "  </thead>\n",
       "  <tbody>\n",
       "    <tr>\n",
       "      <th>0</th>\n",
       "      <td>1</td>\n",
       "      <td>10545</td>\n",
       "      <td>3791</td>\n",
       "      <td>-1</td>\n",
       "      <td>20874</td>\n",
       "      <td>208740</td>\n",
       "      <td>{'p1': 0.8992156982421875, 'max': 1.0000038146...</td>\n",
       "      <td>{'topK': 10, 'maxIterations': 100, 'writeConcu...</td>\n",
       "    </tr>\n",
       "  </tbody>\n",
       "</table>\n",
       "</div>"
      ],
      "text/plain": [
       "   createMillis  computeMillis  writeMillis  postProcessingMillis  \\\n",
       "0             1          10545         3791                    -1   \n",
       "\n",
       "   nodesCompared  relationshipsWritten  \\\n",
       "0          20874                208740   \n",
       "\n",
       "                              similarityDistribution  \\\n",
       "0  {'p1': 0.8992156982421875, 'max': 1.0000038146...   \n",
       "\n",
       "                                       configuration  \n",
       "0  {'topK': 10, 'maxIterations': 100, 'writeConcu...  "
      ]
     },
     "execution_count": 25,
     "metadata": {},
     "output_type": "execute_result"
    }
   ],
   "source": [
    "read_query(\"\"\"\n",
    "CALL gds.beta.knn.write('article_similarity', {nodeWeightProperty:'embeddings', \n",
    "writeProperty:'score', writeRelationshipType:'SIMILAR', topK:10})\n",
    "\"\"\")"
   ]
  },
  {
   "cell_type": "markdown",
   "metadata": {},
   "source": [
    "We can now observe the recommendations for a random article."
   ]
  },
  {
   "cell_type": "code",
   "execution_count": 26,
   "metadata": {},
   "outputs": [
    {
     "data": {
      "text/html": [
       "<div>\n",
       "<style scoped>\n",
       "    .dataframe tbody tr th:only-of-type {\n",
       "        vertical-align: middle;\n",
       "    }\n",
       "\n",
       "    .dataframe tbody tr th {\n",
       "        vertical-align: top;\n",
       "    }\n",
       "\n",
       "    .dataframe thead th {\n",
       "        text-align: right;\n",
       "    }\n",
       "</style>\n",
       "<table border=\"1\" class=\"dataframe\">\n",
       "  <thead>\n",
       "    <tr style=\"text-align: right;\">\n",
       "      <th></th>\n",
       "      <th>original</th>\n",
       "      <th>recommendation</th>\n",
       "      <th>score</th>\n",
       "    </tr>\n",
       "  </thead>\n",
       "  <tbody>\n",
       "    <tr>\n",
       "      <th>0</th>\n",
       "      <td>Observation of long-range near-side angular co...</td>\n",
       "      <td>Evidence for collectivity in pp collisions at ...</td>\n",
       "      <td>0.985051</td>\n",
       "    </tr>\n",
       "    <tr>\n",
       "      <th>1</th>\n",
       "      <td>Observation of long-range near-side angular co...</td>\n",
       "      <td>Baryon and meson screening masses</td>\n",
       "      <td>0.981358</td>\n",
       "    </tr>\n",
       "    <tr>\n",
       "      <th>2</th>\n",
       "      <td>Observation of long-range near-side angular co...</td>\n",
       "      <td>High Precision Measurement of the Proton Elast...</td>\n",
       "      <td>0.981115</td>\n",
       "    </tr>\n",
       "    <tr>\n",
       "      <th>3</th>\n",
       "      <td>Observation of long-range near-side angular co...</td>\n",
       "      <td>Direct Observation of Proton-Neutron Short-Ran...</td>\n",
       "      <td>0.980855</td>\n",
       "    </tr>\n",
       "    <tr>\n",
       "      <th>4</th>\n",
       "      <td>Observation of long-range near-side angular co...</td>\n",
       "      <td>In-medium minijet dissipation in Au+Au collisi...</td>\n",
       "      <td>0.979592</td>\n",
       "    </tr>\n",
       "  </tbody>\n",
       "</table>\n",
       "</div>"
      ],
      "text/plain": [
       "                                            original  \\\n",
       "0  Observation of long-range near-side angular co...   \n",
       "1  Observation of long-range near-side angular co...   \n",
       "2  Observation of long-range near-side angular co...   \n",
       "3  Observation of long-range near-side angular co...   \n",
       "4  Observation of long-range near-side angular co...   \n",
       "\n",
       "                                      recommendation     score  \n",
       "0  Evidence for collectivity in pp collisions at ...  0.985051  \n",
       "1                  Baryon and meson screening masses  0.981358  \n",
       "2  High Precision Measurement of the Proton Elast...  0.981115  \n",
       "3  Direct Observation of Proton-Neutron Short-Ran...  0.980855  \n",
       "4  In-medium minijet dissipation in Au+Au collisi...  0.979592  "
      ]
     },
     "execution_count": 26,
     "metadata": {},
     "output_type": "execute_result"
    }
   ],
   "source": [
    "read_query(\"\"\"\n",
    "MATCH (a:Article{id:\"1210.5482\"})-[s:SIMILAR]->(similar)\n",
    "RETURN a.title as original, similar.title as recommendation, s.score as score\n",
    "ORDER BY score DESC\n",
    "LIMIT 5\n",
    "\"\"\")"
   ]
  },
  {
   "cell_type": "markdown",
   "metadata": {},
   "source": [
    "And just like before, we can combine the similarity score and ArticleRank score to recommend more relevant articles."
   ]
  },
  {
   "cell_type": "code",
   "execution_count": 96,
   "metadata": {},
   "outputs": [
    {
     "data": {
      "text/html": [
       "<div>\n",
       "<style scoped>\n",
       "    .dataframe tbody tr th:only-of-type {\n",
       "        vertical-align: middle;\n",
       "    }\n",
       "\n",
       "    .dataframe tbody tr th {\n",
       "        vertical-align: top;\n",
       "    }\n",
       "\n",
       "    .dataframe thead th {\n",
       "        text-align: right;\n",
       "    }\n",
       "</style>\n",
       "<table border=\"1\" class=\"dataframe\">\n",
       "  <thead>\n",
       "    <tr style=\"text-align: right;\">\n",
       "      <th></th>\n",
       "      <th>original</th>\n",
       "      <th>recommendation</th>\n",
       "      <th>score</th>\n",
       "    </tr>\n",
       "  </thead>\n",
       "  <tbody>\n",
       "    <tr>\n",
       "      <th>0</th>\n",
       "      <td>Observation of long-range near-side angular co...</td>\n",
       "      <td>Centrality dependence of dihadron correlations...</td>\n",
       "      <td>0.973401</td>\n",
       "    </tr>\n",
       "    <tr>\n",
       "      <th>1</th>\n",
       "      <td>Observation of long-range near-side angular co...</td>\n",
       "      <td>Long-range and short-range dihadron angular co...</td>\n",
       "      <td>0.860485</td>\n",
       "    </tr>\n",
       "    <tr>\n",
       "      <th>2</th>\n",
       "      <td>Observation of long-range near-side angular co...</td>\n",
       "      <td>Evidence for collectivity in pp collisions at ...</td>\n",
       "      <td>0.547358</td>\n",
       "    </tr>\n",
       "    <tr>\n",
       "      <th>3</th>\n",
       "      <td>Observation of long-range near-side angular co...</td>\n",
       "      <td>Long-range two-particle correlations of strang...</td>\n",
       "      <td>0.338009</td>\n",
       "    </tr>\n",
       "    <tr>\n",
       "      <th>4</th>\n",
       "      <td>Observation of long-range near-side angular co...</td>\n",
       "      <td>Measurement of long-range near-side two-partic...</td>\n",
       "      <td>0.311173</td>\n",
       "    </tr>\n",
       "  </tbody>\n",
       "</table>\n",
       "</div>"
      ],
      "text/plain": [
       "                                            original  \\\n",
       "0  Observation of long-range near-side angular co...   \n",
       "1  Observation of long-range near-side angular co...   \n",
       "2  Observation of long-range near-side angular co...   \n",
       "3  Observation of long-range near-side angular co...   \n",
       "4  Observation of long-range near-side angular co...   \n",
       "\n",
       "                                      recommendation     score  \n",
       "0  Centrality dependence of dihadron correlations...  0.973401  \n",
       "1  Long-range and short-range dihadron angular co...  0.860485  \n",
       "2  Evidence for collectivity in pp collisions at ...  0.547358  \n",
       "3  Long-range two-particle correlations of strang...  0.338009  \n",
       "4  Measurement of long-range near-side two-partic...  0.311173  "
      ]
     },
     "execution_count": 96,
     "metadata": {},
     "output_type": "execute_result"
    }
   ],
   "source": [
    "read_query(\"\"\"\n",
    "MATCH (a:Article{id:\"1210.5482\"})-[s:SIMILAR]->(similar)\n",
    "RETURN a.title as original, similar.title as recommendation, \n",
    "       s.score * similar.articlerank_citation as score\n",
    "ORDER BY score DESC\n",
    "LIMIT 5\n",
    "\"\"\")"
   ]
  },
  {
   "cell_type": "code",
   "execution_count": null,
   "metadata": {},
   "outputs": [],
   "source": []
  }
 ],
 "metadata": {
  "kernelspec": {
   "display_name": "nlp",
   "language": "python",
   "name": "nlp"
  },
  "language_info": {
   "codemirror_mode": {
    "name": "ipython",
    "version": 3
   },
   "file_extension": ".py",
   "mimetype": "text/x-python",
   "name": "python",
   "nbconvert_exporter": "python",
   "pygments_lexer": "ipython3",
   "version": "3.7.9"
  }
 },
 "nbformat": 4,
 "nbformat_minor": 4
}
